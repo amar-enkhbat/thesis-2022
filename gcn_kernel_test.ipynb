{
 "cells": [
  {
   "cell_type": "code",
   "execution_count": 1,
   "metadata": {},
   "outputs": [],
   "source": [
    "import torch\n",
    "from utils import prepare_data\n",
    "from train import get_dataloaders\n",
    "import pandas as pd\n",
    "import numpy as np\n",
    "from params import PARAMS\n",
    "from sklearn.model_selection import train_test_split\n",
    "from models import GCNAuto\n",
    "from main import init_model_params\n",
    "\n",
    "from train import train_model_2\n",
    "from main import model_predict, print_classification_report"
   ]
  },
  {
   "cell_type": "code",
   "execution_count": 2,
   "metadata": {},
   "outputs": [],
   "source": [
    "import pickle\n",
    "from utils import plot_adj\n",
    "\n",
    "def kernel_picker(kernel_name, random_seed, results_path, device):\n",
    "    model = GCNAuto(kernel_type=kernel_name, \n",
    "    in_features=PARAMS['SEQ_LEN'], \n",
    "    n_nodes=PARAMS['N_CHANNELS'], \n",
    "    num_classes=PARAMS['N_CLASSES'], \n",
    "    hidden_sizes=PARAMS['GCNAUTO_HIDDEN_SIZES'], \n",
    "    dropout_p=PARAMS['GCNAUTO_DROPOUT_P'], \n",
    "    device=PARAMS['DEVICE'])\n",
    "\n",
    "    model = init_model_params(model, random_seed=random_seed)\n",
    "    \n",
    "    if 'ab' in kernel_name:\n",
    "        model.init_node_embeddings()\n",
    "        if results_path is not None:\n",
    "            pickle.dump(model.adj.cpu().detach().numpy(), open(f'{results_path}/untrained_adj.pickle', 'wb'))\n",
    "            plot_adj(model.adj.cpu().detach().numpy(), f'{results_path}/untrained_adj.png')\n",
    "\n",
    "    model = model.to(device)\n",
    "\n",
    "    return model"
   ]
  },
  {
   "cell_type": "code",
   "execution_count": 3,
   "metadata": {},
   "outputs": [
    {
     "name": "stderr",
     "output_type": "stream",
     "text": [
      "100%|██████████| 4/4 [45:01<00:00, 675.50s/it]"
     ]
    },
    {
     "name": "stdout",
     "output_type": "stream",
     "text": [
      "            accuracy  precision_macro  precision_weighted  recall_macro  \\\n",
      "model_name                                                                \n",
      "gcn-a       0.375625         0.377317            0.377781      0.374891   \n",
      "gcn-b       0.288750         0.289932            0.291385      0.291742   \n",
      "gcn-c       0.285625         0.292845            0.296160      0.285452   \n",
      "gcn-d       0.240000         0.163706            0.160699      0.251899   \n",
      "\n",
      "            recall_weighted     AUROC  n_params  accuracy_std  \\\n",
      "model_name                                                      \n",
      "gcn-a              0.375625  0.583108  358404.0      0.071412   \n",
      "gcn-b              0.288750  0.527639  358404.0      0.048038   \n",
      "gcn-c              0.285625  0.523931  358404.0      0.033263   \n",
      "gcn-d              0.240000  0.501137  358404.0      0.020658   \n",
      "\n",
      "            precision_macro_std  precision_weighted_std  recall_macro_std  \\\n",
      "model_name                                                                  \n",
      "gcn-a                  0.068864                0.070144          0.070409   \n",
      "gcn-b                  0.052426                0.055291          0.047405   \n",
      "gcn-c                  0.020333                0.022615          0.029750   \n",
      "gcn-d                  0.099775                0.101857          0.018610   \n",
      "\n",
      "            recall_weighted_std  \n",
      "model_name                       \n",
      "gcn-a                  0.071412  \n",
      "gcn-b                  0.048038  \n",
      "gcn-c                  0.033263  \n",
      "gcn-d                  0.020658  \n"
     ]
    },
    {
     "name": "stderr",
     "output_type": "stream",
     "text": [
      "\n"
     ]
    }
   ],
   "source": [
    "from datetime import datetime\n",
    "from tqdm import tqdm\n",
    "import os\n",
    "from main import  prepare_datasets, show_metrics, run_model\n",
    "\n",
    "\n",
    "kernel_names = ['a', 'b', 'c', 'd']\n",
    "dataset_names = [f'cross_subject_data_{i}_5_subjects' for i in range(5)]\n",
    "random_seeds = [0]\n",
    "\n",
    "time_now = datetime.now().strftime('%Y-%m-%d-%H-%M')\n",
    "for kernel_name in tqdm(kernel_names):\n",
    "    for dataset_name in dataset_names:\n",
    "        for random_seed in random_seeds:\n",
    "            results_path = os.path.join('output', time_now, f'gcn-{kernel_name}', dataset_name, str(random_seed))\n",
    "            os.makedirs(results_path, exist_ok=True)\n",
    "            with open(os.path.join('output', time_now, 'params.txt'), 'w') as f:\n",
    "                f.write(str(PARAMS))\n",
    "\n",
    "            dataloaders = prepare_datasets(random_seed, dataset_name, results_path)\n",
    "\n",
    "            model = kernel_picker(kernel_name, random_seed, results_path, device=PARAMS['DEVICE'])\n",
    "            run_model(random_seed, dataloaders, model, results_path)\n",
    "\n",
    "kernel_names = ['gcn-' + i for i in kernel_names]\n",
    "final_results = show_metrics(time_now, kernel_names, dataset_names, random_seeds)"
   ]
  },
  {
   "cell_type": "markdown",
   "metadata": {},
   "source": [
    "            accuracy  precision_macro  precision_weighted  recall_macro  \\\n",
    "model_name                                                                \n",
    "gcn-a       0.375625         0.377317            0.377781      0.374891   \n",
    "gcn-b       0.288750         0.289932            0.291385      0.291742   \n",
    "gcn-c       0.285625         0.292845            0.296160      0.285452   \n",
    "gcn-d       0.240000         0.163706            0.160699      0.251899   \n",
    "\n",
    "            recall_weighted     AUROC  n_params  accuracy_std  \\\n",
    "model_name                                                      \n",
    "gcn-a              0.375625  0.583108  358404.0      0.071412   \n",
    "gcn-b              0.288750  0.527639  358404.0      0.048038   \n",
    "gcn-c              0.285625  0.523931  358404.0      0.033263   \n",
    "gcn-d              0.240000  0.501137  358404.0      0.020658   \n",
    "\n",
    "            precision_macro_std  precision_weighted_std  recall_macro_std  \\\n",
    "model_name                                                                  \n",
    "gcn-a                  0.068864                0.070144          0.070409   \n",
    "gcn-b                  0.052426                0.055291          0.047405   \n",
    "gcn-c                  0.020333                0.022615          0.029750   \n",
    "gcn-d                  0.099775                0.101857          0.018610   \n",
    "\n",
    "            recall_weighted_std  \n",
    "model_name                       \n",
    "gcn-a                  0.071412  \n",
    "gcn-b                  0.048038  \n",
    "gcn-c                  0.033263  \n",
    "gcn-d                  0.020658  "
   ]
  },
  {
   "cell_type": "markdown",
   "metadata": {},
   "source": []
  }
 ],
 "metadata": {
  "interpreter": {
   "hash": "84c85347d78e9e1e10700c6d8e0f5eee9b662a9651d925575cf1524e055e4541"
  },
  "kernelspec": {
   "display_name": "Python 3.7.12 64-bit ('env': venv)",
   "language": "python",
   "name": "python3"
  },
  "language_info": {
   "codemirror_mode": {
    "name": "ipython",
    "version": 3
   },
   "file_extension": ".py",
   "mimetype": "text/x-python",
   "name": "python",
   "nbconvert_exporter": "python",
   "pygments_lexer": "ipython3",
   "version": "3.7.12"
  },
  "orig_nbformat": 4
 },
 "nbformat": 4,
 "nbformat_minor": 2
}
