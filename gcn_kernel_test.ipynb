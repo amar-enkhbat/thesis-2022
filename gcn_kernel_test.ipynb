{
 "cells": [
  {
   "cell_type": "code",
   "execution_count": 5,
   "metadata": {},
   "outputs": [],
   "source": [
    "import pickle\n",
    "from utils import plot_adj\n",
    "from params import PARAMS\n",
    "from models import GCNAuto\n",
    "from main import init_model_params\n",
    "from datetime import datetime\n",
    "from tqdm import tqdm\n",
    "import os\n",
    "from main import  prepare_datasets, show_metrics, run_model\n",
    "import seaborn as sns\n",
    "\n",
    "def kernel_picker(kernel_name, random_seed, results_path, device):\n",
    "    model = GCNAuto(kernel_type=kernel_name, \n",
    "    in_features=PARAMS['SEQ_LEN'], \n",
    "    n_nodes=PARAMS['N_CHANNELS'], \n",
    "    num_classes=PARAMS['N_CLASSES'], \n",
    "    hidden_sizes=PARAMS['GCNAUTO_HIDDEN_SIZES'], \n",
    "    dropout_p=PARAMS['GCNAUTO_DROPOUT_P'], \n",
    "    device=PARAMS['DEVICE'])\n",
    "\n",
    "    model = init_model_params(model, random_seed=random_seed)\n",
    "    if kernel_name in 'bc':\n",
    "        model.init_adj_diag()\n",
    "\n",
    "    pickle.dump(model.adj.cpu().detach().numpy(), open(f'{results_path}/untrained_adj.pickle', 'wb'))\n",
    "    plot_adj(model.adj.cpu().detach().numpy(), f'{results_path}/untrained_adj.png')\n",
    "\n",
    "    return model.to(device)"
   ]
  },
  {
   "cell_type": "code",
   "execution_count": 6,
   "metadata": {},
   "outputs": [
    {
     "name": "stderr",
     "output_type": "stream",
     "text": [
      "100%|██████████| 5/5 [02:55<00:00, 35.10s/it]"
     ]
    },
    {
     "name": "stdout",
     "output_type": "stream",
     "text": [
      "            accuracy  precision_macro  precision_weighted  recall_macro  \\\n",
      "model_name                                                                \n",
      "gcn-a        0.46750         0.481724            0.490201      0.473603   \n",
      "gcn-b        0.45000         0.454905            0.461571      0.454312   \n",
      "gcn-c        0.46000         0.481080            0.489043      0.465083   \n",
      "gcn-d        0.43250         0.438348            0.445052      0.434221   \n",
      "gcn-e        0.29375         0.299480            0.311099      0.296988   \n",
      "\n",
      "            recall_weighted     AUROC   n_params  accuracy_std  \\\n",
      "model_name                                                       \n",
      "gcn-a               0.46750  0.648635  1236996.0      0.030104   \n",
      "gcn-b               0.45000  0.635982  1236996.0      0.028641   \n",
      "gcn-c               0.46000  0.643046  1236996.0      0.063060   \n",
      "gcn-d               0.43250  0.622757  1236996.0      0.049093   \n",
      "gcn-e               0.29375  0.531384  1236996.0      0.021195   \n",
      "\n",
      "            precision_macro_std  precision_weighted_std  recall_macro_std  \\\n",
      "model_name                                                                  \n",
      "gcn-a                  0.031579                0.034643          0.041143   \n",
      "gcn-b                  0.028460                0.031633          0.031815   \n",
      "gcn-c                  0.055807                0.057012          0.062273   \n",
      "gcn-d                  0.045743                0.039660          0.058019   \n",
      "gcn-e                  0.055840                0.062624          0.020558   \n",
      "\n",
      "            recall_weighted_std  \n",
      "model_name                       \n",
      "gcn-a                  0.030104  \n",
      "gcn-b                  0.028641  \n",
      "gcn-c                  0.063060  \n",
      "gcn-d                  0.049093  \n",
      "gcn-e                  0.021195  \n"
     ]
    },
    {
     "name": "stderr",
     "output_type": "stream",
     "text": [
      "\n"
     ]
    }
   ],
   "source": [
    "kernel_names = ['a', 'b', 'c', 'd', 'e']\n",
    "dataset_names = [f'cross_subject_data_{i}_new_20_subjects' for i in range(5)]\n",
    "random_seeds = [0]\n",
    "\n",
    "time_now = datetime.now().strftime('%Y-%m-%d-%H-%M')\n",
    "for kernel_name in tqdm(kernel_names):\n",
    "    for dataset_name in dataset_names:\n",
    "        for random_seed in random_seeds:\n",
    "            results_path = os.path.join('output', time_now, f'gcn-{kernel_name}', dataset_name, str(random_seed))\n",
    "            os.makedirs(results_path, exist_ok=True)\n",
    "            with open(os.path.join('output', time_now, 'params.txt'), 'w') as f:\n",
    "                f.write(str(PARAMS))\n",
    "\n",
    "            dataloaders = prepare_datasets(random_seed, dataset_name, results_path)\n",
    "\n",
    "            model = kernel_picker(kernel_name, random_seed, results_path, device=PARAMS['DEVICE'])\n",
    "            run_model(random_seed, dataloaders, model, results_path)\n",
    "\n",
    "kernel_names = ['gcn-' + i for i in kernel_names]\n",
    "final_results = show_metrics(time_now, kernel_names, dataset_names, random_seeds)"
   ]
  },
  {
   "cell_type": "code",
   "execution_count": null,
   "metadata": {},
   "outputs": [],
   "source": []
  }
 ],
 "metadata": {
  "interpreter": {
   "hash": "84c85347d78e9e1e10700c6d8e0f5eee9b662a9651d925575cf1524e055e4541"
  },
  "kernelspec": {
   "display_name": "Python 3.7.12 64-bit ('env': venv)",
   "language": "python",
   "name": "python3"
  },
  "language_info": {
   "codemirror_mode": {
    "name": "ipython",
    "version": 3
   },
   "file_extension": ".py",
   "mimetype": "text/x-python",
   "name": "python",
   "nbconvert_exporter": "python",
   "pygments_lexer": "ipython3",
   "version": "3.7.12"
  },
  "orig_nbformat": 4
 },
 "nbformat": 4,
 "nbformat_minor": 2
}
