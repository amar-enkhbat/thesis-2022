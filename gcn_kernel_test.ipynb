{
 "cells": [
  {
   "cell_type": "code",
   "execution_count": 1,
   "metadata": {},
   "outputs": [],
   "source": [
    "import pickle\n",
    "from utils import plot_adj\n",
    "from params import PARAMS\n",
    "from models import GCNAuto\n",
    "from main import init_model_params\n",
    "from datetime import datetime\n",
    "from tqdm import tqdm\n",
    "import os\n",
    "from main import  prepare_datasets, show_metrics, run_model"
   ]
  },
  {
   "cell_type": "code",
   "execution_count": 2,
   "metadata": {},
   "outputs": [],
   "source": [
    "def kernel_picker(kernel_name, random_seed, results_path, device):\n",
    "    model = GCNAuto(kernel_type=kernel_name, \n",
    "    in_features=PARAMS['SEQ_LEN'], \n",
    "    n_nodes=PARAMS['N_CHANNELS'], \n",
    "    num_classes=PARAMS['N_CLASSES'], \n",
    "    hidden_sizes=PARAMS['GCNAUTO_HIDDEN_SIZES'], \n",
    "    dropout_p=PARAMS['GCNAUTO_DROPOUT_P'], \n",
    "    device=PARAMS['DEVICE'])\n",
    "\n",
    "    model = init_model_params(model, random_seed=random_seed)\n",
    "    if kernel_name in 'bc':\n",
    "        model.init_adj_diag()\n",
    "\n",
    "    pickle.dump(model.adj.cpu().detach().numpy(), open(f'{results_path}/untrained_adj.pickle', 'wb'))\n",
    "    plot_adj(model.adj.cpu().detach().numpy(), f'{results_path}/untrained_adj.png')\n",
    "\n",
    "    return model.to(device)"
   ]
  },
  {
   "cell_type": "code",
   "execution_count": 3,
   "metadata": {},
   "outputs": [],
   "source": [
    "def main():\n",
    "    kernel_names = ['a', 'b', 'c', 'd', 'e']\n",
    "    dataset_names = [f'cross_subject_data_{i}_new' for i in range(5)]\n",
    "    dataset_names = dataset_names[:1]\n",
    "    random_seeds = [0]\n",
    "\n",
    "    time_now = datetime.now().strftime('%Y-%m-%d-%H-%M')\n",
    "    for kernel_name in tqdm(kernel_names):\n",
    "        for dataset_name in dataset_names:\n",
    "            for random_seed in random_seeds:\n",
    "                results_path = os.path.join('output', time_now, f'gcn-{kernel_name}', dataset_name, str(random_seed))\n",
    "                os.makedirs(results_path, exist_ok=True)\n",
    "                with open(os.path.join('output', time_now, 'params.txt'), 'w') as f:\n",
    "                    f.write(str(PARAMS))\n",
    "\n",
    "                dataloaders = prepare_datasets(random_seed, dataset_name, results_path)\n",
    "\n",
    "                model = kernel_picker(kernel_name, random_seed, results_path, device=PARAMS['DEVICE'])\n",
    "                run_model(random_seed, dataloaders, model, results_path)\n",
    "\n",
    "    kernel_names = ['gcn-' + i for i in kernel_names]\n",
    "    final_results = show_metrics(time_now, kernel_names, dataset_names, random_seeds)"
   ]
  },
  {
   "cell_type": "code",
   "execution_count": 4,
   "metadata": {},
   "outputs": [],
   "source": [
    "def main():\n",
    "    kernel_names = ['a', 'b', 'c', 'd', 'e']\n",
    "    dataset_names = ['mnist_data']\n",
    "    dataset_names = dataset_names[:1]\n",
    "    random_seeds = [0]\n",
    "\n",
    "    time_now = datetime.now().strftime('%Y-%m-%d-%H-%M')\n",
    "    for kernel_name in tqdm(kernel_names):\n",
    "        for dataset_name in dataset_names:\n",
    "            for random_seed in random_seeds:\n",
    "                results_path = os.path.join('output', time_now, f'gcn-{kernel_name}', dataset_name, str(random_seed))\n",
    "                os.makedirs(results_path, exist_ok=True)\n",
    "                with open(os.path.join('output', time_now, 'params.txt'), 'w') as f:\n",
    "                    f.write(str(PARAMS))\n",
    "\n",
    "                dataloaders = prepare_datasets(random_seed, dataset_name, results_path)\n",
    "\n",
    "                model = kernel_picker(kernel_name, random_seed, results_path, device=PARAMS['DEVICE'])\n",
    "                run_model(random_seed, dataloaders, model, results_path)\n",
    "\n",
    "    kernel_names = ['gcn-' + i for i in kernel_names]\n",
    "    final_results = show_metrics(time_now, kernel_names, dataset_names, random_seeds)"
   ]
  },
  {
   "cell_type": "code",
   "execution_count": 5,
   "metadata": {},
   "outputs": [
    {
     "name": "stderr",
     "output_type": "stream",
     "text": [
      "100%|██████████| 5/5 [01:08<00:00, 13.70s/it]"
     ]
    },
    {
     "name": "stdout",
     "output_type": "stream",
     "text": [
      "            accuracy  precision_macro  precision_weighted  recall_macro  \\\n",
      "model_name                                                                \n",
      "gcn-a       0.902444         0.903049            0.904020      0.902056   \n",
      "gcn-b       0.878005         0.877341            0.878903      0.877425   \n",
      "gcn-c       0.766627         0.765180            0.767747      0.764876   \n",
      "gcn-d       0.808293         0.808524            0.810822      0.807580   \n",
      "gcn-e       0.884215         0.892124            0.893010      0.883504   \n",
      "\n",
      "            recall_weighted     AUROC   n_params  accuracy_std  \\\n",
      "model_name                                                       \n",
      "gcn-a              0.902444  0.945613  1209114.0           NaN   \n",
      "gcn-b              0.878005  0.931944  1209114.0           NaN   \n",
      "gcn-c              0.766627  0.869487  1209114.0           NaN   \n",
      "gcn-d              0.808293  0.893153  1209114.0           NaN   \n",
      "gcn-e              0.884215  0.935324  1209114.0           NaN   \n",
      "\n",
      "            precision_macro_std  precision_weighted_std  recall_macro_std  \\\n",
      "model_name                                                                  \n",
      "gcn-a                       NaN                     NaN               NaN   \n",
      "gcn-b                       NaN                     NaN               NaN   \n",
      "gcn-c                       NaN                     NaN               NaN   \n",
      "gcn-d                       NaN                     NaN               NaN   \n",
      "gcn-e                       NaN                     NaN               NaN   \n",
      "\n",
      "            recall_weighted_std  \n",
      "model_name                       \n",
      "gcn-a                       NaN  \n",
      "gcn-b                       NaN  \n",
      "gcn-c                       NaN  \n",
      "gcn-d                       NaN  \n",
      "gcn-e                       NaN  \n"
     ]
    },
    {
     "name": "stderr",
     "output_type": "stream",
     "text": [
      "\n"
     ]
    }
   ],
   "source": [
    "main()"
   ]
  },
  {
   "cell_type": "code",
   "execution_count": null,
   "metadata": {},
   "outputs": [],
   "source": []
  }
 ],
 "metadata": {
  "interpreter": {
   "hash": "84c85347d78e9e1e10700c6d8e0f5eee9b662a9651d925575cf1524e055e4541"
  },
  "kernelspec": {
   "display_name": "Python 3.7.12 64-bit ('env': venv)",
   "language": "python",
   "name": "python3"
  },
  "language_info": {
   "codemirror_mode": {
    "name": "ipython",
    "version": 3
   },
   "file_extension": ".py",
   "mimetype": "text/x-python",
   "name": "python",
   "nbconvert_exporter": "python",
   "pygments_lexer": "ipython3",
   "version": "3.7.12"
  },
  "orig_nbformat": 4
 },
 "nbformat": 4,
 "nbformat_minor": 2
}
