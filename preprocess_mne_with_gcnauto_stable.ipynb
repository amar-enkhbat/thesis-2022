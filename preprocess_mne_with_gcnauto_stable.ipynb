{
 "cells": [
  {
   "cell_type": "code",
   "execution_count": 1,
   "metadata": {},
   "outputs": [
    {
     "name": "stdout",
     "output_type": "stream",
     "text": [
      "[1, 2, 3, 4, 5, 6, 7, 8, 9, 10, 11, 12, 13, 14, 15, 16, 17, 18, 19, 20, 21, 22, 23, 24, 25, 26, 27, 28, 29, 30, 31, 32, 33, 34, 35, 36, 37, 38, 39, 40, 41, 42, 43, 44, 45, 46, 47, 48, 49, 50, 51, 52, 53, 54, 55, 56, 57, 58, 59, 60, 61, 62, 63, 64, 65, 66, 67, 68, 69, 70, 71, 72, 73, 74, 75, 76, 77, 78, 79, 80, 81, 82, 83, 84, 85, 86, 87, 90, 91, 93, 94, 95, 96, 97, 98, 99, 101, 102, 103, 104, 105, 106, 107, 108, 109]\n"
     ]
    }
   ],
   "source": [
    "import os\n",
    "import numpy as np\n",
    "from tqdm import tqdm\n",
    "import random\n",
    "\n",
    "from mne.channels import make_standard_montage\n",
    "from mne.io import read_raw_edf\n",
    "from mne.datasets import eegbci\n",
    "from mne import events_from_annotations, Epochs, pick_types, concatenate_epochs\n",
    "from mne.decoding import Scaler\n",
    "\n",
    "subjects = [i for i in range(1, 110)]\n",
    "exclusions = [88, 89, 92, 100]\n",
    "subjects = [i for i in subjects if i not in exclusions]\n",
    "\n",
    "# subjects = [99, 104, 3, 41, 109, 97]\n",
    "print(subjects)\n",
    "\n"
   ]
  },
  {
   "cell_type": "code",
   "execution_count": 2,
   "metadata": {},
   "outputs": [
    {
     "name": "stderr",
     "output_type": "stream",
     "text": [
      "100%|██████████| 105/105 [00:28<00:00,  3.67it/s]\n"
     ]
    }
   ],
   "source": [
    "\n",
    "\"\"\"\n",
    "4, 8, 12: Motor imagery: T1: left vs T2: right hand\n",
    "6, 10, 14: Motor imagery: T1: hands vs T2: feet\n",
    "\"\"\"\n",
    "\n",
    "\"\"\"\n",
    "0: left\n",
    "1: right\n",
    "2: fist\n",
    "3: feet\n",
    "\"\"\"\n",
    "\n",
    "# dataset_path = 'dataset/physionet.org/files/eegmmidb/1.0.0/S001/S001R01.edf'\n",
    "dataset_path = 'dataset/physionet.org/files/eegmmidb/1.0.0/'\n",
    "\n",
    "runs = [4, 6, 8, 10, 12, 14]  # motor imagery: hands vs feet\n",
    "\n",
    "delta = 1. / 160.\n",
    "\n",
    "whole_data = []\n",
    "whole_label = []\n",
    "\n",
    "for subject in tqdm(subjects):\n",
    "    subject_data = []\n",
    "    subject_label = []\n",
    "    for run in runs:\n",
    "        fname = os.path.join(dataset_path, f\"S{subject:03d}\", f\"S{subject:03d}R{run:02d}.edf\")\n",
    "        raw = read_raw_edf(fname, preload=True, verbose=False)\n",
    "        eegbci.standardize(raw)  # set channel names\n",
    "        montage = make_standard_montage('standard_1005')\n",
    "        raw.set_montage(montage)\n",
    "\n",
    "        # strip channel names of \".\" characters\n",
    "        raw.rename_channels(lambda x: x.strip('.'))\n",
    "\n",
    "        if run in [4, 8, 12]:\n",
    "            events, event_id = events_from_annotations(raw, event_id=dict(T1=0, T2=1), verbose=False)\n",
    "        elif run in [6, 10, 14]:\n",
    "            events, event_id = events_from_annotations(raw, event_id=dict(T1=2, T2=3), verbose=False)\n",
    "\n",
    "        picks = pick_types(raw.info, meg=False, eeg=True, stim=False, eog=False, exclude='bads')\n",
    "\n",
    "        delta = 1. / raw.info['sfreq']\n",
    "        epochs = Epochs(raw, events, event_id=event_id, tmin=0, tmax=100/160 - delta, baseline=None, preload=True, proj=False, picks=picks, verbose=False)\n",
    "        \n",
    "        data = epochs.get_data()\n",
    "        label = epochs.events[:, -1]\n",
    "\n",
    "        subject_data.append(data)\n",
    "        subject_label.append(label)\n",
    "\n",
    "    subject_data = np.vstack(subject_data)\n",
    "    subject_label = np.hstack(subject_label)\n",
    "    \n",
    "    whole_data.append(subject_data)\n",
    "    whole_label.append(subject_label)\n",
    "\n",
    "whole_data = np.vstack(whole_data).astype(np.float32)\n",
    "whole_label = np.hstack(whole_label)"
   ]
  },
  {
   "cell_type": "code",
   "execution_count": 3,
   "metadata": {},
   "outputs": [],
   "source": [
    "scaler = Scaler(scalings='mean')\n",
    "whole_data = scaler.fit_transform(whole_data)"
   ]
  },
  {
   "cell_type": "code",
   "execution_count": 4,
   "metadata": {},
   "outputs": [
    {
     "name": "stdout",
     "output_type": "stream",
     "text": [
      "Data sizes:\n",
      "Train sizes:\n",
      "(7558, 64, 100)\n",
      "(7558,)\n",
      "Valid sizes:\n",
      "(945, 64, 100)\n",
      "(945,)\n",
      "Test sizes:\n",
      "(945, 64, 100)\n",
      "(945,)\n"
     ]
    }
   ],
   "source": [
    "from sklearn.model_selection import train_test_split\n",
    "from params import PARAMS\n",
    "from train import get_dataloaders\n",
    "\n",
    "random_seed = 0\n",
    "X_train, X_test, y_train, y_test = train_test_split(whole_data, whole_label, test_size=PARAMS['TEST_SIZE'], shuffle=True, random_state=random_seed)\n",
    "X_train, X_valid, y_train, y_valid = train_test_split(X_train, y_train, test_size=PARAMS['VALID_SIZE'], shuffle=True, random_state=random_seed)\n",
    "print('Data sizes:')\n",
    "print('Train sizes:')\n",
    "print(X_train.shape)\n",
    "print(y_train.shape)\n",
    "print('Valid sizes:')\n",
    "print(X_valid.shape)\n",
    "print(y_valid.shape)\n",
    "print('Test sizes:')\n",
    "print(X_test.shape)\n",
    "print(y_test.shape)\n",
    "\n",
    "dataloaders = get_dataloaders(X_train, y_train, X_valid, y_valid, X_test, y_test, PARAMS['BATCH_SIZE'], random_seed=random_seed, device=PARAMS['DEVICE'])"
   ]
  },
  {
   "cell_type": "code",
   "execution_count": 5,
   "metadata": {},
   "outputs": [
    {
     "name": "stdout",
     "output_type": "stream",
     "text": [
      "train() called: model=GCNAuto, opt=Adam(lr=0.001000), epochs=100, device=cuda\n",
      "\n",
      "Epoch   1/100, LR: 0.0010, train loss: 1.5440, train acc: 0.4816, val loss: 1.1089, val acc: 0.5388\n",
      "Epoch  10/100, LR: 0.0010, train loss: 1.1143, train acc: 0.5630, val loss: 1.1015, val acc: 0.5614\n",
      "Epoch  20/100, LR: 0.0009, train loss: 0.7707, train acc: 0.6947, val loss: 1.1669, val acc: 0.5539\n",
      "Epoch  30/100, LR: 0.0008, train loss: 0.6232, train acc: 0.7561, val loss: 1.5204, val acc: 0.5603\n",
      "Epoch  40/100, LR: 0.0007, train loss: 0.4237, train acc: 0.8506, val loss: 2.1610, val acc: 0.5765\n",
      "Epoch  50/100, LR: 0.0007, train loss: 0.2417, train acc: 0.9206, val loss: 3.3381, val acc: 0.5517\n",
      "Epoch  60/100, LR: 0.0006, train loss: 0.0937, train acc: 0.9706, val loss: 3.3786, val acc: 0.5603\n",
      "Epoch  70/100, LR: 0.0005, train loss: 0.0751, train acc: 0.9780, val loss: 4.5081, val acc: 0.5668\n",
      "Epoch  80/100, LR: 0.0005, train loss: 0.0872, train acc: 0.9842, val loss: 5.2801, val acc: 0.5754\n",
      "Epoch  90/100, LR: 0.0004, train loss: 0.0337, train acc: 0.9889, val loss: 4.8205, val acc: 0.6056\n",
      "Epoch 100/100, LR: 0.0003, train loss: 0.0576, train acc: 0.9824, val loss: 6.3125, val acc: 0.5657\n",
      "\n",
      "Time total:     303.38 sec\n",
      "Time per epoch:  3.03 sec\n",
      "Best val Acc: 0.605603\n"
     ]
    }
   ],
   "source": [
    "from models import GCNAuto\n",
    "from main import init_model_params\n",
    "import torch\n",
    "from train import train_model_2\n",
    "\n",
    "RANDOM_SEED = random_seed\n",
    "N_EPOCHS = 100\n",
    "\n",
    "\n",
    "model = GCNAuto(kernel_type='a',\n",
    "        in_features=PARAMS['SEQ_LEN'], \n",
    "        n_nodes=PARAMS['N_CHANNELS'], \n",
    "        num_classes=PARAMS['N_CLASSES'], \n",
    "        hidden_sizes=PARAMS['GCNAUTO_HIDDEN_SIZES'], \n",
    "        dropout_p=PARAMS['GCNAUTO_DROPOUT_P'], \n",
    "        device=PARAMS['DEVICE'])\n",
    "\n",
    "model = init_model_params(model, random_seed=RANDOM_SEED)\n",
    "model.init_node_embeddings()\n",
    "\n",
    "model = model.to(PARAMS['DEVICE'])\n",
    "\n",
    "criterion = torch.nn.CrossEntropyLoss()\n",
    "optimizer = torch.optim.Adam(model.parameters(), lr=PARAMS['LR'])\n",
    "scheduler = torch.optim.lr_scheduler.StepLR(optimizer, step_size=10, gamma=0.9)\n",
    "\n",
    "# best_model, history = train_model(dataloaders, dataset_sizes, model, criterion, optimizer, scheduler, PARAMS['N_EPOCHS'], random_seed=random_seed)\n",
    "best_model, history = train_model_2(model, optimizer, scheduler, criterion, dataloaders['train'], dataloaders['val'], N_EPOCHS, RANDOM_SEED, PARAMS['DEVICE'], verbose=True)\n",
    "best_model = best_model.to(PARAMS['DEVICE'])"
   ]
  },
  {
   "cell_type": "code",
   "execution_count": 6,
   "metadata": {},
   "outputs": [],
   "source": [
    "adj = best_model.adj.cpu().detach().numpy()"
   ]
  },
  {
   "cell_type": "code",
   "execution_count": 7,
   "metadata": {},
   "outputs": [
    {
     "data": {
      "text/plain": [
       "<AxesSubplot:>"
      ]
     },
     "execution_count": 7,
     "metadata": {},
     "output_type": "execute_result"
    },
    {
     "data": {
      "image/png": "[encoded data removed]",
      "text/plain": [
       "<Figure size 432x288 with 2 Axes>"
      ]
     },
     "metadata": {
      "needs_background": "light"
     },
     "output_type": "display_data"
    }
   ],
   "source": [
    "import seaborn as sns\n",
    "sns.heatmap(adj)"
   ]
  },
  {
   "cell_type": "code",
   "execution_count": 8,
   "metadata": {},
   "outputs": [],
   "source": [
    "from main import model_predict, print_classification_report\n",
    "\n",
    "y_preds, y_test = model_predict(best_model, test_loader=dataloaders['test'])\n",
    "\n",
    "cr, cm, auroc = print_classification_report(y_test, y_preds, PARAMS['N_CLASSES'])"
   ]
  },
  {
   "cell_type": "code",
   "execution_count": 9,
   "metadata": {},
   "outputs": [
    {
     "name": "stdout",
     "output_type": "stream",
     "text": [
      "{'0': {'precision': 0.6058091286307054, 'recall': 0.6431718061674009, 'f1-score': 0.6239316239316239, 'support': 227}, '1': {'precision': 0.5575221238938053, 'recall': 0.5806451612903226, 'f1-score': 0.5688487584650113, 'support': 217}, '2': {'precision': 0.45901639344262296, 'recall': 0.47257383966244726, 'f1-score': 0.46569646569646567, 'support': 237}, '3': {'precision': 0.5483870967741935, 'recall': 0.4817813765182186, 'f1-score': 0.5129310344827587, 'support': 247}, 'accuracy': 0.5420258620689655, 'macro avg': {'precision': 0.5426836856853318, 'recall': 0.5445430459095973, 'f1-score': 0.542851970643965, 'support': 928}, 'weighted avg': {'precision': 0.5417451198634196, 'recall': 0.5420258620689655, 'f1-score': 0.5410955680028985, 'support': 928}}\n"
     ]
    }
   ],
   "source": [
    "print(cr)"
   ]
  },
  {
   "cell_type": "code",
   "execution_count": 10,
   "metadata": {},
   "outputs": [
    {
     "name": "stdout",
     "output_type": "stream",
     "text": [
      "0.6958838757340282\n"
     ]
    }
   ],
   "source": [
    "print(auroc)"
   ]
  },
  {
   "cell_type": "code",
   "execution_count": 11,
   "metadata": {},
   "outputs": [
    {
     "data": {
      "text/plain": [
       "<AxesSubplot:>"
      ]
     },
     "execution_count": 11,
     "metadata": {},
     "output_type": "execute_result"
    },
    {
     "data": {
      "image/png": "[encoded data removed]",
      "text/plain": [
       "<Figure size 432x288 with 2 Axes>"
      ]
     },
     "metadata": {
      "needs_background": "light"
     },
     "output_type": "display_data"
    }
   ],
   "source": [
    "sns.heatmap(cm, annot=True, fmt='g')"
   ]
  },
  {
   "cell_type": "code",
   "execution_count": null,
   "metadata": {},
   "outputs": [],
   "source": []
  }
 ],
 "metadata": {
  "interpreter": {
   "hash": "84c85347d78e9e1e10700c6d8e0f5eee9b662a9651d925575cf1524e055e4541"
  },
  "kernelspec": {
   "display_name": "Python 3.7.12 64-bit ('env': venv)",
   "language": "python",
   "name": "python3"
  },
  "language_info": {
   "codemirror_mode": {
    "name": "ipython",
    "version": 3
   },
   "file_extension": ".py",
   "mimetype": "text/x-python",
   "name": "python",
   "nbconvert_exporter": "python",
   "pygments_lexer": "ipython3",
   "version": "3.7.12"
  },
  "orig_nbformat": 4
 },
 "nbformat": 4,
 "nbformat_minor": 2
}
