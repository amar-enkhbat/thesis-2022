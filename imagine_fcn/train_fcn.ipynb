{
 "cells": [
  {
   "cell_type": "code",
   "execution_count": 1,
   "source": [
    "import os\n",
    "import random\n",
    "import torch\n",
    "from torch import nn\n",
    "from torch.utils.data import TensorDataset, Dataset\n",
    "\n",
    "from torchvision import transforms\n",
    "import numpy as np \n",
    "import pickle\n",
    "import matplotlib.pyplot as plt\n",
    "import time\n",
    "import copy\n",
    "\n",
    "from sklearn.model_selection import train_test_split\n",
    "device = torch.device('cuda' if torch.cuda.is_available() else 'cpu')\n",
    "\n",
    "random_seed = 1\n",
    "random.seed(random_seed)\n",
    "np.random.seed(random_seed)\n",
    "\n",
    "from torch.utils.tensorboard import SummaryWriter\n",
    "writer = SummaryWriter('runs/fcn')"
   ],
   "outputs": [],
   "metadata": {}
  },
  {
   "cell_type": "code",
   "execution_count": 2,
   "source": [
    "class PhysionetDataset(Dataset):\n",
    "    def __init__(self, dataset_path, train=True, debug=False, label_encoding=True, split=True):\n",
    "        \"\"\"\n",
    "        Args:\n",
    "            dataset_dir (string): Path to Physionet MMI dataset (imagine only) with .pickle extensions\n",
    "        \"\"\"\n",
    "        self.label_map = {'imagine_both_feet': 0, 'imagine_both_fist': 1, 'imagine_left_fist': 2, 'imagine_right_fist': 3}\n",
    "\n",
    "        self.X = pickle.load(open(dataset_path, 'rb'))\n",
    "        self.y = self.X['train_y']\n",
    "        self.X = self.X['train_x']\n",
    "\n",
    "        if label_encoding:\n",
    "            self.y = np.vectorize(self.label_map.__getitem__)(self.y)\n",
    "\n",
    "        if debug:\n",
    "            self.y = self.y[:1000]\n",
    "            self.X = self.X[:1000]\n",
    "\n",
    "        if split:\n",
    "            self.X_train, self.X_test, self.y_train, self.y_test = train_test_split(self.X, self.y, test_size=0.2, shuffle=True, random_state=random_seed, stratify=self.y)\n",
    "\n",
    "    def __len__(self):\n",
    "        return len(self.y)\n",
    "\n",
    "    def __getitem__(self, idx):\n",
    "        # if torch.is_tensor(idx):\n",
    "        #     idx = idx.tolist()\n",
    "\n",
    "        sample = self.X[idx], self.y[idx]\n",
    "        return sample\n",
    "\n",
    "    def get_labels(self):\n",
    "        return np.unique(self.y)"
   ],
   "outputs": [],
   "metadata": {}
  },
  {
   "cell_type": "code",
   "execution_count": 3,
   "source": [
    "X = pickle.load(open('../dataset/train/cross_subject_data_5_subjects.pickle', 'rb'))\n",
    "y = X['train_y']\n",
    "\n",
    "X = X['train_x'].astype(np.float32)\n",
    "\n",
    "label_map = {'imagine_both_feet': 0, 'imagine_both_fist': 1, 'imagine_left_fist': 2, 'imagine_right_fist': 3}\n",
    "y = np.vectorize(label_map.__getitem__)(y)"
   ],
   "outputs": [],
   "metadata": {}
  },
  {
   "cell_type": "code",
   "execution_count": 4,
   "source": [
    "X_train, X_test, y_train, y_test = train_test_split(X, y, test_size=0.2, random_state=random_seed, stratify=y)\n",
    "def print_class_dist(y):\n",
    "    dist = {}\n",
    "\n",
    "    labels = np.unique(y)\n",
    "    for label in labels:\n",
    "        dist[str(label)] = len(y[y == label]) / len(y)\n",
    "    print(dist)\n",
    "print_class_dist(y)\n",
    "print_class_dist(y_train)\n",
    "print_class_dist(y_test)"
   ],
   "outputs": [
    {
     "output_type": "stream",
     "name": "stdout",
     "text": [
      "{'0': 0.2467187330513071, '1': 0.2532812669486929, '2': 0.2577286039700618, '3': 0.24227139602993816}\n",
      "{'0': 0.246718303771938, '1': 0.253281696228062, '2': 0.2577264984788522, '3': 0.24227350152114777}\n",
      "{'0': 0.24672045015423205, '1': 0.25327954984576795, '2': 0.25773702586353003, '3': 0.24226297413646994}\n"
     ]
    }
   ],
   "metadata": {}
  },
  {
   "cell_type": "code",
   "execution_count": 5,
   "source": [
    "# Normalize\n",
    "mean, std = X_train.mean(), X_train.std()\n",
    "X_train = (X_train - mean) / std\n",
    "X_test = (X_test - mean) / std"
   ],
   "outputs": [],
   "metadata": {}
  },
  {
   "cell_type": "code",
   "execution_count": 6,
   "source": [
    "batch_size = 64\n",
    "\n",
    "X_train, y_train = torch.tensor(X_train).to(device), torch.tensor(y_train).to(device)\n",
    "X_test, y_test = torch.tensor(X_test).to(device), torch.tensor(y_test).to(device)\n",
    "\n",
    "train_dataset = TensorDataset(X_train, y_train)\n",
    "test_dataset = TensorDataset(X_test, y_test)\n",
    "\n",
    "train_loader = torch.utils.data.DataLoader(train_dataset, batch_size=batch_size, shuffle=True)\n",
    "test_loader = torch.utils.data.DataLoader(test_dataset, batch_size=batch_size)\n",
    "\n",
    "dataset_sizes = {'train': len(train_dataset), 'val': len(test_dataset)}\n",
    "dataloaders = {'train': train_loader, 'val': test_loader}\n",
    "class_names = list(label_map.keys())\n",
    "print(class_names)"
   ],
   "outputs": [
    {
     "output_type": "stream",
     "name": "stdout",
     "text": [
      "['imagine_both_feet', 'imagine_both_fist', 'imagine_left_fist', 'imagine_right_fist']\n"
     ]
    }
   ],
   "metadata": {}
  },
  {
   "cell_type": "code",
   "execution_count": 7,
   "source": [
    "def train_model(model, criterion, optimizer, num_epochs=25):\n",
    "    since = time.time()\n",
    "\n",
    "    best_model_wts = copy.deepcopy(model.state_dict())\n",
    "    best_acc = 0.0\n",
    "\n",
    "    for epoch in range(num_epochs):\n",
    "        print(f'Epoch {epoch}/{num_epochs-1}')\n",
    "        print('-' * 10)\n",
    "\n",
    "        for phase in ['train', 'val']:\n",
    "            if phase == 'train':\n",
    "                model.train()\n",
    "            else:\n",
    "                model.eval()\n",
    "\n",
    "            running_loss = 0.0\n",
    "            running_corrects = 0.0\n",
    "\n",
    "            for inputs, labels in dataloaders[phase]:\n",
    "                inputs = inputs.to(device)\n",
    "                labels = labels.to(device)\n",
    "\n",
    "                with torch.set_grad_enabled(phase == 'train'):\n",
    "                    outputs = model(inputs)\n",
    "                    _, preds = torch.max(outputs, 1)\n",
    "                    loss = criterion(outputs, labels)\n",
    "\n",
    "                    if phase == 'train':\n",
    "                        optimizer.zero_grad()\n",
    "                        loss.backward()\n",
    "                        optimizer.step()\n",
    "\n",
    "                running_loss += loss.item() * inputs.size(0)\n",
    "                running_corrects += torch.sum(preds == labels.data)\n",
    "\n",
    "            epoch_loss = running_loss / dataset_sizes[phase]\n",
    "            epoch_acc = running_corrects.double() / dataset_sizes[phase]\n",
    "            writer.add_scalar(f'{phase} loss', epoch_loss, epoch)\n",
    "            writer.add_scalar(f'{phase} accuracy', epoch_acc, epoch)\n",
    "\n",
    "            print(f'{phase} Loss: {epoch_loss:.4f} Acc: {epoch_acc:.4f}')\n",
    "\n",
    "            if phase == 'val' and epoch_acc > best_acc:\n",
    "                best_acc = epoch_acc\n",
    "                best_model_wts = copy.deepcopy(model.state_dict())\n",
    "\n",
    "        print()\n",
    "\n",
    "    time_elapsed = time.time() - since\n",
    "    print(f'Training complete in {time_elapsed // 60:.0f}m {time_elapsed%60:.0f}s')\n",
    "    print(f'Best val acc: {best_acc:.4f}')\n",
    "\n",
    "    model.load_state_dict(best_model_wts)\n",
    "    return model"
   ],
   "outputs": [],
   "metadata": {}
  },
  {
   "cell_type": "code",
   "execution_count": 8,
   "source": [
    "input_size = 64\n",
    "hidden_size_1 = 512\n",
    "hidden_size_2 = 512\n",
    "num_classes = 4\n",
    "num_epochs = 10\n",
    "batch_size = 100\n",
    "\n",
    "class FCN(nn.Module):\n",
    "    def __init__(self, input_size, hidden_size_1, hidden_size_2, num_classes):\n",
    "        super(FCN, self).__init__()\n",
    "        self.relu1 = nn.ReLU()\n",
    "        self.relu2 = nn.ReLU()\n",
    "        self.l1 = nn.Linear(input_size, hidden_size_1)\n",
    "        self.l2 = nn.Linear(hidden_size_1, hidden_size_2)\n",
    "        self.l3 = nn.Linear(hidden_size_2, num_classes)\n",
    "    def forward(self, x):\n",
    "        out = self.l1(x)\n",
    "        out = self.relu1(out)\n",
    "        out = self.l2(out)\n",
    "        out = self.relu1(out)\n",
    "        out = self.l3(out)\n",
    "        return out\n",
    "\n",
    "model = FCN(input_size, hidden_size_1, hidden_size_2, num_classes).to(device)\n",
    "criterion = nn.CrossEntropyLoss()\n",
    "optimizer = torch.optim.Adam(model.parameters())\n",
    "\n",
    "writer.add_graph(model, X_train[0])\n",
    "\n",
    "model = train_model(model, criterion, optimizer, num_epochs=20)"
   ],
   "outputs": [
    {
     "output_type": "stream",
     "name": "stdout",
     "text": [
      "Epoch 0/19\n",
      "----------\n",
      "train Loss: 1.1334 Acc: 0.4573\n",
      "val Loss: 0.9631 Acc: 0.5585\n",
      "\n",
      "Epoch 1/19\n",
      "----------\n",
      "train Loss: 0.8542 Acc: 0.6149\n",
      "val Loss: 0.7471 Acc: 0.6660\n",
      "\n",
      "Epoch 2/19\n",
      "----------\n",
      "train Loss: 0.7065 Acc: 0.6873\n",
      "val Loss: 0.6977 Acc: 0.6898\n",
      "\n",
      "Epoch 3/19\n",
      "----------\n",
      "train Loss: 0.6336 Acc: 0.7209\n",
      "val Loss: 0.6320 Acc: 0.7205\n",
      "\n",
      "Epoch 4/19\n",
      "----------\n",
      "train Loss: 0.5868 Acc: 0.7443\n",
      "val Loss: 0.6078 Acc: 0.7310\n",
      "\n",
      "Epoch 5/19\n",
      "----------\n",
      "train Loss: 0.5488 Acc: 0.7629\n",
      "val Loss: 0.5926 Acc: 0.7391\n",
      "\n",
      "Epoch 6/19\n",
      "----------\n",
      "train Loss: 0.5213 Acc: 0.7772\n",
      "val Loss: 0.5654 Acc: 0.7512\n",
      "\n",
      "Epoch 7/19\n",
      "----------\n",
      "train Loss: 0.4952 Acc: 0.7897\n",
      "val Loss: 0.5676 Acc: 0.7537\n",
      "\n",
      "Epoch 8/19\n",
      "----------\n",
      "train Loss: 0.4736 Acc: 0.8007\n",
      "val Loss: 0.5535 Acc: 0.7621\n",
      "\n",
      "Epoch 9/19\n",
      "----------\n",
      "train Loss: 0.4513 Acc: 0.8107\n",
      "val Loss: 0.5758 Acc: 0.7633\n",
      "\n",
      "Epoch 10/19\n",
      "----------\n",
      "train Loss: 0.4370 Acc: 0.8188\n",
      "val Loss: 0.5476 Acc: 0.7686\n",
      "\n",
      "Epoch 11/19\n",
      "----------\n",
      "train Loss: 0.4176 Acc: 0.8281\n",
      "val Loss: 0.5436 Acc: 0.7737\n",
      "\n",
      "Epoch 12/19\n",
      "----------\n",
      "train Loss: 0.4007 Acc: 0.8359\n",
      "val Loss: 0.5523 Acc: 0.7742\n",
      "\n",
      "Epoch 13/19\n",
      "----------\n",
      "train Loss: 0.3856 Acc: 0.8434\n",
      "val Loss: 0.5545 Acc: 0.7751\n",
      "\n",
      "Epoch 14/19\n",
      "----------\n",
      "train Loss: 0.3655 Acc: 0.8510\n",
      "val Loss: 0.5744 Acc: 0.7741\n",
      "\n",
      "Epoch 15/19\n",
      "----------\n",
      "train Loss: 0.3560 Acc: 0.8567\n",
      "val Loss: 0.5698 Acc: 0.7760\n",
      "\n",
      "Epoch 16/19\n",
      "----------\n",
      "train Loss: 0.3425 Acc: 0.8632\n",
      "val Loss: 0.5968 Acc: 0.7727\n",
      "\n",
      "Epoch 17/19\n",
      "----------\n",
      "train Loss: 0.3345 Acc: 0.8682\n",
      "val Loss: 0.6030 Acc: 0.7707\n",
      "\n",
      "Epoch 18/19\n",
      "----------\n",
      "train Loss: 0.3218 Acc: 0.8745\n",
      "val Loss: 0.5697 Acc: 0.7878\n",
      "\n",
      "Epoch 19/19\n",
      "----------\n",
      "train Loss: 0.3054 Acc: 0.8797\n",
      "val Loss: 0.5937 Acc: 0.7824\n",
      "\n",
      "Training complete in 2m 45s\n",
      "Best val acc: 0.7878\n"
     ]
    }
   ],
   "metadata": {}
  },
  {
   "cell_type": "code",
   "execution_count": 11,
   "source": [
    "_, y_pred = torch.max(model(X_test), 1)"
   ],
   "outputs": [
    {
     "output_type": "execute_result",
     "data": {
      "text/plain": [
       "tensor([1, 0, 0,  ..., 3, 3, 0], device='cuda:0')"
      ]
     },
     "metadata": {},
     "execution_count": 11
    }
   ],
   "metadata": {}
  },
  {
   "cell_type": "code",
   "execution_count": 55,
   "source": [
    "from sklearn.metrics import classification_report, confusion_matrix, roc_auc_score\n",
    "cr = classification_report(y_test.cpu().numpy(), y_pred.cpu().numpy())\n",
    "print(cr)\n",
    "\n",
    "cm = confusion_matrix(y_test.cpu().numpy(), y_pred.cpu().numpy())\n",
    "print(cm)\n",
    "\n",
    "y_pred_ohe = np.zeros((y_pred.size(0), num_classes))\n",
    "for i, j in enumerate(y_pred):\n",
    "    y_pred_ohe[i, j] = 1\n",
    "\n",
    "y_test_ohe = np.zeros((y_test.size(0), num_classes))\n",
    "for i, j in enumerate(y_test):\n",
    "    y_test_ohe[i, j] = 1\n",
    "auroc = roc_auc_score(y_test_ohe, y_pred_ohe, multi_class='ovo')\n",
    "writer.add_scalar('AUROC OvO', auroc)\n",
    "print('AUROC ovo:', auroc)\n",
    "auroc = roc_auc_score(y_test_ohe, y_pred_ohe, multi_class='ovr')\n",
    "writer.add_scalar('AUROC OvR', auroc)\n",
    "print('AUROC ovr:', auroc)"
   ],
   "outputs": [
    {
     "output_type": "stream",
     "name": "stdout",
     "text": [
      "              precision    recall  f1-score   support\n",
      "\n",
      "           0       0.77      0.79      0.78     14557\n",
      "           1       0.77      0.81      0.79     14944\n",
      "           2       0.81      0.78      0.80     15207\n",
      "           3       0.80      0.77      0.79     14294\n",
      "\n",
      "    accuracy                           0.79     59002\n",
      "   macro avg       0.79      0.79      0.79     59002\n",
      "weighted avg       0.79      0.79      0.79     59002\n",
      "\n",
      "[[11456  1488   842   771]\n",
      " [ 1304 12099   778   763]\n",
      " [ 1049  1095 11924  1139]\n",
      " [  998  1130  1165 11001]]\n",
      "AUROC ovo: 0.858410325586389\n",
      "AUROC ovr: 0.858410325586389\n"
     ]
    }
   ],
   "metadata": {}
  },
  {
   "cell_type": "code",
   "execution_count": 45,
   "source": [
    "{str(v): k for k, v in label_map.items()}"
   ],
   "outputs": [
    {
     "output_type": "execute_result",
     "data": {
      "text/plain": [
       "{'0': 'imagine_both_feet',\n",
       " '1': 'imagine_both_fist',\n",
       " '2': 'imagine_left_fist',\n",
       " '3': 'imagine_right_fist'}"
      ]
     },
     "metadata": {},
     "execution_count": 45
    }
   ],
   "metadata": {}
  },
  {
   "cell_type": "code",
   "execution_count": 66,
   "source": [
    "import seaborn as sns\n",
    "import pandas as pd\n",
    "import io\n",
    "\n",
    "figure = plt.figure(figsize=(7, 5))\n",
    "cm_df = pd.DataFrame(cm, columns=class_names, index=class_names)\n",
    "sns.heatmap(cm_df, annot=True, fmt='g')\n",
    "plt.ylabel('True')\n",
    "plt.xlabel('Pred')\n",
    "plt.tight_layout()\n",
    "plt.savefig('runs/fcn/cm.png')\n",
    "plt.show()"
   ],
   "outputs": [
    {
     "output_type": "display_data",
     "data": {
      "text/plain": [
       "<Figure size 504x360 with 2 Axes>"
      ],
      "image/png": "[encoded data removed]"
     },
     "metadata": {
      "needs_background": "light"
     }
    }
   ],
   "metadata": {}
  },
  {
   "cell_type": "code",
   "execution_count": 2,
   "source": [
    "for param in model.parameters():\n",
    "    print(len(param))"
   ],
   "outputs": [
    {
     "output_type": "error",
     "ename": "NameError",
     "evalue": "name 'model' is not defined",
     "traceback": [
      "\u001b[0;31m---------------------------------------------------------------------------\u001b[0m",
      "\u001b[0;31mNameError\u001b[0m                                 Traceback (most recent call last)",
      "\u001b[0;32m<ipython-input-2-440fbbe6f1c2>\u001b[0m in \u001b[0;36m<module>\u001b[0;34m\u001b[0m\n\u001b[0;32m----> 1\u001b[0;31m \u001b[0;32mfor\u001b[0m \u001b[0mparam\u001b[0m \u001b[0;32min\u001b[0m \u001b[0mmodel\u001b[0m\u001b[0;34m.\u001b[0m\u001b[0mparameters\u001b[0m\u001b[0;34m(\u001b[0m\u001b[0;34m)\u001b[0m\u001b[0;34m:\u001b[0m\u001b[0;34m\u001b[0m\u001b[0;34m\u001b[0m\u001b[0m\n\u001b[0m\u001b[1;32m      2\u001b[0m     \u001b[0mprint\u001b[0m\u001b[0;34m(\u001b[0m\u001b[0mlen\u001b[0m\u001b[0;34m(\u001b[0m\u001b[0mparam\u001b[0m\u001b[0;34m)\u001b[0m\u001b[0;34m)\u001b[0m\u001b[0;34m\u001b[0m\u001b[0;34m\u001b[0m\u001b[0m\n",
      "\u001b[0;31mNameError\u001b[0m: name 'model' is not defined"
     ]
    }
   ],
   "metadata": {}
  },
  {
   "cell_type": "code",
   "execution_count": null,
   "source": [],
   "outputs": [],
   "metadata": {}
  }
 ],
 "metadata": {
  "orig_nbformat": 4,
  "language_info": {
   "name": "python",
   "version": "3.7.10",
   "mimetype": "text/x-python",
   "codemirror_mode": {
    "name": "ipython",
    "version": 3
   },
   "pygments_lexer": "ipython3",
   "nbconvert_exporter": "python",
   "file_extension": ".py"
  },
  "kernelspec": {
   "name": "python3",
   "display_name": "Python 3.7.10 64-bit ('env': venv)"
  },
  "interpreter": {
   "hash": "6a647b8c8fb6b9194b82e32092c9482e7e42dcb66eef6eb2ec21ed1080262273"
  }
 },
 "nbformat": 4,
 "nbformat_minor": 2
}