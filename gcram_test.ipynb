{
 "cells": [
  {
   "cell_type": "code",
   "execution_count": 1,
   "metadata": {},
   "outputs": [],
   "source": [
    "import os\n",
    "import numpy as np\n",
    "from tqdm import tqdm\n",
    "import random\n",
    "import json\n",
    "import pickle\n",
    "\n",
    "from sklearn.model_selection import train_test_split\n",
    "from params import PARAMS\n",
    "from train import get_dataloaders"
   ]
  },
  {
   "cell_type": "code",
   "execution_count": 2,
   "metadata": {},
   "outputs": [],
   "source": [
    "dataset = pickle.load(open('dataset/train/cross_subject_data_0_new.pickle', 'rb'))"
   ]
  },
  {
   "cell_type": "code",
   "execution_count": 3,
   "metadata": {},
   "outputs": [
    {
     "name": "stdout",
     "output_type": "stream",
     "text": [
      "Data sizes:\n",
      "Train sizes:\n",
      "(7558, 64, 100)\n",
      "(7558,)\n",
      "Valid sizes:\n",
      "(945, 64, 100)\n",
      "(945,)\n",
      "Test sizes:\n",
      "(945, 64, 100)\n",
      "(945,)\n"
     ]
    }
   ],
   "source": [
    "random_seed = 0\n",
    "X_train, X_test, y_train, y_test = dataset['X_train'], dataset['X_test'], dataset['y_train'], dataset['y_test'] \n",
    "X_train, X_valid, y_train, y_valid = train_test_split(X_train, y_train, test_size=PARAMS['VALID_SIZE'], shuffle=True, random_state=random_seed)\n",
    "print('Data sizes:')\n",
    "print('Train sizes:')\n",
    "print(X_train.shape)\n",
    "print(y_train.shape)\n",
    "print('Valid sizes:')\n",
    "print(X_valid.shape)\n",
    "print(y_valid.shape)\n",
    "print('Test sizes:')\n",
    "print(X_test.shape)\n",
    "print(y_test.shape)\n",
    "\n",
    "dataloaders = get_dataloaders(X_train, y_train, X_valid, y_valid, X_test, y_test, PARAMS['BATCH_SIZE'], random_seed=random_seed, device=PARAMS['DEVICE'])"
   ]
  },
  {
   "cell_type": "markdown",
   "metadata": {},
   "source": [
    "# GCRAM"
   ]
  },
  {
   "cell_type": "code",
   "execution_count": 19,
   "metadata": {},
   "outputs": [],
   "source": [
    "from torch import nn\n",
    "from layers import SelfAttentionLayer\n",
    "from graph_utils import compute_adj_matrices\n",
    "import torch.nn.functional as F\n",
    "\n",
    "class GCRAM(nn.Module):\n",
    "    def __init__(self, graph_type, seq_len, cnn_in_channels, cnn_n_kernels, cnn_kernel_size, cnn_stride, lstm_hidden_size, is_bidirectional, lstm_n_layers, attn_embed_dim, n_classes, lstm_dropout_p, dropout1_p, dropout2_p, device):\n",
    "        super(GCRAM, self).__init__()\n",
    "\n",
    "        self.dropout1_p = dropout1_p\n",
    "        self.dropout2_p = dropout2_p\n",
    "\n",
    "        self.conv1 = nn.Conv2d(cnn_in_channels, cnn_n_kernels, kernel_size=cnn_kernel_size, stride=cnn_stride)\n",
    "\n",
    "        cnn_output_size = (seq_len - cnn_kernel_size[1])//cnn_stride + 1\n",
    "\n",
    "        lstm_input_size = cnn_output_size * cnn_in_channels * cnn_n_kernels\n",
    "\n",
    "        self.lstm1 = nn.LSTM(input_size=lstm_input_size, hidden_size=lstm_hidden_size, batch_first=True, bidirectional=is_bidirectional, num_layers=lstm_n_layers, dropout=lstm_dropout_p)\n",
    "\n",
    "        if is_bidirectional:\n",
    "            self.attention = SelfAttentionLayer(hidden_size=lstm_hidden_size*2, attention_size=attn_embed_dim, return_alphas=True)\n",
    "        else:\n",
    "            self.attention = SelfAttentionLayer(hidden_size=lstm_hidden_size, attention_size=attn_embed_dim, return_alphas=True)\n",
    "        \n",
    "        self.flatten = nn.Flatten()\n",
    "\n",
    "        if is_bidirectional:\n",
    "            self.linear = nn.Linear(lstm_hidden_size*2, n_classes)\n",
    "        else:\n",
    "            self.linear = nn.Linear(lstm_hidden_size, n_classes)\n",
    "\n",
    "        self.adj = torch.from_numpy(compute_adj_matrices(graph_type)).to(device)\n",
    "\n",
    "    def forward(self, x):\n",
    "        out = torch.einsum(\"ij,kjl->kil\", self.adj, x)\n",
    "        \n",
    "        out = out.unsqueeze(1)\n",
    "\n",
    "        out = F.relu(self.conv1(out))\n",
    "\n",
    "        out = self.flatten(out)\n",
    "        out = out.unsqueeze(1)\n",
    "        out = F.dropout(out, p=self.dropout1_p)\n",
    "\n",
    "        out, (h_T, c_T) = self.lstm1(out)\n",
    "        out = out[:, -1, :]\n",
    "\n",
    "        out = out.unsqueeze(1)\n",
    "\n",
    "        out, attn_weights = self.attention(out)\n",
    "        out = F.dropout(out, p=self.dropout2_p)\n",
    "\n",
    "        out = self.flatten(out)\n",
    "        out = self.linear(out)\n",
    "\n",
    "        return out"
   ]
  },
  {
   "cell_type": "code",
   "execution_count": 20,
   "metadata": {},
   "outputs": [
    {
     "name": "stdout",
     "output_type": "stream",
     "text": [
      "2240\n"
     ]
    }
   ],
   "source": [
    "from main import init_model_params\n",
    "import torch\n",
    "from train import train_model_2\n",
    "\n",
    "RANDOM_SEED = random_seed\n",
    "\n",
    "SEQ_LEN = 100\n",
    "\n",
    "model = GCRAM(graph_type='n', \n",
    "seq_len=SEQ_LEN, \n",
    "cnn_in_channels=PARAMS['GCRAM_CNN_IN_CHANNELS'], \n",
    "cnn_n_kernels=PARAMS['GCRAM_CNN_N_KERNELS'], \n",
    "cnn_kernel_size=PARAMS['GCRAM_CNN_KERNEL_SIZE'], \n",
    "cnn_stride=PARAMS['GCRAM_CNN_STRIDE'], \n",
    "lstm_hidden_size=PARAMS['GCRAM_LSTM_HIDDEN_SIZE'], \n",
    "is_bidirectional=PARAMS['GCRAM_LSTM_IS_BIDIRECTIONAL'], \n",
    "lstm_n_layers=PARAMS['GCRAM_LSTM_N_LAYERS'], \n",
    "attn_embed_dim=PARAMS['GCRAM_ATTN_EMBED_DIM'], \n",
    "n_classes=PARAMS['N_CLASSES'], \n",
    "lstm_dropout_p=PARAMS['GCRAM_LSTM_DROPOUT_P'], \n",
    "dropout1_p=PARAMS['GCRAM_DROPOUT1_P'], \n",
    "dropout2_p=PARAMS['GCRAM_DROPOUT2_P'], \n",
    "device=PARAMS['DEVICE'])\n",
    "\n",
    "model = init_model_params(model, random_seed=RANDOM_SEED)\n",
    "# model.init_node_embeddings()\n",
    "\n",
    "model = model.to(PARAMS['DEVICE'])\n",
    "\n"
   ]
  },
  {
   "cell_type": "code",
   "execution_count": 21,
   "metadata": {},
   "outputs": [],
   "source": [
    "input = torch.FloatTensor(32, 64, SEQ_LEN)\n",
    "input = input.to(PARAMS['DEVICE'])\n",
    "\n",
    "out = model(input)"
   ]
  },
  {
   "cell_type": "code",
   "execution_count": 22,
   "metadata": {},
   "outputs": [
    {
     "name": "stdout",
     "output_type": "stream",
     "text": [
      "1462316\n"
     ]
    }
   ],
   "source": [
    "n_params = sum(p.numel() for p in model.parameters() if p.requires_grad)\n",
    "print(n_params)"
   ]
  },
  {
   "cell_type": "code",
   "execution_count": 23,
   "metadata": {},
   "outputs": [
    {
     "name": "stdout",
     "output_type": "stream",
     "text": [
      "train() called: model=GCRAM, opt=Adam(lr=0.001000), epochs=100, device=cuda\n",
      "\n",
      "Epoch   1/100, LR: 0.0010, train loss: 1.3380, train acc: 0.3490, val loss: 1.2314, val acc: 0.4300\n",
      "Epoch  10/100, LR: 0.0010, train loss: 1.1681, train acc: 0.4951, val loss: 1.1422, val acc: 0.4881\n",
      "Epoch  20/100, LR: 0.0009, train loss: 1.1478, train acc: 0.5072, val loss: 1.1355, val acc: 0.5140\n",
      "Epoch  30/100, LR: 0.0008, train loss: 1.1272, train acc: 0.5207, val loss: 1.1054, val acc: 0.5237\n",
      "Epoch  40/100, LR: 0.0007, train loss: 1.1224, train acc: 0.5245, val loss: 1.1081, val acc: 0.5119\n",
      "Epoch  50/100, LR: 0.0007, train loss: 1.1000, train acc: 0.5399, val loss: 1.0752, val acc: 0.5485\n",
      "Epoch  60/100, LR: 0.0006, train loss: 1.0872, train acc: 0.5437, val loss: 1.0721, val acc: 0.5442\n",
      "Epoch  70/100, LR: 0.0005, train loss: 1.0860, train acc: 0.5442, val loss: 1.0820, val acc: 0.5356\n",
      "Epoch  80/100, LR: 0.0005, train loss: 1.0737, train acc: 0.5467, val loss: 1.0641, val acc: 0.5291\n",
      "Epoch  90/100, LR: 0.0004, train loss: 1.0672, train acc: 0.5511, val loss: 1.0491, val acc: 0.5528\n",
      "Epoch 100/100, LR: 0.0003, train loss: 1.0584, train acc: 0.5592, val loss: 1.0573, val acc: 0.5560\n",
      "\n",
      "Time total:     104.38 sec\n",
      "Time per epoch:  1.04 sec\n",
      "Best val Acc: 0.568966\n"
     ]
    }
   ],
   "source": [
    "criterion = torch.nn.CrossEntropyLoss()\n",
    "optimizer = torch.optim.Adam(model.parameters(), lr=PARAMS['LR'])\n",
    "scheduler = torch.optim.lr_scheduler.StepLR(optimizer, step_size=10, gamma=0.9)\n",
    "\n",
    "N_EPOCHS = 100\n",
    "\n",
    "# best_model, history = train_model(dataloaders, dataset_sizes, model, criterion, optimizer, scheduler, PARAMS['N_EPOCHS'], random_seed=random_seed)\n",
    "best_model, history = train_model_2(model, optimizer, scheduler, criterion, dataloaders['train'], dataloaders['val'], N_EPOCHS, RANDOM_SEED, PARAMS['DEVICE'], verbose=True)\n",
    "best_model = best_model.to(PARAMS['DEVICE'])"
   ]
  },
  {
   "cell_type": "code",
   "execution_count": 24,
   "metadata": {},
   "outputs": [],
   "source": [
    "adj = best_model.adj.cpu().detach().numpy()"
   ]
  },
  {
   "cell_type": "code",
   "execution_count": 25,
   "metadata": {},
   "outputs": [
    {
     "data": {
      "text/plain": [
       "<AxesSubplot:>"
      ]
     },
     "execution_count": 25,
     "metadata": {},
     "output_type": "execute_result"
    },
    {
     "data": {
      "image/png": "[encoded data removed]",
      "text/plain": [
       "<Figure size 432x288 with 2 Axes>"
      ]
     },
     "metadata": {
      "needs_background": "light"
     },
     "output_type": "display_data"
    }
   ],
   "source": [
    "import seaborn as sns\n",
    "sns.heatmap(adj)"
   ]
  },
  {
   "cell_type": "code",
   "execution_count": 26,
   "metadata": {},
   "outputs": [],
   "source": [
    "from main import model_predict, print_classification_report\n",
    "\n",
    "y_preds, y_test = model_predict(best_model, test_loader=dataloaders['test'])\n",
    "\n",
    "cr, cm, auroc = print_classification_report(y_test, y_preds, PARAMS['N_CLASSES'])"
   ]
  },
  {
   "cell_type": "code",
   "execution_count": 27,
   "metadata": {},
   "outputs": [
    {
     "name": "stdout",
     "output_type": "stream",
     "text": [
      "{'0': {'precision': 0.6896551724137931, 'recall': 0.6086956521739131, 'f1-score': 0.6466512702078522, 'support': 230}, '1': {'precision': 0.6280193236714976, 'recall': 0.5508474576271186, 'f1-score': 0.5869074492099322, 'support': 236}, '2': {'precision': 0.45703125, 'recall': 0.5176991150442478, 'f1-score': 0.4854771784232365, 'support': 226}, '3': {'precision': 0.4961832061068702, 'recall': 0.5508474576271186, 'f1-score': 0.5220883534136546, 'support': 236}, 'accuracy': 0.5571120689655172, 'macro avg': {'precision': 0.5677222380480402, 'recall': 0.5570224206180995, 'f1-score': 0.5602810628136689, 'support': 928}, 'weighted avg': {'precision': 0.5681266693780896, 'recall': 0.5571120689655172, 'f1-score': 0.5605287110890345, 'support': 928}}\n"
     ]
    }
   ],
   "source": [
    "print(cr)"
   ]
  },
  {
   "cell_type": "code",
   "execution_count": 28,
   "metadata": {},
   "outputs": [
    {
     "name": "stdout",
     "output_type": "stream",
     "text": [
      "0.704725372927907\n"
     ]
    }
   ],
   "source": [
    "print(auroc)"
   ]
  },
  {
   "cell_type": "code",
   "execution_count": 29,
   "metadata": {},
   "outputs": [
    {
     "data": {
      "text/plain": [
       "<AxesSubplot:>"
      ]
     },
     "execution_count": 29,
     "metadata": {},
     "output_type": "execute_result"
    },
    {
     "data": {
      "image/png": "[encoded data removed]",
      "text/plain": [
       "<Figure size 432x288 with 2 Axes>"
      ]
     },
     "metadata": {
      "needs_background": "light"
     },
     "output_type": "display_data"
    }
   ],
   "source": [
    "sns.heatmap(cm, annot=True, fmt='g')"
   ]
  },
  {
   "cell_type": "markdown",
   "metadata": {},
   "source": [
    "# GCRAMAuto"
   ]
  },
  {
   "cell_type": "code",
   "execution_count": 136,
   "metadata": {},
   "outputs": [],
   "source": [
    "from torch import nn\n",
    "from layers import SelfAttentionLayer, BatchGraphConvolutionLayer\n",
    "from graph_utils import compute_adj_matrices\n",
    "import torch.nn.functional as F\n",
    "\n",
    "class GCRAMAuto(nn.Module):\n",
    "    def __init__(self, seq_len, n_nodes, gcn_hidden_size, cnn_in_channels, cnn_n_kernels, cnn_kernel_size, cnn_stride, lstm_hidden_size, is_bidirectional, lstm_n_layers, attn_embed_dim, n_classes, lstm_dropout_p, dropout1_p, dropout2_p, device):\n",
    "        super(GCRAMAuto, self).__init__()\n",
    "\n",
    "        self.dropout1_p = dropout1_p\n",
    "        self.dropout2_p = dropout2_p\n",
    "\n",
    "        self.gc1 = BatchGraphConvolutionLayer(seq_len, gcn_hidden_size, n_nodes)\n",
    "\n",
    "        self.conv1 = nn.Conv2d(cnn_in_channels, cnn_n_kernels, kernel_size=cnn_kernel_size, stride=cnn_stride)\n",
    "\n",
    "        cnn_output_size = (gcn_hidden_size - cnn_kernel_size[1])//cnn_stride + 1\n",
    "        lstm_input_size = cnn_output_size * cnn_in_channels * cnn_n_kernels\n",
    "\n",
    "        self.lstm1 = nn.LSTM(input_size=lstm_input_size, hidden_size=lstm_hidden_size, batch_first=True, bidirectional=is_bidirectional, num_layers=lstm_n_layers, dropout=lstm_dropout_p)\n",
    "\n",
    "        if is_bidirectional:\n",
    "            self.attention = SelfAttentionLayer(hidden_size=lstm_hidden_size*2, attention_size=attn_embed_dim, return_alphas=True)\n",
    "        else:\n",
    "            self.attention = SelfAttentionLayer(hidden_size=lstm_hidden_size, attention_size=attn_embed_dim, return_alphas=True)\n",
    "        \n",
    "        self.flatten = nn.Flatten()\n",
    "\n",
    "        if is_bidirectional:\n",
    "            self.linear = nn.Linear(lstm_hidden_size*2, n_classes)\n",
    "        else:\n",
    "            self.linear = nn.Linear(lstm_hidden_size, n_classes)\n",
    "\n",
    "        self.adj = nn.Parameter(torch.randn(n_nodes, n_nodes), requires_grad=True)\n",
    "\n",
    "    def forward(self, x):\n",
    "        out = F.relu(self.gc1(x, self.adj))\n",
    "        out = F.dropout(out, p=self.dropout1_p)\n",
    "        \n",
    "        out = out.unsqueeze(1)\n",
    "\n",
    "        out = F.relu(self.conv1(out))\n",
    "        out = self.flatten(out)\n",
    "        out = out.unsqueeze(1)\n",
    "        out = F.dropout(out, p=self.dropout1_p)\n",
    "\n",
    "        out, (h_T, c_T) = self.lstm1(out)\n",
    "        out = out[:, -1, :]\n",
    "\n",
    "        out = out.unsqueeze(1)\n",
    "\n",
    "        out, attn_weights = self.attention(out)\n",
    "        out = F.dropout(out, p=self.dropout2_p)\n",
    "\n",
    "        out = self.flatten(out)\n",
    "        out = self.linear(out)\n",
    "\n",
    "        return out\n",
    "\n",
    "    def init_adj_diag(self):\n",
    "        self.adj.data.fill_diagonal_(1)"
   ]
  },
  {
   "cell_type": "code",
   "execution_count": 137,
   "metadata": {},
   "outputs": [],
   "source": [
    "from main import init_model_params\n",
    "import torch\n",
    "from train import train_model_2\n",
    "\n",
    "RANDOM_SEED = random_seed\n",
    "\n",
    "SEQ_LEN = 100\n",
    "\n",
    "model = GCRAMAuto(seq_len=SEQ_LEN, \n",
    "n_nodes=64,\n",
    "gcn_hidden_size=256,\n",
    "cnn_in_channels=PARAMS['GCRAM_CNN_IN_CHANNELS'], \n",
    "cnn_n_kernels=PARAMS['GCRAM_CNN_N_KERNELS'], \n",
    "cnn_kernel_size=PARAMS['GCRAM_CNN_KERNEL_SIZE'], \n",
    "cnn_stride=10, \n",
    "lstm_hidden_size=PARAMS['GCRAM_LSTM_HIDDEN_SIZE'], \n",
    "is_bidirectional=PARAMS['GCRAM_LSTM_IS_BIDIRECTIONAL'], \n",
    "lstm_n_layers=PARAMS['GCRAM_LSTM_N_LAYERS'], \n",
    "attn_embed_dim=PARAMS['GCRAM_ATTN_EMBED_DIM'], \n",
    "n_classes=PARAMS['N_CLASSES'], \n",
    "lstm_dropout_p=PARAMS['GCRAM_LSTM_DROPOUT_P'], \n",
    "dropout1_p=PARAMS['GCRAM_DROPOUT1_P'], \n",
    "dropout2_p=PARAMS['GCRAM_DROPOUT2_P'], \n",
    "device=PARAMS['DEVICE'])\n",
    "\n",
    "model = init_model_params(model, random_seed=RANDOM_SEED)\n",
    "model.init_adj_diag()\n",
    "\n",
    "model = model.to(PARAMS['DEVICE'])\n",
    "\n"
   ]
  },
  {
   "cell_type": "code",
   "execution_count": 138,
   "metadata": {},
   "outputs": [],
   "source": [
    "input = torch.FloatTensor(32, 64, SEQ_LEN)\n",
    "input = input.to(PARAMS['DEVICE'])\n",
    "\n",
    "out = model(input)"
   ]
  },
  {
   "cell_type": "code",
   "execution_count": 139,
   "metadata": {},
   "outputs": [
    {
     "name": "stdout",
     "output_type": "stream",
     "text": [
      "1226028\n"
     ]
    }
   ],
   "source": [
    "n_params = sum(p.numel() for p in model.parameters() if p.requires_grad)\n",
    "print(n_params)"
   ]
  },
  {
   "cell_type": "code",
   "execution_count": 140,
   "metadata": {},
   "outputs": [
    {
     "name": "stdout",
     "output_type": "stream",
     "text": [
      "GCNCRAMAuto(\n",
      "  (gc1): BatchGraphConvolutionLayer (100 -> 256)\n",
      "  (conv1): Conv2d(1, 40, kernel_size=(64, 45), stride=(5, 5))\n",
      "  (lstm1): LSTM(1720, 64, num_layers=2, batch_first=True, dropout=0.4, bidirectional=True)\n",
      "  (attention): SelfAttentionLayer (128 -> 512)\n",
      "  (flatten): Flatten(start_dim=1, end_dim=-1)\n",
      "  (linear): Linear(in_features=128, out_features=4, bias=True)\n",
      ")\n"
     ]
    }
   ],
   "source": [
    "print(model)"
   ]
  },
  {
   "cell_type": "code",
   "execution_count": 141,
   "metadata": {},
   "outputs": [
    {
     "name": "stdout",
     "output_type": "stream",
     "text": [
      "train() called: model=GCNCRAMAuto, opt=Adam(lr=0.001000), epochs=100, device=cuda\n",
      "\n",
      "Epoch   1/100, LR: 0.0010, train loss: 1.4133, train acc: 0.2655, val loss: 1.3460, val acc: 0.3276\n",
      "Epoch  10/100, LR: 0.0010, train loss: 1.1770, train acc: 0.4552, val loss: 1.2054, val acc: 0.4300\n",
      "Epoch  20/100, LR: 0.0009, train loss: 1.1727, train acc: 0.4597, val loss: 1.1631, val acc: 0.4644\n",
      "Epoch  30/100, LR: 0.0008, train loss: 1.1557, train acc: 0.4792, val loss: 1.1674, val acc: 0.4450\n",
      "Epoch  40/100, LR: 0.0007, train loss: 1.1669, train acc: 0.4747, val loss: 1.1588, val acc: 0.4892\n",
      "Epoch  50/100, LR: 0.0007, train loss: 1.1440, train acc: 0.5019, val loss: 1.1100, val acc: 0.5086\n",
      "Epoch  60/100, LR: 0.0006, train loss: 1.1385, train acc: 0.4995, val loss: 1.1313, val acc: 0.5075\n",
      "Epoch  70/100, LR: 0.0005, train loss: 1.1529, train acc: 0.4831, val loss: 1.1413, val acc: 0.4601\n",
      "Epoch  80/100, LR: 0.0005, train loss: 1.1359, train acc: 0.5120, val loss: 1.1400, val acc: 0.4978\n",
      "Epoch  90/100, LR: 0.0004, train loss: 1.1225, train acc: 0.5237, val loss: 1.1211, val acc: 0.5172\n",
      "Epoch 100/100, LR: 0.0003, train loss: 1.1193, train acc: 0.5222, val loss: 1.1255, val acc: 0.5097\n",
      "\n",
      "Time total:     139.26 sec\n",
      "Time per epoch:  1.39 sec\n",
      "Best val Acc: 0.522629\n"
     ]
    }
   ],
   "source": [
    "criterion = torch.nn.CrossEntropyLoss()\n",
    "optimizer = torch.optim.Adam(model.parameters(), lr=PARAMS['LR'])\n",
    "scheduler = torch.optim.lr_scheduler.StepLR(optimizer, step_size=10, gamma=0.9)\n",
    "\n",
    "N_EPOCHS = 100\n",
    "\n",
    "# best_model, history = train_model(dataloaders, dataset_sizes, model, criterion, optimizer, scheduler, PARAMS['N_EPOCHS'], random_seed=random_seed)\n",
    "best_model, history = train_model_2(model, optimizer, scheduler, criterion, dataloaders['train'], dataloaders['val'], N_EPOCHS, RANDOM_SEED, PARAMS['DEVICE'], verbose=True)\n",
    "best_model = best_model.to(PARAMS['DEVICE'])"
   ]
  },
  {
   "cell_type": "code",
   "execution_count": 142,
   "metadata": {},
   "outputs": [],
   "source": [
    "adj = best_model.adj.cpu().detach().numpy()"
   ]
  },
  {
   "cell_type": "code",
   "execution_count": 143,
   "metadata": {},
   "outputs": [
    {
     "data": {
      "text/plain": [
       "<AxesSubplot:>"
      ]
     },
     "execution_count": 143,
     "metadata": {},
     "output_type": "execute_result"
    },
    {
     "data": {
      "image/png": "[encoded data removed]",
      "text/plain": [
       "<Figure size 432x288 with 2 Axes>"
      ]
     },
     "metadata": {
      "needs_background": "light"
     },
     "output_type": "display_data"
    }
   ],
   "source": [
    "import seaborn as sns\n",
    "sns.heatmap(adj)"
   ]
  },
  {
   "cell_type": "code",
   "execution_count": 144,
   "metadata": {},
   "outputs": [],
   "source": [
    "from main import model_predict, print_classification_report\n",
    "\n",
    "y_preds, y_test = model_predict(best_model, test_loader=dataloaders['test'])\n",
    "\n",
    "cr, cm, auroc = print_classification_report(y_test, y_preds, PARAMS['N_CLASSES'])"
   ]
  },
  {
   "cell_type": "code",
   "execution_count": 145,
   "metadata": {},
   "outputs": [
    {
     "name": "stdout",
     "output_type": "stream",
     "text": [
      "{'0': {'precision': 0.75625, 'recall': 0.5260869565217391, 'f1-score': 0.6205128205128205, 'support': 230}, '1': {'precision': 0.6923076923076923, 'recall': 0.5338983050847458, 'f1-score': 0.6028708133971291, 'support': 236}, '2': {'precision': 0.4147058823529412, 'recall': 0.6238938053097345, 'f1-score': 0.4982332155477031, 'support': 226}, '3': {'precision': 0.491869918699187, 'recall': 0.5127118644067796, 'f1-score': 0.5020746887966805, 'support': 236}, 'accuracy': 0.5484913793103449, 'macro avg': {'precision': 0.5887833733399551, 'recall': 0.5491477328307497, 'f1-score': 0.5559228845635833, 'support': 928}, 'weighted avg': {'precision': 0.5895764500101166, 'recall': 0.5484913793103449, 'f1-score': 0.5561269331352033, 'support': 928}}\n"
     ]
    }
   ],
   "source": [
    "print(cr)"
   ]
  },
  {
   "cell_type": "code",
   "execution_count": 146,
   "metadata": {},
   "outputs": [
    {
     "name": "stdout",
     "output_type": "stream",
     "text": [
      "0.6994600660880206\n"
     ]
    }
   ],
   "source": [
    "print(auroc)"
   ]
  },
  {
   "cell_type": "code",
   "execution_count": 147,
   "metadata": {},
   "outputs": [
    {
     "data": {
      "text/plain": [
       "<AxesSubplot:>"
      ]
     },
     "execution_count": 147,
     "metadata": {},
     "output_type": "execute_result"
    },
    {
     "data": {
      "image/png": "[encoded data removed]",
      "text/plain": [
       "<Figure size 432x288 with 2 Axes>"
      ]
     },
     "metadata": {
      "needs_background": "light"
     },
     "output_type": "display_data"
    }
   ],
   "source": [
    "sns.heatmap(cm, annot=True, fmt='g')"
   ]
  },
  {
   "cell_type": "code",
   "execution_count": null,
   "metadata": {},
   "outputs": [],
   "source": []
  }
 ],
 "metadata": {
  "interpreter": {
   "hash": "84c85347d78e9e1e10700c6d8e0f5eee9b662a9651d925575cf1524e055e4541"
  },
  "kernelspec": {
   "display_name": "Python 3.7.12 64-bit ('env': venv)",
   "language": "python",
   "name": "python3"
  },
  "language_info": {
   "codemirror_mode": {
    "name": "ipython",
    "version": 3
   },
   "file_extension": ".py",
   "mimetype": "text/x-python",
   "name": "python",
   "nbconvert_exporter": "python",
   "pygments_lexer": "ipython3",
   "version": "3.7.12"
  },
  "orig_nbformat": 4
 },
 "nbformat": 4,
 "nbformat_minor": 2
}
