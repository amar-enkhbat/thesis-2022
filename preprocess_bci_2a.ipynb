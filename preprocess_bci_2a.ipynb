{
 "cells": [
  {
   "cell_type": "code",
   "execution_count": 1,
   "metadata": {},
   "outputs": [],
   "source": [
    "import os\n",
    "import numpy as np\n",
    "import mne\n",
    "import pandas as pd\n",
    "import random\n",
    "from tqdm import tqdm\n",
    "\n",
    "random_seed = 1\n",
    "random.seed(random_seed)\n",
    "np.random.seed(random_seed)\n",
    "\n",
    "labels_remap = {276: 'idling_eyes_open',\n",
    "277: 'idling_eyes_closed',\n",
    "768: 'start_of_a_trial',\n",
    "769: 'imagine_left', \n",
    "770: 'imagine_right', \n",
    "771: 'imagine_foot', \n",
    "772: 'imagine_tongue', \n",
    "783: 'unknown',\n",
    "1023: 'rejected_trial',\n",
    "1072: 'eye_movements',\n",
    "32766: 'start_of_a_new_run'}\n",
    "\n",
    "def process_annots(annot_df, freq = 250):\n",
    "    \n",
    "    timestep = pd.to_timedelta(f\"{1 / freq} seconds\")\n",
    "    new_annots = {\"timestamp\": [], \"label\": []}\n",
    "    for onset, duration, description in annot_df.values:\n",
    "        duration = pd.to_timedelta(f\"{duration} seconds\")\n",
    "        stop_onset = onset + duration\n",
    "\n",
    "        while onset != stop_onset:\n",
    "            new_annots[\"timestamp\"].append(onset)\n",
    "            new_annots[\"label\"].append(description)\n",
    "            onset = onset + timestep\n",
    "\n",
    "    new_annots = pd.DataFrame(new_annots)\n",
    "    return new_annots\n",
    "\n",
    "# Change original labels into interpretable labels\n",
    "def change_labels(label_df, labels_remap):\n",
    "    label_df[\"description\"] = label_df[\"description\"].astype(int).replace(labels_remap)\n",
    "    return label_df"
   ]
  },
  {
   "cell_type": "code",
   "execution_count": 2,
   "metadata": {},
   "outputs": [],
   "source": [
    "dataset_path = 'dataset/BCICIV_2a_gdf/'\n",
    "save_path = 'dataset/BCICIV_2a_gdf_csv_full/'\n",
    "\n",
    "if not os.path.isdir(save_path):\n",
    "    os.mkdir(save_path)\n",
    "\n",
    "subjects_idc = [f\"A{i:02d}T.gdf\" for i in range(1, 10)]\n"
   ]
  },
  {
   "cell_type": "code",
   "execution_count": 3,
   "metadata": {},
   "outputs": [],
   "source": [
    "freq = 250\n",
    "timestep = pd.to_timedelta(f\"{1 / freq} seconds\")"
   ]
  },
  {
   "cell_type": "code",
   "execution_count": 4,
   "metadata": {},
   "outputs": [],
   "source": [
    "diff_df = []"
   ]
  },
  {
   "cell_type": "code",
   "execution_count": 5,
   "metadata": {},
   "outputs": [
    {
     "name": "stderr",
     "output_type": "stream",
     "text": [
      "  0%|          | 0/9 [00:00<?, ?it/s]/home/amar/Desktop/thesis-2022/env/lib/python3.7/site-packages/mne/io/edf/edf.py:1047: DeprecationWarning: The binary mode of fromstring is deprecated, as it behaves surprisingly on unicode inputs. Use frombuffer instead\n",
      "  etmode = np.fromstring(etmode, UINT8).tolist()[0]\n",
      "/tmp/ipykernel_12987/508169274.py:4: RuntimeWarning: Channel names are not unique, found duplicates for: {'EEG'}. Applying running numbers for duplicates.\n",
      "  raw = mne.io.read_raw_gdf(run_path, verbose=False)\n"
     ]
    },
    {
     "name": "stdout",
     "output_type": "stream",
     "text": [
      "dataset/BCICIV_2a_gdf/A01T.gdf\n"
     ]
    },
    {
     "name": "stderr",
     "output_type": "stream",
     "text": [
      " 11%|█         | 1/9 [00:24<03:14, 24.33s/it]/home/amar/Desktop/thesis-2022/env/lib/python3.7/site-packages/mne/io/edf/edf.py:1047: DeprecationWarning: The binary mode of fromstring is deprecated, as it behaves surprisingly on unicode inputs. Use frombuffer instead\n",
      "  etmode = np.fromstring(etmode, UINT8).tolist()[0]\n",
      "/tmp/ipykernel_12987/508169274.py:4: RuntimeWarning: Channel names are not unique, found duplicates for: {'EEG'}. Applying running numbers for duplicates.\n",
      "  raw = mne.io.read_raw_gdf(run_path, verbose=False)\n"
     ]
    },
    {
     "name": "stdout",
     "output_type": "stream",
     "text": [
      "dataset/BCICIV_2a_gdf/A02T.gdf\n"
     ]
    },
    {
     "name": "stderr",
     "output_type": "stream",
     "text": [
      " 22%|██▏       | 2/9 [00:47<02:46, 23.73s/it]/home/amar/Desktop/thesis-2022/env/lib/python3.7/site-packages/mne/io/edf/edf.py:1047: DeprecationWarning: The binary mode of fromstring is deprecated, as it behaves surprisingly on unicode inputs. Use frombuffer instead\n",
      "  etmode = np.fromstring(etmode, UINT8).tolist()[0]\n",
      "/tmp/ipykernel_12987/508169274.py:4: RuntimeWarning: Channel names are not unique, found duplicates for: {'EEG'}. Applying running numbers for duplicates.\n",
      "  raw = mne.io.read_raw_gdf(run_path, verbose=False)\n"
     ]
    },
    {
     "name": "stdout",
     "output_type": "stream",
     "text": [
      "dataset/BCICIV_2a_gdf/A03T.gdf\n"
     ]
    },
    {
     "name": "stderr",
     "output_type": "stream",
     "text": [
      " 33%|███▎      | 3/9 [01:09<02:16, 22.82s/it]/home/amar/Desktop/thesis-2022/env/lib/python3.7/site-packages/mne/io/edf/edf.py:1047: DeprecationWarning: The binary mode of fromstring is deprecated, as it behaves surprisingly on unicode inputs. Use frombuffer instead\n",
      "  etmode = np.fromstring(etmode, UINT8).tolist()[0]\n",
      "/tmp/ipykernel_12987/508169274.py:4: RuntimeWarning: Channel names are not unique, found duplicates for: {'EEG'}. Applying running numbers for duplicates.\n",
      "  raw = mne.io.read_raw_gdf(run_path, verbose=False)\n"
     ]
    },
    {
     "name": "stdout",
     "output_type": "stream",
     "text": [
      "dataset/BCICIV_2a_gdf/A04T.gdf\n"
     ]
    },
    {
     "name": "stderr",
     "output_type": "stream",
     "text": [
      " 44%|████▍     | 4/9 [01:29<01:48, 21.70s/it]/home/amar/Desktop/thesis-2022/env/lib/python3.7/site-packages/mne/io/edf/edf.py:1047: DeprecationWarning: The binary mode of fromstring is deprecated, as it behaves surprisingly on unicode inputs. Use frombuffer instead\n",
      "  etmode = np.fromstring(etmode, UINT8).tolist()[0]\n",
      "/tmp/ipykernel_12987/508169274.py:4: RuntimeWarning: Channel names are not unique, found duplicates for: {'EEG'}. Applying running numbers for duplicates.\n",
      "  raw = mne.io.read_raw_gdf(run_path, verbose=False)\n"
     ]
    },
    {
     "name": "stdout",
     "output_type": "stream",
     "text": [
      "dataset/BCICIV_2a_gdf/A05T.gdf\n"
     ]
    },
    {
     "name": "stderr",
     "output_type": "stream",
     "text": [
      " 56%|█████▌    | 5/9 [01:51<01:28, 22.01s/it]/home/amar/Desktop/thesis-2022/env/lib/python3.7/site-packages/mne/io/edf/edf.py:1047: DeprecationWarning: The binary mode of fromstring is deprecated, as it behaves surprisingly on unicode inputs. Use frombuffer instead\n",
      "  etmode = np.fromstring(etmode, UINT8).tolist()[0]\n",
      "/tmp/ipykernel_12987/508169274.py:4: RuntimeWarning: Channel names are not unique, found duplicates for: {'EEG'}. Applying running numbers for duplicates.\n",
      "  raw = mne.io.read_raw_gdf(run_path, verbose=False)\n"
     ]
    },
    {
     "name": "stdout",
     "output_type": "stream",
     "text": [
      "dataset/BCICIV_2a_gdf/A06T.gdf\n"
     ]
    },
    {
     "name": "stderr",
     "output_type": "stream",
     "text": [
      " 67%|██████▋   | 6/9 [02:15<01:07, 22.39s/it]/home/amar/Desktop/thesis-2022/env/lib/python3.7/site-packages/mne/io/edf/edf.py:1047: DeprecationWarning: The binary mode of fromstring is deprecated, as it behaves surprisingly on unicode inputs. Use frombuffer instead\n",
      "  etmode = np.fromstring(etmode, UINT8).tolist()[0]\n",
      "/tmp/ipykernel_12987/508169274.py:4: RuntimeWarning: Channel names are not unique, found duplicates for: {'EEG'}. Applying running numbers for duplicates.\n",
      "  raw = mne.io.read_raw_gdf(run_path, verbose=False)\n"
     ]
    },
    {
     "name": "stdout",
     "output_type": "stream",
     "text": [
      "dataset/BCICIV_2a_gdf/A07T.gdf\n"
     ]
    },
    {
     "name": "stderr",
     "output_type": "stream",
     "text": [
      " 78%|███████▊  | 7/9 [02:37<00:44, 22.40s/it]/home/amar/Desktop/thesis-2022/env/lib/python3.7/site-packages/mne/io/edf/edf.py:1047: DeprecationWarning: The binary mode of fromstring is deprecated, as it behaves surprisingly on unicode inputs. Use frombuffer instead\n",
      "  etmode = np.fromstring(etmode, UINT8).tolist()[0]\n",
      "/tmp/ipykernel_12987/508169274.py:4: RuntimeWarning: Channel names are not unique, found duplicates for: {'EEG'}. Applying running numbers for duplicates.\n",
      "  raw = mne.io.read_raw_gdf(run_path, verbose=False)\n"
     ]
    },
    {
     "name": "stdout",
     "output_type": "stream",
     "text": [
      "dataset/BCICIV_2a_gdf/A08T.gdf\n"
     ]
    },
    {
     "name": "stderr",
     "output_type": "stream",
     "text": [
      " 89%|████████▉ | 8/9 [02:59<00:22, 22.40s/it]/home/amar/Desktop/thesis-2022/env/lib/python3.7/site-packages/mne/io/edf/edf.py:1047: DeprecationWarning: The binary mode of fromstring is deprecated, as it behaves surprisingly on unicode inputs. Use frombuffer instead\n",
      "  etmode = np.fromstring(etmode, UINT8).tolist()[0]\n",
      "/tmp/ipykernel_12987/508169274.py:4: RuntimeWarning: Channel names are not unique, found duplicates for: {'EEG'}. Applying running numbers for duplicates.\n",
      "  raw = mne.io.read_raw_gdf(run_path, verbose=False)\n"
     ]
    },
    {
     "name": "stdout",
     "output_type": "stream",
     "text": [
      "dataset/BCICIV_2a_gdf/A09T.gdf\n"
     ]
    },
    {
     "name": "stderr",
     "output_type": "stream",
     "text": [
      "100%|██████████| 9/9 [03:22<00:00, 22.50s/it]\n"
     ]
    }
   ],
   "source": [
    "for subject_id in tqdm(subjects_idc):\n",
    "    run_path = os.path.join(dataset_path, subject_id)\n",
    "    print(run_path)\n",
    "    raw = mne.io.read_raw_gdf(run_path, verbose=False)\n",
    "    raw_data = raw.to_data_frame()\n",
    "    raw_data = raw_data.drop(columns=[\"time\"])\n",
    "    original_data_length = raw_data.shape[0]\n",
    "\n",
    "    raw_labels = raw.annotations.to_data_frame()\n",
    "    raw_labels = change_labels(raw_labels, labels_remap)\n",
    "    raw_labels = process_annots(raw_labels)\n",
    "\n",
    "    if raw_data.shape[0] != raw_labels.shape[0]:\n",
    "        len_diff = raw_data.shape[0] - raw_labels.shape[0]\n",
    "        \n",
    "        unique = raw_data.iloc[raw_labels.shape[0]:].values\n",
    "        unique = np.unique(unique)\n",
    "\n",
    "        diff_df.append({\"filename\": run_path, \"length_diff\": len_diff, \"diff_value_unique\": unique})\n",
    "    \n",
    "    raw_data = pd.concat([raw_labels, raw_data], axis=1)\n",
    "    raw_data = raw_data.dropna()\n",
    "    raw_data = raw_data.drop(columns=['EOG-left', 'EOG-central', 'EOG-right'])\n",
    "    raw_data.to_csv(os.path.join(save_path, subject_id.rstrip(\".gdf\") + \".csv\"), index=False)\n",
    "    raw_labels.to_csv(os.path.join(save_path, subject_id.rstrip(\".gdf\") + \"_labels.csv\"), index=False)\n",
    "\n",
    "diff_df = pd.DataFrame(diff_df)\n",
    "diff_df.to_csv(os.path.join(save_path, \"data_label_diff.csv\"))"
   ]
  },
  {
   "cell_type": "code",
   "execution_count": 6,
   "metadata": {},
   "outputs": [],
   "source": [
    "filenames = os.listdir('dataset/BCICIV_2a_gdf_csv_full/')\n",
    "if not os.path.isdir('dataset/BCICIV_2a_gdf_csv_full_imagine/'):\n",
    "    os.mkdir('dataset/BCICIV_2a_gdf_csv_full_imagine/')"
   ]
  },
  {
   "cell_type": "code",
   "execution_count": 7,
   "metadata": {},
   "outputs": [
    {
     "name": "stderr",
     "output_type": "stream",
     "text": [
      "100%|██████████| 19/19 [00:47<00:00,  2.49s/it]\n"
     ]
    }
   ],
   "source": [
    "for filename in tqdm(filenames):\n",
    "    if 'label' in filename:\n",
    "        continue\n",
    "    df = pd.read_csv(\"dataset/BCICIV_2a_gdf_csv_full/\" + filename)\n",
    "    df = df[df[\"label\"].str.contains(\"imagine\")]\n",
    "    df.to_csv(\"dataset/BCICIV_2a_gdf_csv_full_imagine/\" + filename[:4] + \"_imagine.csv\", index=False)"
   ]
  },
  {
   "cell_type": "code",
   "execution_count": 12,
   "metadata": {},
   "outputs": [],
   "source": [
    "df = pd.read_csv('dataset/BCICIV_2a_gdf_csv_full_imagine/A06T_imagine.csv')"
   ]
  },
  {
   "cell_type": "code",
   "execution_count": 15,
   "metadata": {},
   "outputs": [
    {
     "data": {
      "text/plain": [
       "(70112, 22)"
      ]
     },
     "execution_count": 15,
     "metadata": {},
     "output_type": "execute_result"
    }
   ],
   "source": [
    "df.iloc[:, 2:].shape"
   ]
  },
  {
   "cell_type": "code",
   "execution_count": 16,
   "metadata": {},
   "outputs": [],
   "source": [
    "import pickle\n",
    "\n",
    "data = pickle.load(open('dataset/train/cross_subject_data_bci_2a_0_5_subjects.pickle', 'rb'))"
   ]
  },
  {
   "cell_type": "code",
   "execution_count": 21,
   "metadata": {},
   "outputs": [
    {
     "data": {
      "text/plain": [
       "array(['imagine_foot', 'imagine_left', 'imagine_right', 'imagine_tongue'],\n",
       "      dtype=object)"
      ]
     },
     "execution_count": 21,
     "metadata": {},
     "output_type": "execute_result"
    }
   ],
   "source": [
    "np.unique(data['y_train'])"
   ]
  },
  {
   "cell_type": "code",
   "execution_count": 23,
   "metadata": {},
   "outputs": [
    {
     "data": {
      "text/plain": [
       "(383425, 22)"
      ]
     },
     "execution_count": 23,
     "metadata": {},
     "output_type": "execute_result"
    }
   ],
   "source": [
    "data['X_train'].shape"
   ]
  },
  {
   "cell_type": "code",
   "execution_count": 24,
   "metadata": {},
   "outputs": [
    {
     "ename": "ValueError",
     "evalue": "cannot reshape array of size 8435350 into shape (100,22)",
     "output_type": "error",
     "traceback": [
      "\u001b[0;31m---------------------------------------------------------------------------\u001b[0m",
      "\u001b[0;31mValueError\u001b[0m                                Traceback (most recent call last)",
      "\u001b[0;32m/tmp/ipykernel_12987/2062128795.py\u001b[0m in \u001b[0;36m<module>\u001b[0;34m\u001b[0m\n\u001b[0;32m----> 1\u001b[0;31m \u001b[0mdata\u001b[0m\u001b[0;34m[\u001b[0m\u001b[0;34m'X_train'\u001b[0m\u001b[0;34m]\u001b[0m\u001b[0;34m.\u001b[0m\u001b[0mreshape\u001b[0m\u001b[0;34m(\u001b[0m\u001b[0;34m-\u001b[0m\u001b[0;36m1\u001b[0m\u001b[0;34m,\u001b[0m \u001b[0;36m100\u001b[0m\u001b[0;34m,\u001b[0m \u001b[0;36m22\u001b[0m\u001b[0;34m)\u001b[0m\u001b[0;34m.\u001b[0m\u001b[0mshape\u001b[0m\u001b[0;34m\u001b[0m\u001b[0;34m\u001b[0m\u001b[0m\n\u001b[0m",
      "\u001b[0;31mValueError\u001b[0m: cannot reshape array of size 8435350 into shape (100,22)"
     ]
    }
   ],
   "source": [
    "data['X_train'].reshape(-1, 100, 22).shape"
   ]
  },
  {
   "cell_type": "code",
   "execution_count": null,
   "metadata": {},
   "outputs": [],
   "source": []
  }
 ],
 "metadata": {
  "interpreter": {
   "hash": "08f727875dfd56538fa49283a137d55f61d09e77a92d8962f0f28a894feeae64"
  },
  "kernelspec": {
   "display_name": "Python 3.7.12 64-bit",
   "language": "python",
   "name": "python3"
  },
  "language_info": {
   "codemirror_mode": {
    "name": "ipython",
    "version": 3
   },
   "file_extension": ".py",
   "mimetype": "text/x-python",
   "name": "python",
   "nbconvert_exporter": "python",
   "pygments_lexer": "ipython3",
   "version": "3.7.12"
  },
  "orig_nbformat": 4
 },
 "nbformat": 4,
 "nbformat_minor": 2
}
