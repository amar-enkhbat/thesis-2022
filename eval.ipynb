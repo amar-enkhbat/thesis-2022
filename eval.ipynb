{
 "cells": [
  {
   "cell_type": "code",
   "execution_count": 2,
   "metadata": {},
   "outputs": [],
   "source": [
    "import os\n",
    "from main import eval_runs\n",
    "from params import PARAMS"
   ]
  },
  {
   "cell_type": "code",
   "execution_count": 5,
   "metadata": {},
   "outputs": [
    {
     "name": "stdout",
     "output_type": "stream",
     "text": [
      "[688933, 890203, 517391, 195645, 705223]\n",
      "imagine_cnn\n",
      "[0.28923611111111114, 0.01112195651253262]\n",
      "imagine_fcn\n",
      "[0.29097222222222224, 0.004735479755897871]\n",
      "imagine_gcn\n",
      "[0.2756944444444444, 0.006892164319888613]\n",
      "imagine_gcn_auto\n",
      "[0.3232638888888889, 0.013949520435139341]\n",
      "imagine_rnn\n",
      "[0.29375, 0.006440012844094235]\n"
     ]
    }
   ],
   "source": [
    "model_names = sorted(os.listdir('./output'))\n",
    "random_seeds = PARAMS['RANDOM_SEEDS']\n",
    "print(random_seeds)\n",
    "final_results = eval_runs(model_names, random_seeds)\n",
    "for k, v in final_results.items():\n",
    "    print(k)\n",
    "    print(v['accuracy'])"
   ]
  },
  {
   "cell_type": "code",
   "execution_count": 4,
   "metadata": {},
   "outputs": [
    {
     "name": "stdout",
     "output_type": "stream",
     "text": [
      "[0, 1, 2, 3, 4]\n",
      "imagine_cnn\n",
      "[0.29965277777777777, 0.014087126927153326]\n",
      "imagine_fcn\n",
      "[0.29375, 0.004308914460413491]\n",
      "imagine_gcn\n",
      "[0.27118055555555554, 0.004836245929577821]\n",
      "imagine_gcn_auto\n",
      "[0.32222222222222224, 0.01185650769372491]\n",
      "imagine_rnn\n",
      "[0.2940972222222222, 0.012548132638606001]\n"
     ]
    }
   ],
   "source": [
    "model_names = sorted(os.listdir('./output'))\n",
    "random_seeds = [0, 1, 2, 3, 4]\n",
    "print(random_seeds)\n",
    "final_results = eval_runs(model_names, random_seeds)\n",
    "for k, v in final_results.items():\n",
    "    print(k)\n",
    "    print(v['accuracy'])"
   ]
  },
  {
   "cell_type": "code",
   "execution_count": 3,
   "metadata": {},
   "outputs": [
    {
     "name": "stdout",
     "output_type": "stream",
     "text": [
      "[688933, 890203, 517391, 195645, 705223]\n",
      "imagine_cnn\n",
      "[0.28923611111111114, 0.01112195651253262]\n",
      "imagine_fcn\n",
      "[0.259375, 0.0043368041655544535]\n",
      "imagine_gcn\n",
      "[0.2756944444444444, 0.006892164319888613]\n",
      "imagine_gcn_auto\n",
      "[0.3232638888888889, 0.013949520435139341]\n",
      "imagine_rnn\n",
      "[0.2833333333333333, 0.011484607922598077]\n"
     ]
    }
   ],
   "source": [
    "model_names = sorted(os.listdir('./output'))\n",
    "random_seeds = PARAMS['RANDOM_SEEDS']\n",
    "print(random_seeds)\n",
    "final_results = eval_runs(model_names, random_seeds)\n",
    "for k, v in final_results.items():\n",
    "    print(k)\n",
    "    print(v['accuracy'])"
   ]
  },
  {
   "cell_type": "code",
   "execution_count": 4,
   "metadata": {},
   "outputs": [
    {
     "name": "stdout",
     "output_type": "stream",
     "text": [
      "[0, 1, 2, 3, 4]\n",
      "imagine_cnn\n",
      "[0.29965277777777777, 0.014087126927153326]\n",
      "imagine_fcn\n",
      "[0.29375, 0.004308914460413491]\n",
      "imagine_gcn\n",
      "[0.27118055555555554, 0.004836245929577821]\n",
      "imagine_gcn_auto\n",
      "[0.32222222222222224, 0.01185650769372491]\n",
      "imagine_rnn\n",
      "[0.2940972222222222, 0.012548132638606001]\n"
     ]
    }
   ],
   "source": [
    "model_names = sorted(os.listdir('./output'))\n",
    "random_seeds = [0, 1, 2, 3, 4]\n",
    "print(random_seeds)\n",
    "final_results = eval_runs(model_names, random_seeds)\n",
    "for k, v in final_results.items():\n",
    "    print(k)\n",
    "    print(v['accuracy'])"
   ]
  },
  {
   "cell_type": "code",
   "execution_count": null,
   "metadata": {},
   "outputs": [],
   "source": []
  }
 ],
 "metadata": {
  "interpreter": {
   "hash": "84c85347d78e9e1e10700c6d8e0f5eee9b662a9651d925575cf1524e055e4541"
  },
  "kernelspec": {
   "display_name": "Python 3.7.12 64-bit ('env': venv)",
   "language": "python",
   "name": "python3"
  },
  "language_info": {
   "codemirror_mode": {
    "name": "ipython",
    "version": 3
   },
   "file_extension": ".py",
   "mimetype": "text/x-python",
   "name": "python",
   "nbconvert_exporter": "python",
   "pygments_lexer": "ipython3",
   "version": "3.7.12"
  },
  "orig_nbformat": 4
 },
 "nbformat": 4,
 "nbformat_minor": 2
}
