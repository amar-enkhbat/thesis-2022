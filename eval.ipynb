{
 "cells": [
  {
   "cell_type": "code",
   "execution_count": 2,
   "metadata": {},
   "outputs": [],
   "source": [
    "import os\n",
    "from main import eval_runs\n",
    "from params import PARAMS"
   ]
  },
  {
   "cell_type": "code",
   "execution_count": 5,
   "metadata": {},
   "outputs": [
    {
     "name": "stdout",
     "output_type": "stream",
     "text": [
      "[688933, 890203, 517391, 195645, 705223]\n",
      "imagine_cnn\n",
      "[0.28923611111111114, 0.01112195651253262]\n",
      "imagine_fcn\n",
      "[0.29097222222222224, 0.004735479755897871]\n",
      "imagine_gcn\n",
      "[0.2756944444444444, 0.006892164319888613]\n",
      "imagine_gcn_auto\n",
      "[0.3232638888888889, 0.013949520435139341]\n",
      "imagine_rnn\n",
      "[0.29375, 0.006440012844094235]\n"
     ]
    }
   ],
   "source": [
    "model_names = sorted(os.listdir('./output'))\n",
    "random_seeds = PARAMS['RANDOM_SEEDS']\n",
    "print(random_seeds)\n",
    "final_results = eval_runs(model_names, random_seeds)\n",
    "for k, v in final_results.items():\n",
    "    print(k)\n",
    "    print(v['accuracy'])"
   ]
  },
  {
   "cell_type": "code",
   "execution_count": 4,
   "metadata": {},
   "outputs": [
    {
     "name": "stdout",
     "output_type": "stream",
     "text": [
      "[0, 1, 2, 3, 4]\n",
      "imagine_cnn\n",
      "[0.29965277777777777, 0.014087126927153326]\n",
      "imagine_fcn\n",
      "[0.29375, 0.004308914460413491]\n",
      "imagine_gcn\n",
      "[0.27118055555555554, 0.004836245929577821]\n",
      "imagine_gcn_auto\n",
      "[0.32222222222222224, 0.01185650769372491]\n",
      "imagine_rnn\n",
      "[0.2940972222222222, 0.012548132638606001]\n"
     ]
    }
   ],
   "source": [
    "model_names = sorted(os.listdir('./output'))\n",
    "random_seeds = [0, 1, 2, 3, 4]\n",
    "print(random_seeds)\n",
    "final_results = eval_runs(model_names, random_seeds)\n",
    "for k, v in final_results.items():\n",
    "    print(k)\n",
    "    print(v['accuracy'])"
   ]
  },
  {
   "cell_type": "code",
   "execution_count": 3,
   "metadata": {},
   "outputs": [
    {
     "name": "stdout",
     "output_type": "stream",
     "text": [
      "[688933, 890203, 517391, 195645, 705223]\n",
      "imagine_cnn\n",
      "[0.28923611111111114, 0.01112195651253262]\n",
      "imagine_fcn\n",
      "[0.259375, 0.0043368041655544535]\n",
      "imagine_gcn\n",
      "[0.2756944444444444, 0.006892164319888613]\n",
      "imagine_gcn_auto\n",
      "[0.3232638888888889, 0.013949520435139341]\n",
      "imagine_rnn\n",
      "[0.2833333333333333, 0.011484607922598077]\n"
     ]
    }
   ],
   "source": [
    "model_names = sorted(os.listdir('./output'))\n",
    "random_seeds = PARAMS['RANDOM_SEEDS']\n",
    "print(random_seeds)\n",
    "final_results = eval_runs(model_names, random_seeds)\n",
    "for k, v in final_results.items():\n",
    "    print(k)\n",
    "    print(v['accuracy'])"
   ]
  },
  {
   "cell_type": "code",
   "execution_count": 4,
   "metadata": {},
   "outputs": [
    {
     "name": "stdout",
     "output_type": "stream",
     "text": [
      "[0, 1, 2, 3, 4]\n",
      "imagine_cnn\n",
      "[0.29965277777777777, 0.014087126927153326]\n",
      "imagine_fcn\n",
      "[0.29375, 0.004308914460413491]\n",
      "imagine_gcn\n",
      "[0.27118055555555554, 0.004836245929577821]\n",
      "imagine_gcn_auto\n",
      "[0.32222222222222224, 0.01185650769372491]\n",
      "imagine_rnn\n",
      "[0.2940972222222222, 0.012548132638606001]\n"
     ]
    }
   ],
   "source": [
    "model_names = sorted(os.listdir('./output'))\n",
    "random_seeds = [0, 1, 2, 3, 4]\n",
    "print(random_seeds)\n",
    "final_results = eval_runs(model_names, random_seeds)\n",
    "for k, v in final_results.items():\n",
    "    print(k)\n",
    "    print(v['accuracy'])"
   ]
  },
  {
   "cell_type": "code",
   "execution_count": 2,
   "metadata": {},
   "outputs": [],
   "source": [
    "import torch\n",
    "from torch import nn"
   ]
  },
  {
   "cell_type": "code",
   "execution_count": 3,
   "metadata": {},
   "outputs": [],
   "source": [
    "node_embeddings = nn.Parameter(torch.randn(64, 64), requires_grad=True)"
   ]
  },
  {
   "cell_type": "code",
   "execution_count": 5,
   "metadata": {},
   "outputs": [
    {
     "name": "stdout",
     "output_type": "stream",
     "text": [
      "Parameter containing:\n",
      "tensor([[-0.9152,  0.4050,  0.0131,  ...,  0.7229, -2.2499,  0.2592],\n",
      "        [ 0.5440,  0.9877,  1.3060,  ..., -0.4470, -0.1944, -0.9888],\n",
      "        [ 0.6952, -1.2124, -0.3913,  ...,  0.1852, -0.4294,  1.5586],\n",
      "        ...,\n",
      "        [-0.2348, -2.5868, -0.1821,  ..., -0.6892, -1.2207,  1.4488],\n",
      "        [ 0.4342,  0.1364,  0.2026,  ..., -0.6974, -0.5861, -0.5135],\n",
      "        [-0.3321, -0.3501, -0.4647,  ..., -0.5017, -0.3689,  0.4645]],\n",
      "       requires_grad=True)\n"
     ]
    }
   ],
   "source": [
    "print(node_embeddings)"
   ]
  },
  {
   "cell_type": "code",
   "execution_count": 6,
   "metadata": {},
   "outputs": [
    {
     "data": {
      "text/plain": [
       "tensor([[-0.9152,  0.5440,  0.6952,  ..., -0.2348,  0.4342, -0.3321],\n",
       "        [ 0.4050,  0.9877, -1.2124,  ..., -2.5868,  0.1364, -0.3501],\n",
       "        [ 0.0131,  1.3060, -0.3913,  ..., -0.1821,  0.2026, -0.4647],\n",
       "        ...,\n",
       "        [ 0.7229, -0.4470,  0.1852,  ..., -0.6892, -0.6974, -0.5017],\n",
       "        [-2.2499, -0.1944, -0.4294,  ..., -1.2207, -0.5861, -0.3689],\n",
       "        [ 0.2592, -0.9888,  1.5586,  ...,  1.4488, -0.5135,  0.4645]],\n",
       "       grad_fn=<PermuteBackward0>)"
      ]
     },
     "execution_count": 6,
     "metadata": {},
     "output_type": "execute_result"
    }
   ],
   "source": [
    "node_embeddings.T"
   ]
  },
  {
   "cell_type": "code",
   "execution_count": 7,
   "metadata": {},
   "outputs": [],
   "source": [
    "sym = torch.mm(node_embeddings, node_embeddings.T)"
   ]
  },
  {
   "cell_type": "code",
   "execution_count": 8,
   "metadata": {},
   "outputs": [
    {
     "data": {
      "text/plain": [
       "tensor([[ 59.5107,  -1.1300,  -6.2444,  ...,  12.8019,  -7.1642,  -0.3903],\n",
       "        [ -1.1300,  65.5720,   4.0584,  ...,   3.3002, -17.4122,  -2.9555],\n",
       "        [ -6.2444,   4.0584,  64.2707,  ...,   7.4791,  -8.0751,   3.3873],\n",
       "        ...,\n",
       "        [ 12.8019,   3.3002,   7.4791,  ...,  80.2636,  -7.7915,  -0.7493],\n",
       "        [ -7.1642, -17.4122,  -8.0751,  ...,  -7.7915,  63.5058,  11.1530],\n",
       "        [ -0.3903,  -2.9555,   3.3873,  ...,  -0.7493,  11.1530,  47.2150]],\n",
       "       grad_fn=<MmBackward0>)"
      ]
     },
     "execution_count": 8,
     "metadata": {},
     "output_type": "execute_result"
    }
   ],
   "source": [
    "sym"
   ]
  },
  {
   "cell_type": "code",
   "execution_count": 9,
   "metadata": {},
   "outputs": [
    {
     "data": {
      "text/plain": [
       "tensor([[59.5107,  0.0000,  0.0000,  ..., 12.8019,  0.0000,  0.0000],\n",
       "        [ 0.0000, 65.5720,  4.0584,  ...,  3.3002,  0.0000,  0.0000],\n",
       "        [ 0.0000,  4.0584, 64.2707,  ...,  7.4791,  0.0000,  3.3873],\n",
       "        ...,\n",
       "        [12.8019,  3.3002,  7.4791,  ..., 80.2636,  0.0000,  0.0000],\n",
       "        [ 0.0000,  0.0000,  0.0000,  ...,  0.0000, 63.5058, 11.1530],\n",
       "        [ 0.0000,  0.0000,  3.3873,  ...,  0.0000, 11.1530, 47.2150]],\n",
       "       grad_fn=<ReluBackward0>)"
      ]
     },
     "execution_count": 9,
     "metadata": {},
     "output_type": "execute_result"
    }
   ],
   "source": [
    "torch.relu(sym)"
   ]
  },
  {
   "cell_type": "code",
   "execution_count": 10,
   "metadata": {},
   "outputs": [
    {
     "data": {
      "text/plain": [
       "tensor([[1.0000, 0.5000, 0.5000,  ..., 1.0000, 0.5000, 0.5000],\n",
       "        [0.5000, 1.0000, 0.9830,  ..., 0.9644, 0.5000, 0.5000],\n",
       "        [0.5000, 0.9830, 1.0000,  ..., 0.9994, 0.5000, 0.9673],\n",
       "        ...,\n",
       "        [1.0000, 0.9644, 0.9994,  ..., 1.0000, 0.5000, 0.5000],\n",
       "        [0.5000, 0.5000, 0.5000,  ..., 0.5000, 1.0000, 1.0000],\n",
       "        [0.5000, 0.5000, 0.9673,  ..., 0.5000, 1.0000, 1.0000]],\n",
       "       grad_fn=<SigmoidBackward0>)"
      ]
     },
     "execution_count": 10,
     "metadata": {},
     "output_type": "execute_result"
    }
   ],
   "source": [
    "torch.sigmoid(torch.relu(sym))"
   ]
  },
  {
   "cell_type": "code",
   "execution_count": 12,
   "metadata": {},
   "outputs": [
    {
     "data": {
      "text/plain": [
       "tensor([[1.0000e+00, 1.4283e-26, 1.4283e-26,  ..., 5.1836e-21, 1.4283e-26,\n",
       "         1.4283e-26],\n",
       "        [3.3299e-29, 1.0000e+00, 1.9275e-27,  ..., 9.0301e-28, 3.3299e-29,\n",
       "         3.3299e-29],\n",
       "        [1.2235e-28, 7.0820e-27, 1.0000e+00,  ..., 2.1663e-25, 1.2235e-28,\n",
       "         3.6199e-27],\n",
       "        ...,\n",
       "        [5.0321e-30, 3.7602e-34, 2.4551e-32,  ..., 1.0000e+00, 1.3866e-35,\n",
       "         1.3866e-35],\n",
       "        [2.6290e-28, 2.6290e-28, 2.6290e-28,  ..., 2.6290e-28, 1.0000e+00,\n",
       "         1.8344e-23],\n",
       "        [3.1245e-21, 3.1245e-21, 9.2444e-20,  ..., 3.1245e-21, 2.1801e-16,\n",
       "         1.0000e+00]], grad_fn=<SoftmaxBackward0>)"
      ]
     },
     "execution_count": 12,
     "metadata": {},
     "output_type": "execute_result"
    }
   ],
   "source": [
    "torch.softmax(torch.relu(sym), dim=1)"
   ]
  },
  {
   "cell_type": "code",
   "execution_count": null,
   "metadata": {},
   "outputs": [],
   "source": []
  }
 ],
 "metadata": {
  "interpreter": {
   "hash": "84c85347d78e9e1e10700c6d8e0f5eee9b662a9651d925575cf1524e055e4541"
  },
  "kernelspec": {
   "display_name": "Python 3.7.12 64-bit ('env': venv)",
   "language": "python",
   "name": "python3"
  },
  "language_info": {
   "codemirror_mode": {
    "name": "ipython",
    "version": 3
   },
   "file_extension": ".py",
   "mimetype": "text/x-python",
   "name": "python",
   "nbconvert_exporter": "python",
   "pygments_lexer": "ipython3",
   "version": "3.7.12"
  },
  "orig_nbformat": 4
 },
 "nbformat": 4,
 "nbformat_minor": 2
}
