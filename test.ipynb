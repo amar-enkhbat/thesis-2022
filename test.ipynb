{
 "cells": [
  {
   "cell_type": "code",
   "execution_count": 1,
   "metadata": {},
   "outputs": [],
   "source": [
    "import pickle\n",
    "\n",
    "data = pickle.load(open('dataset/train/cross_subject_data_5_subjects.pickle', 'rb'))"
   ]
  },
  {
   "cell_type": "code",
   "execution_count": 2,
   "metadata": {},
   "outputs": [
    {
     "data": {
      "text/plain": [
       "dict_keys(['train_x', 'train_y'])"
      ]
     },
     "execution_count": 2,
     "metadata": {},
     "output_type": "execute_result"
    }
   ],
   "source": [
    "data.keys()"
   ]
  },
  {
   "cell_type": "code",
   "execution_count": 3,
   "metadata": {},
   "outputs": [
    {
     "data": {
      "text/plain": [
       "array([[  2.,   4.,   2., ...,  23.,  14.,   2.],\n",
       "       [ -8., -13.,  -9., ...,  -1., -15., -32.],\n",
       "       [-27., -25., -24., ...,   3., -13., -21.],\n",
       "       ...,\n",
       "       [ 21.,  13.,  13., ...,   4.,   7.,   5.],\n",
       "       [ 25.,  22.,  22., ...,   7.,   9.,   8.],\n",
       "       [ 29.,  24.,  24., ...,   8.,  10.,   6.]])"
      ]
     },
     "execution_count": 3,
     "metadata": {},
     "output_type": "execute_result"
    }
   ],
   "source": [
    "data['train_x']"
   ]
  },
  {
   "cell_type": "code",
   "execution_count": 4,
   "metadata": {},
   "outputs": [],
   "source": [
    "data = pickle.load(open('dataset/train/cross_subject_data_5.pickle', 'rb'))"
   ]
  },
  {
   "cell_type": "code",
   "execution_count": 5,
   "metadata": {},
   "outputs": [
    {
     "data": {
      "text/plain": [
       "dict_keys(['X_train', 'y_train', 'X_test', 'y_test'])"
      ]
     },
     "execution_count": 5,
     "metadata": {},
     "output_type": "execute_result"
    }
   ],
   "source": [
    "data.keys()"
   ]
  },
  {
   "cell_type": "code",
   "execution_count": 6,
   "metadata": {},
   "outputs": [
    {
     "data": {
      "text/plain": [
       "array([[-0.43231293, -0.38334137, -0.17407937, ..., -0.00845638,\n",
       "         0.10693576,  0.37164379],\n",
       "       [-0.27945156, -0.22905534,  0.01085111, ...,  0.13534615,\n",
       "         0.26629561,  0.59038473],\n",
       "       [ 0.11119416,  0.13094539,  0.26302904, ...,  0.02749426,\n",
       "         0.0591278 ,  0.28050173],\n",
       "       ...,\n",
       "       [-0.58261321,  0.43783162,  0.74956943, ...,  0.45699471,\n",
       "         0.55623485,  1.46264668],\n",
       "       [-0.53402473,  0.17911734,  0.68284776, ...,  0.65996252,\n",
       "         0.8142153 ,  1.53995317],\n",
       "       [-0.51782857,  0.15559786,  0.87467255, ...,  0.91367228,\n",
       "         1.08737106,  1.75254603]])"
      ]
     },
     "execution_count": 6,
     "metadata": {},
     "output_type": "execute_result"
    }
   ],
   "source": [
    "data['X_train']"
   ]
  },
  {
   "cell_type": "code",
   "execution_count": 10,
   "metadata": {},
   "outputs": [],
   "source": [
    "def asdf(*data):\n",
    "    print(len(data))"
   ]
  },
  {
   "cell_type": "code",
   "execution_count": null,
   "metadata": {},
   "outputs": [],
   "source": []
  }
 ],
 "metadata": {
  "interpreter": {
   "hash": "84c85347d78e9e1e10700c6d8e0f5eee9b662a9651d925575cf1524e055e4541"
  },
  "kernelspec": {
   "display_name": "Python 3.7.12 64-bit ('env': venv)",
   "language": "python",
   "name": "python3"
  },
  "language_info": {
   "codemirror_mode": {
    "name": "ipython",
    "version": 3
   },
   "file_extension": ".py",
   "mimetype": "text/x-python",
   "name": "python",
   "nbconvert_exporter": "python",
   "pygments_lexer": "ipython3",
   "version": "3.7.12"
  },
  "orig_nbformat": 4
 },
 "nbformat": 4,
 "nbformat_minor": 2
}
