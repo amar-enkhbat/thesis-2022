{
 "cells": [
  {
   "cell_type": "code",
   "execution_count": 16,
   "metadata": {},
   "outputs": [],
   "source": [
    "import pickle\n",
    "\n",
    "data = pickle.load(open('dataset/train/cross_subject_data_1_5_subjects.pickle', 'rb'))"
   ]
  },
  {
   "cell_type": "code",
   "execution_count": 17,
   "metadata": {},
   "outputs": [
    {
     "data": {
      "text/plain": [
       "dict_keys(['X_train', 'y_train', 'X_test', 'y_test'])"
      ]
     },
     "execution_count": 17,
     "metadata": {},
     "output_type": "execute_result"
    }
   ],
   "source": [
    "data.keys()"
   ]
  },
  {
   "cell_type": "code",
   "execution_count": 19,
   "metadata": {},
   "outputs": [
    {
     "data": {
      "text/plain": [
       "array([[ 1.2695241 ,  1.1107226 ,  1.26803885, ...,  0.66433213,\n",
       "         0.86513737,  1.59120768],\n",
       "       [ 0.0037209 , -0.37544312, -0.26093623, ..., -0.01469773,\n",
       "         0.19034352,  0.64446829],\n",
       "       [ 0.86087897,  0.65496511,  0.73190473, ...,  0.89581958,\n",
       "         0.71518318,  1.27027908],\n",
       "       ...,\n",
       "       [-0.7397679 , -0.22992578, -0.18137897, ..., -0.45100158,\n",
       "        -0.53665877, -0.41050809],\n",
       "       [-0.68345208, -0.22992578, -0.22001801, ..., -0.48526103,\n",
       "        -0.57028969, -0.25840388],\n",
       "       [ 0.16128509,  0.01932724,  0.01181619, ..., -1.10193121,\n",
       "        -1.04112265, -0.71471649]])"
      ]
     },
     "execution_count": 19,
     "metadata": {},
     "output_type": "execute_result"
    }
   ],
   "source": [
    "data['X_train']"
   ]
  },
  {
   "cell_type": "code",
   "execution_count": 20,
   "metadata": {},
   "outputs": [],
   "source": [
    "data = pickle.load(open('dataset/train/cross_subject_data_5.pickle', 'rb'))"
   ]
  },
  {
   "cell_type": "code",
   "execution_count": 21,
   "metadata": {},
   "outputs": [
    {
     "data": {
      "text/plain": [
       "dict_keys(['X_train', 'y_train', 'X_test', 'y_test'])"
      ]
     },
     "execution_count": 21,
     "metadata": {},
     "output_type": "execute_result"
    }
   ],
   "source": [
    "data.keys()"
   ]
  },
  {
   "cell_type": "code",
   "execution_count": 22,
   "metadata": {},
   "outputs": [
    {
     "data": {
      "text/plain": [
       "array([[-0.43231293, -0.38334137, -0.17407937, ..., -0.00845638,\n",
       "         0.10693576,  0.37164379],\n",
       "       [-0.27945156, -0.22905534,  0.01085111, ...,  0.13534615,\n",
       "         0.26629561,  0.59038473],\n",
       "       [ 0.11119416,  0.13094539,  0.26302904, ...,  0.02749426,\n",
       "         0.0591278 ,  0.28050173],\n",
       "       ...,\n",
       "       [-0.58261321,  0.43783162,  0.74956943, ...,  0.45699471,\n",
       "         0.55623485,  1.46264668],\n",
       "       [-0.53402473,  0.17911734,  0.68284776, ...,  0.65996252,\n",
       "         0.8142153 ,  1.53995317],\n",
       "       [-0.51782857,  0.15559786,  0.87467255, ...,  0.91367228,\n",
       "         1.08737106,  1.75254603]])"
      ]
     },
     "execution_count": 22,
     "metadata": {},
     "output_type": "execute_result"
    }
   ],
   "source": [
    "data['X_train']"
   ]
  },
  {
   "cell_type": "code",
   "execution_count": 23,
   "metadata": {},
   "outputs": [],
   "source": [
    "def asdf(*data):\n",
    "    print(len(data))"
   ]
  },
  {
   "cell_type": "code",
   "execution_count": null,
   "metadata": {},
   "outputs": [],
   "source": []
  }
 ],
 "metadata": {
  "interpreter": {
   "hash": "84c85347d78e9e1e10700c6d8e0f5eee9b662a9651d925575cf1524e055e4541"
  },
  "kernelspec": {
   "display_name": "Python 3.7.12 64-bit ('env': venv)",
   "language": "python",
   "name": "python3"
  },
  "language_info": {
   "codemirror_mode": {
    "name": "ipython",
    "version": 3
   },
   "file_extension": ".py",
   "mimetype": "text/x-python",
   "name": "python",
   "nbconvert_exporter": "python",
   "pygments_lexer": "ipython3",
   "version": "3.7.12"
  },
  "orig_nbformat": 4
 },
 "nbformat": 4,
 "nbformat_minor": 2
}
