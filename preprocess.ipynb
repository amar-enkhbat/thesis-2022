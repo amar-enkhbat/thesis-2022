{
 "metadata": {
  "language_info": {
   "codemirror_mode": {
    "name": "ipython",
    "version": 3
   },
   "file_extension": ".py",
   "mimetype": "text/x-python",
   "name": "python",
   "nbconvert_exporter": "python",
   "pygments_lexer": "ipython3",
   "version": "3.7.10"
  },
  "orig_nbformat": 2,
  "kernelspec": {
   "name": "pythonjvsc74a57bd012a080800f0f6eb796e5b7bb3766959f93357da22153b807b16296d7db7fdd01",
   "display_name": "Python 3.7.10  ('env': venv)"
  },
  "metadata": {
   "interpreter": {
    "hash": "12a080800f0f6eb796e5b7bb3766959f93357da22153b807b16296d7db7fdd01"
   }
  }
 },
 "nbformat": 4,
 "nbformat_minor": 2,
 "cells": [
  {
   "cell_type": "code",
   "execution_count": 1,
   "metadata": {},
   "outputs": [],
   "source": [
    "import mne\n",
    "import os\n",
    "import numpy as np\n",
    "import pandas as pd\n",
    "from tqdm import tqdm\n",
    "import random\n",
    "\n",
    "random_seed = 1\n",
    "random.seed(random_seed)\n",
    "np.random.seed(random_seed)"
   ]
  },
  {
   "cell_type": "code",
   "execution_count": 2,
   "metadata": {},
   "outputs": [],
   "source": [
    "# For remapping original labels in to interpretable labels\n",
    "labels_remap = {\"R01\": {\"T0\": \"eyes_open\"},\n",
    "          \"R02\": {\"T0\": \"eyes_closed\"},\n",
    "          \"R03\": {\"T0\": \"rest\", \"T1\": \"real_left_fist\", \"T2\": \"real_right_fist\"},\n",
    "          \"R04\": {\"T0\": \"rest\", \"T1\": \"imagine_left_fist\", \"T2\": \"imagine_right_fist\"},\n",
    "          \"R05\": {\"T0\": \"rest\", \"T1\": \"real_both_fist\", \"T2\": \"real_both_feet\"},\n",
    "          \"R06\": {\"T0\": \"rest\", \"T1\": \"imagine_both_fist\", \"T2\": \"imagine_both_feet\"},\n",
    "          \"R07\": {\"T0\": \"rest\", \"T1\": \"real_left_fist\", \"T2\": \"real_right_fist\"},\n",
    "          \"R08\": {\"T0\": \"rest\", \"T1\": \"imagine_left_fist\", \"T2\": \"imagine_right_fist\"},\n",
    "          \"R09\": {\"T0\": \"rest\", \"T1\": \"real_both_fist\", \"T2\": \"real_both_feet\"},\n",
    "          \"R10\": {\"T0\": \"rest\", \"T1\": \"imagine_both_fist\", \"T2\": \"imagine_both_feet\"},\n",
    "          \"R11\": {\"T0\": \"rest\", \"T1\": \"real_left_fist\", \"T2\": \"real_right_fist\"},\n",
    "          \"R12\": {\"T0\": \"rest\", \"T1\": \"imagine_left_fist\", \"T2\": \"imagine_right_fist\"},\n",
    "          \"R13\": {\"T0\": \"rest\", \"T1\": \"real_both_fist\", \"T2\": \"real_both_feet\"},\n",
    "          \"R14\": {\"T0\": \"rest\", \"T1\": \"imagine_both_fist\", \"T2\": \"imagine_both_feet\"}\n",
    "         }\n"
   ]
  },
  {
   "cell_type": "code",
   "execution_count": 3,
   "metadata": {},
   "outputs": [],
   "source": [
    "dataset_path = \"dataset/physionet.org/files/eegmmidb/1.0.0/\"\n",
    "save_path = \"dataset/physionet.org_csv\"\n",
    "\n",
    "if not os.path.isdir(save_path):\n",
    "    os.mkdir(save_path)\n",
    "    \n",
    "subjects_idc = [f\"S{i:03d}\" for i in range(1, 110)]\n",
    "# Recorded in 160 times per second\n",
    "freq = 160\n",
    "timestep = pd.to_timedelta(f\"{1 / freq} seconds\")"
   ]
  },
  {
   "cell_type": "code",
   "execution_count": 4,
   "metadata": {},
   "outputs": [],
   "source": [
    "# Convert length annoations into timestep annotations\n",
    "def process_annots(annot_df):\n",
    "    new_annots = {\"timestamp\": [], \"label\": []}\n",
    "    for onset, duration, description in annot_df.values:\n",
    "        duration = pd.to_timedelta(f\"{duration} seconds\")\n",
    "        stop_onset = onset + duration\n",
    "\n",
    "        while onset != stop_onset:\n",
    "            new_annots[\"timestamp\"].append(onset)\n",
    "            new_annots[\"label\"].append(description)\n",
    "            onset = onset + timestep\n",
    "\n",
    "    new_annots = pd.DataFrame(new_annots)\n",
    "    return new_annots\n",
    "\n",
    "# Change original labels into interpretable labels\n",
    "def change_labels(filename, label_df):\n",
    "    filename = filename.rstrip(\".edf\")[-3:]\n",
    "    label_df[\"description\"] = label_df[\"description\"].replace(labels_remap[filename])\n",
    "    return label_df\n"
   ]
  },
  {
   "source": [
    "# Convert .edf to .csv"
   ],
   "cell_type": "markdown",
   "metadata": {}
  },
  {
   "cell_type": "code",
   "execution_count": 5,
   "metadata": {
    "tags": []
   },
   "outputs": [
    {
     "output_type": "stream",
     "name": "stderr",
     "text": [
      " 91%|█████████ | 99/109 [02:50<00:17,  1.74s/it]<ipython-input-5-c2e01ae7d30a>:13: RuntimeWarning: Limited 1 annotation(s) that were expanding outside the data range.\n",
      "  raw = mne.io.read_raw_edf(run_path, verbose=False)\n",
      "<ipython-input-5-c2e01ae7d30a>:13: RuntimeWarning: Limited 1 annotation(s) that were expanding outside the data range.\n",
      "  raw = mne.io.read_raw_edf(run_path, verbose=False)\n",
      "<ipython-input-5-c2e01ae7d30a>:13: RuntimeWarning: Limited 1 annotation(s) that were expanding outside the data range.\n",
      "  raw = mne.io.read_raw_edf(run_path, verbose=False)\n",
      "<ipython-input-5-c2e01ae7d30a>:13: RuntimeWarning: Limited 1 annotation(s) that were expanding outside the data range.\n",
      "  raw = mne.io.read_raw_edf(run_path, verbose=False)\n",
      "<ipython-input-5-c2e01ae7d30a>:13: RuntimeWarning: Limited 1 annotation(s) that were expanding outside the data range.\n",
      "  raw = mne.io.read_raw_edf(run_path, verbose=False)\n",
      "<ipython-input-5-c2e01ae7d30a>:13: RuntimeWarning: Limited 1 annotation(s) that were expanding outside the data range.\n",
      "  raw = mne.io.read_raw_edf(run_path, verbose=False)\n",
      "<ipython-input-5-c2e01ae7d30a>:13: RuntimeWarning: Limited 1 annotation(s) that were expanding outside the data range.\n",
      "  raw = mne.io.read_raw_edf(run_path, verbose=False)\n",
      "<ipython-input-5-c2e01ae7d30a>:13: RuntimeWarning: Limited 1 annotation(s) that were expanding outside the data range.\n",
      "  raw = mne.io.read_raw_edf(run_path, verbose=False)\n",
      "<ipython-input-5-c2e01ae7d30a>:13: RuntimeWarning: Limited 1 annotation(s) that were expanding outside the data range.\n",
      "  raw = mne.io.read_raw_edf(run_path, verbose=False)\n",
      "<ipython-input-5-c2e01ae7d30a>:13: RuntimeWarning: Limited 1 annotation(s) that were expanding outside the data range.\n",
      "  raw = mne.io.read_raw_edf(run_path, verbose=False)\n",
      "<ipython-input-5-c2e01ae7d30a>:13: RuntimeWarning: Limited 1 annotation(s) that were expanding outside the data range.\n",
      "  raw = mne.io.read_raw_edf(run_path, verbose=False)\n",
      "<ipython-input-5-c2e01ae7d30a>:13: RuntimeWarning: Limited 1 annotation(s) that were expanding outside the data range.\n",
      "  raw = mne.io.read_raw_edf(run_path, verbose=False)\n",
      "100%|██████████| 109/109 [03:07<00:00,  1.72s/it]\n"
     ]
    }
   ],
   "source": [
    "# For recording length differences between data_df and labels_df\n",
    "diff_df = []\n",
    "\n",
    "# Convert dataset into .csv and save\n",
    "for subject_id in tqdm(subjects_idc):\n",
    "    runs = os.listdir(os.path.join(dataset_path, subject_id))\n",
    "    runs = [i for i in runs if i.endswith(\".edf\")]\n",
    "    runs.sort()\n",
    "\n",
    "    for run in runs:\n",
    "        run_path = os.path.join(dataset_path, subject_id, run)\n",
    "\n",
    "        raw = mne.io.read_raw_edf(run_path, verbose=False)\n",
    "        raw_data = raw.to_data_frame()\n",
    "        raw_data = raw_data.drop(columns=[\"time\"])\n",
    "        original_data_length = raw_data.shape[0]\n",
    "\n",
    "        raw_labels = raw.annotations.to_data_frame()\n",
    "        raw_labels = change_labels(run, raw_labels)\n",
    "        raw_labels = process_annots(raw_labels)\n",
    "        \n",
    "\n",
    "        if raw_data.shape[0] != raw_labels.shape[0]:\n",
    "            len_diff = raw_data.shape[0] - raw_labels.shape[0]\n",
    "            \n",
    "            unique = raw_data.iloc[raw_labels.shape[0]:].values\n",
    "            unique = np.unique(unique)\n",
    "\n",
    "            diff_df.append({\"filename\": run, \"length_diff\": len_diff, \"diff_value_unique\": unique})\n",
    "        \n",
    "        raw_data = pd.concat([raw_labels, raw_data], axis=1)\n",
    "        raw_data = raw_data.dropna()\n",
    "\n",
    "        assert raw_data.shape[0] == raw_labels.shape[0] or raw_data.shape[0] == original_data_length\n",
    "\n",
    "        if not os.path.exists(os.path.join(save_path, subject_id)):\n",
    "            os.mkdir(os.path.join(save_path, subject_id))\n",
    "        # raw_data.to_csv(os.path.join(save_path, subject_id, run.rstrip(\".edf\") + \".csv\"), index=False)\n",
    "        # raw_labels.to_csv(os.path.join(save_path, subject_id, run.rstrip(\".edf\") + \"_labels.csv\"), index=False)\n",
    "\n",
    "diff_df = pd.DataFrame(diff_df)\n",
    "# diff_df.to_csv(os.path.join(save_path, \"data_label_diff.csv\"))\n",
    "\n",
    "# Note 1: subject 100 showed errors. \n",
    "# we're ignoring subjects:\n",
    "# #88, 89, 92 100 anyway.\n",
    "\n",
    "# Note 2: when len(raw_data.shape[0]) != len(raw_labels.shape[0]) the leftover dataframe is [0.] or [], when diff is positive or negative respectively\n",
    "# #88, 92, 100 has more labels than data\n"
   ]
  },
  {
   "source": [
    "# Concat data per subject"
   ],
   "cell_type": "markdown",
   "metadata": {}
  },
  {
   "cell_type": "code",
   "execution_count": 16,
   "metadata": {
    "tags": []
   },
   "outputs": [
    {
     "output_type": "stream",
     "name": "stderr",
     "text": [
      "  0%|          | 0/2 [00:00<?, ?it/s]S001\n",
      " 50%|█████     | 1/2 [00:09<00:09,  9.73s/it]S002\n",
      "100%|██████████| 2/2 [00:18<00:00,  9.36s/it]\n"
     ]
    }
   ],
   "source": [
    "# Concat data of each subject\n",
    "\n",
    "# For getting columns names only\n",
    "temp = pd.read_csv(\"dataset/physionet.org_csv/S001/S001R01.csv\")\n",
    "columns = temp.columns\n",
    "\n",
    "if not os.path.isdir(\"./dataset/physionet.org_csv_full/\"):\n",
    "    os.mkdir(\"./dataset/physionet.org_csv_full/\")\n",
    "\n",
    "# Save .csv files as one .csv per subject\n",
    "for subject_id in tqdm(subjects_idc):\n",
    "    runs = os.listdir(os.path.join(save_path, subject_id))\n",
    "    runs = [i for i in runs if len(i) == 11]\n",
    "    runs.sort()\n",
    "    full_data = pd.DataFrame([], columns=columns)\n",
    "    for run in runs:\n",
    "        run_path = os.path.join(save_path, subject_id, run)\n",
    "        data = pd.read_csv(run_path)\n",
    "        full_data = pd.concat([full_data, data], axis=0)\n",
    "    full_data = full_data.reset_index()\n",
    "    full_data = full_data.rename(columns = {'index':'original_index'})\n",
    "    full_data.to_csv(\"./dataset/physionet.org_csv_full/\" + subject_id + \".csv\", index=False)"
   ]
  },
  {
   "source": [
    "# Extract imagined data from full"
   ],
   "cell_type": "markdown",
   "metadata": {}
  },
  {
   "cell_type": "code",
   "execution_count": 31,
   "metadata": {},
   "outputs": [],
   "source": [
    "filenames = os.listdir(\"./dataset/physionet.org_csv_full/\")\n",
    "if not os.path.isdir(\"./dataset/physionet.org_csv_full_imagine/\"):\n",
    "    os.mkdir(\"./dataset/physionet.org_csv_full_imagine/\")"
   ]
  },
  {
   "cell_type": "code",
   "execution_count": 33,
   "metadata": {},
   "outputs": [
    {
     "output_type": "stream",
     "name": "stdout",
     "text": [
      "       original_index                   timestamp               label  Fc5.  \\\n",
      "39856             672  2009-08-12 16:15:04.200000  imagine_right_fist -25.0   \n",
      "39857             673  2009-08-12 16:15:04.206250  imagine_right_fist -16.0   \n",
      "39858             674  2009-08-12 16:15:04.212500  imagine_right_fist   7.0   \n",
      "39859             675  2009-08-12 16:15:04.218750  imagine_right_fist  32.0   \n",
      "39860             676  2009-08-12 16:15:04.225000  imagine_right_fist  45.0   \n",
      "\n",
      "       Fc3.  Fc1.  Fcz.  Fc2.  Fc4.  Fc6.  ...  P8..  Po7.  Po3.  Poz.  Po4.  \\\n",
      "39856 -20.0  -8.0   2.0  13.0  11.0  31.0  ...  -1.0   8.0  22.0  17.0  25.0   \n",
      "39857 -11.0   3.0  22.0  27.0  29.0  49.0  ... -20.0  -7.0   8.0  10.0   7.0   \n",
      "39858  10.0  18.0  23.0  34.0  29.0  41.0  ... -15.0   2.0  15.0  21.0  15.0   \n",
      "39859  44.0  49.0  50.0  63.0  55.0  60.0  ...  18.0  10.0  27.0  48.0  53.0   \n",
      "39860  64.0  76.0  84.0  91.0  87.0  90.0  ...  15.0  -8.0  14.0  54.0  68.0   \n",
      "\n",
      "       Po8.  O1..  Oz..  O2..  Iz..  \n",
      "39856   5.0  14.0   2.0  10.0  24.0  \n",
      "39857 -20.0  18.0  10.0  20.0  36.0  \n",
      "39858 -12.0  10.0   4.0   7.0  19.0  \n",
      "39859  16.0  12.0  11.0   8.0   6.0  \n",
      "39860  34.0  15.0  25.0  29.0  13.0  \n",
      "\n",
      "[5 rows x 67 columns]\n",
      "       original_index                   timestamp              label  Fc5.  \\\n",
      "39568             656  2009-08-12 16:15:04.100000  imagine_left_fist -25.0   \n",
      "39569             657  2009-08-12 16:15:04.106250  imagine_left_fist -21.0   \n",
      "39570             658  2009-08-12 16:15:04.112500  imagine_left_fist -22.0   \n",
      "39571             659  2009-08-12 16:15:04.118750  imagine_left_fist  -8.0   \n",
      "39572             660  2009-08-12 16:15:04.125000  imagine_left_fist -20.0   \n",
      "\n",
      "       Fc3.  Fc1.  Fcz.  Fc2.  Fc4.  Fc6.  ...  P8..  Po7.  Po3.  Poz.  Po4.  \\\n",
      "39568 -19.0  -4.0   1.0  -3.0   0.0 -17.0  ...   0.0  -9.0 -13.0 -10.0   6.0   \n",
      "39569 -23.0  -7.0   0.0   1.0  12.0  -1.0  ...   1.0   2.0  -6.0  -6.0   9.0   \n",
      "39570 -26.0 -10.0   3.0   7.0  19.0  -1.0  ... -14.0  -1.0 -13.0 -30.0 -11.0   \n",
      "39571 -15.0  -5.0  -3.0   5.0  15.0  -7.0  ... -15.0 -15.0 -14.0 -39.0 -20.0   \n",
      "39572 -26.0 -16.0  -6.0  -2.0   0.0 -20.0  ... -27.0 -25.0 -33.0 -52.0 -35.0   \n",
      "\n",
      "       Po8.  O1..  Oz..  O2..  Iz..  \n",
      "39568  -4.0 -14.0  -1.0  15.0  -4.0  \n",
      "39569  -2.0  -3.0   3.0  20.0   2.0  \n",
      "39570 -23.0 -14.0 -13.0 -11.0 -16.0  \n",
      "39571 -31.0 -21.0 -11.0 -26.0 -13.0  \n",
      "39572 -38.0 -39.0 -30.0 -39.0 -31.0  \n",
      "\n",
      "[5 rows x 67 columns]\n"
     ]
    }
   ],
   "source": [
    "for filename in filenames:\n",
    "    df = pd.read_csv(\"./dataset/physionet.org_csv_full/\" + filename)\n",
    "    df = df[df[\"label\"].str.contains(\"imagine\")]\n",
    "    df.to_csv(\"./dataset/physionet.org_csv_full_imagine/\" + filename, index=False)"
   ]
  },
  {
   "cell_type": "code",
   "execution_count": null,
   "metadata": {},
   "outputs": [],
   "source": []
  }
 ]
}