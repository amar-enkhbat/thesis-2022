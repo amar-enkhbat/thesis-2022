{
 "cells": [
  {
   "cell_type": "code",
   "execution_count": 1,
   "source": [
    "import os\n",
    "import random\n",
    "import torch\n",
    "from torch import nn\n",
    "from torch.utils.data import TensorDataset, Dataset\n",
    "\n",
    "import numpy as np \n",
    "import pickle\n",
    "import matplotlib.pyplot as plt\n",
    "import time\n",
    "import copy\n",
    "\n",
    "from sklearn.model_selection import train_test_split\n",
    "device = torch.device('cuda' if torch.cuda.is_available() else 'cpu')\n",
    "\n",
    "random_seed = 1\n",
    "random.seed(random_seed)\n",
    "np.random.seed(random_seed)\n",
    "torch.manual_seed(random_seed)\n",
    "\n",
    "from torch.utils.tensorboard import SummaryWriter\n",
    "writer = SummaryWriter('runs/gnn')"
   ],
   "outputs": [],
   "metadata": {}
  },
  {
   "cell_type": "markdown",
   "source": [
    "# Load data and normalize"
   ],
   "metadata": {}
  },
  {
   "cell_type": "code",
   "execution_count": 2,
   "source": [
    "X = pickle.load(open('../dataset/train/cross_subject_data_5_subjects.pickle', 'rb'))\n",
    "y = X['train_y']\n",
    "\n",
    "X = X['train_x'].astype(np.float32)\n",
    "\n",
    "label_map = {'imagine_both_feet': 0, 'imagine_both_fist': 1, 'imagine_left_fist': 2, 'imagine_right_fist': 3}\n",
    "y = np.vectorize(label_map.__getitem__)(y)"
   ],
   "outputs": [],
   "metadata": {}
  },
  {
   "cell_type": "code",
   "execution_count": 3,
   "source": [
    "# Normalize\n",
    "mean, std = X.mean(), X.std()\n",
    "X = (X - mean) / std"
   ],
   "outputs": [],
   "metadata": {}
  },
  {
   "cell_type": "markdown",
   "source": [
    "# Import Adj Matrix"
   ],
   "metadata": {}
  },
  {
   "cell_type": "code",
   "execution_count": 4,
   "source": [
    "from convert_to_graphs import n_graph, d_graph, s_graph, normalize_adj\n",
    "\n",
    "seq_len = 100\n",
    "n_channels = 64\n",
    "batch_size = 32\n",
    "\n",
    "A = n_graph()\n",
    "A = np.array(A, dtype=np.float32)\n",
    "A = normalize_adj(A)\n",
    "A = A + np.eye(A.shape[0], dtype=np.float32)\n",
    "\n",
    "\n",
    "A_big = np.zeros((n_channels*batch_size, n_channels*batch_size), dtype=np.float32)\n",
    "print(A_big.shape)\n",
    "for i in range(0, A_big.shape[0], n_channels):\n",
    "    A_big[i:i+n_channels, i:i+n_channels] = A\n",
    "\n",
    "# A_bigger = []\n",
    "# for i in range(batch_size):\n",
    "#     A_bigger.append(A_big)\n",
    "\n",
    "# A_bigger = np.array(A_bigger, dtype=np.float32)\n",
    "\n",
    "A = torch.Tensor(A_big).to(device)\n",
    "\n",
    "print('Adjacency Matrix A:')\n",
    "print(A.shape)\n",
    "\n"
   ],
   "outputs": [
    {
     "output_type": "stream",
     "name": "stdout",
     "text": [
      "(2048, 2048)\n",
      "Adjacency Matrix A:\n",
      "torch.Size([2048, 2048])\n"
     ]
    }
   ],
   "metadata": {}
  },
  {
   "cell_type": "code",
   "execution_count": 5,
   "source": [
    "# import mne \n",
    "# import pandas as pd\n",
    "# import numpy as np \n",
    "\n",
    "# ten_twenty_montage = mne.channels.make_standard_montage(\"standard_1020\")\n",
    "# ch_names = pd.read_csv(\"../dataset/physionet.org_csv/S001/S001R01.csv\")\n",
    "# ch_names = ch_names.columns[2:]\n",
    "\n",
    "# ch_pos_1020 = ten_twenty_montage.get_positions()[\"ch_pos\"]\n",
    "\n",
    "# ch_pos_1010 = {}\n",
    "# for ch_name_orig in ch_names:\n",
    "#     ch_name = ch_name_orig.upper().rstrip(\".\")\n",
    "#     if \"Z\" in ch_name:\n",
    "#         ch_name = ch_name.replace(\"Z\", \"z\")\n",
    "#     if \"P\" in ch_name and len(ch_name) > 2:\n",
    "#         ch_name = ch_name.replace(\"P\", \"p\")\n",
    "#     if \"Cp\" in ch_name:\n",
    "#         ch_name = ch_name.replace(\"Cp\", \"CP\")\n",
    "#     if \"Tp\" in ch_name:\n",
    "#         ch_name = ch_name.replace(\"Tp\", \"TP\")\n",
    "#     if \"pO\" in ch_name:\n",
    "#         ch_name = ch_name.replace(\"pO\", \"PO\")\n",
    "#     ch_pos_1010[ch_name_orig] = ch_pos_1020[ch_name]\n",
    "# print(len(ch_pos_1010))\n",
    "\n",
    "# ch_pos_1010_names = []\n",
    "# ch_pos_1010_dist = []\n",
    "# for name, value in ch_pos_1010.items():\n",
    "#     ch_pos_1010_names.append(name)\n",
    "#     ch_pos_1010_dist.append(value)\n",
    "# ch_pos_1010_dist = np.array(ch_pos_1010_dist)\n",
    "\n",
    "# A = d_graph(n_channels, ch_pos_1010_dist)\n",
    "# A = np.array(A, dtype=np.float32)\n",
    "\n",
    "# A = normalize_adj(A)\n",
    "# A = A + np.eye(A.shape[0], dtype=np.float32)\n",
    "\n",
    "\n",
    "# A_big = np.zeros((n_channels*batch_size, n_channels*batch_size), dtype=np.float32)\n",
    "# print(A_big.shape)\n",
    "# for i in range(0, A_big.shape[0], n_channels):\n",
    "#     A_big[i:i+n_channels, i:i+n_channels] = A\n",
    "\n",
    "# # A_bigger = []\n",
    "# # for i in range(batch_size):\n",
    "# #     A_bigger.append(A_big)\n",
    "\n",
    "# # A_bigger = np.array(A_bigger, dtype=np.float32)\n",
    "\n",
    "# A = torch.Tensor(A_big).to(device)\n",
    "\n",
    "# print('Adjacency Matrix A:')\n",
    "# print(A.shape)"
   ],
   "outputs": [],
   "metadata": {}
  },
  {
   "cell_type": "markdown",
   "source": [
    "# Convert data to [n_samples, n_channels] -> [n_samples, seq_len, n_channels]"
   ],
   "metadata": {}
  },
  {
   "cell_type": "code",
   "execution_count": 6,
   "source": [
    "# def reshape_data_gnn(X, y, seq_len):\n",
    "#     print('X original shape:', X.shape)\n",
    "#     print('y original shape:', y.shape)\n",
    "#     print('Seq len:', seq_len)\n",
    "#     len_tail = X.shape[0] % seq_len\n",
    "#     if len_tail == 0:\n",
    "#         X = X.reshape(-1, seq_len*n_channels, 1)\n",
    "#         y = y.reshape(-1, seq_len)\n",
    "#     else:\n",
    "#         X = X[:-len_tail].reshape(-1, seq_len*n_channels, 1)\n",
    "#         y = y[:-len_tail].reshape(-1, seq_len)\n",
    "#     y = y[:, -1]\n",
    "#     print('X conversion shape:', X.shape)\n",
    "#     print('y conversion shape:', y.shape)\n",
    "#     return X, y\n",
    "\n",
    "def reshape_data_gnn_2(X, y, seq_len):\n",
    "    print('X original shape:', X.shape)\n",
    "    print('y original shape:', y.shape)\n",
    "    print('Seq len:', seq_len)\n",
    "    len_tail = X.shape[0] % seq_len\n",
    "    if len_tail == 0:\n",
    "        X = X.reshape(-1, seq_len, n_channels)\n",
    "        X = np.moveaxis(X, 1, -1)\n",
    "        y = y.reshape(-1, seq_len)\n",
    "    else:\n",
    "        X = X[:-len_tail].reshape(-1, seq_len, n_channels)\n",
    "        X = np.moveaxis(X, 1, -1)\n",
    "        y = y[:-len_tail].reshape(-1, seq_len)\n",
    "    y = y[:, -1]\n",
    "    print('X conversion shape:', X.shape)\n",
    "    print('y conversion shape:', y.shape)\n",
    "    return X, y\n",
    "\n",
    "X, y = reshape_data_gnn_2(X, y, seq_len)"
   ],
   "outputs": [
    {
     "output_type": "stream",
     "name": "stdout",
     "text": [
      "X original shape: (295008, 64)\n",
      "y original shape: (295008,)\n",
      "Seq len: 100\n",
      "X conversion shape: (2950, 64, 100)\n",
      "y conversion shape: (2950,)\n"
     ]
    }
   ],
   "metadata": {}
  },
  {
   "cell_type": "code",
   "execution_count": 7,
   "source": [
    "X_train, X_test, y_train, y_test = train_test_split(X, y, test_size=0.2, random_state=random_seed, stratify=y)\n",
    "def print_class_dist(y):\n",
    "    dist = {}\n",
    "\n",
    "    labels = np.unique(y)\n",
    "    for label in labels:\n",
    "        dist[str(label)] = len(y[y == label]) / len(y)\n",
    "    print(dist)\n",
    "print_class_dist(y)\n",
    "print_class_dist(y_train)\n",
    "print_class_dist(y_test)"
   ],
   "outputs": [
    {
     "output_type": "stream",
     "name": "stdout",
     "text": [
      "{'0': 0.24745762711864408, '1': 0.25254237288135595, '2': 0.25864406779661014, '3': 0.24135593220338983}\n",
      "{'0': 0.24745762711864408, '1': 0.25254237288135595, '2': 0.2584745762711864, '3': 0.24152542372881355}\n",
      "{'0': 0.24745762711864408, '1': 0.25254237288135595, '2': 0.2593220338983051, '3': 0.24067796610169492}\n"
     ]
    }
   ],
   "metadata": {}
  },
  {
   "cell_type": "code",
   "execution_count": 8,
   "source": [
    "X_train, y_train = torch.tensor(X_train).to(device), torch.tensor(y_train).to(device)\n",
    "X_test, y_test = torch.tensor(X_test).to(device), torch.tensor(y_test).to(device)\n",
    "\n",
    "train_dataset = TensorDataset(X_train, y_train)\n",
    "test_dataset = TensorDataset(X_test, y_test)\n",
    "\n",
    "train_loader = torch.utils.data.DataLoader(train_dataset, batch_size=batch_size, shuffle=True, drop_last=True)\n",
    "test_loader = torch.utils.data.DataLoader(test_dataset, batch_size=batch_size, drop_last=True)\n",
    "\n",
    "dataset_sizes = {'train': len(train_dataset), 'val': len(test_dataset)}\n",
    "dataloaders = {'train': train_loader, 'val': test_loader}\n",
    "class_names = list(label_map.keys())\n",
    "print(class_names)"
   ],
   "outputs": [
    {
     "output_type": "stream",
     "name": "stdout",
     "text": [
      "['imagine_both_feet', 'imagine_both_fist', 'imagine_left_fist', 'imagine_right_fist']\n"
     ]
    }
   ],
   "metadata": {}
  },
  {
   "cell_type": "code",
   "execution_count": 9,
   "source": [
    "def train_model(model, criterion, optimizer, num_epochs=25):\n",
    "    since = time.time()\n",
    "\n",
    "    best_model_wts = copy.deepcopy(model.state_dict())\n",
    "    best_acc = 0.0\n",
    "\n",
    "    for epoch in range(num_epochs):\n",
    "        print(f'Epoch {epoch}/{num_epochs-1}')\n",
    "        print('-' * 10)\n",
    "\n",
    "        for phase in ['train', 'val']:\n",
    "            if phase == 'train':\n",
    "                model.train()\n",
    "            else:\n",
    "                model.eval()\n",
    "\n",
    "            running_loss = 0.0\n",
    "            running_corrects = 0.0\n",
    "\n",
    "            for inputs, labels in dataloaders[phase]:\n",
    "                inputs = inputs.to(device)\n",
    "                labels = labels.to(device)\n",
    "\n",
    "                with torch.set_grad_enabled(phase == 'train'):\n",
    "                    outputs = model(inputs)\n",
    "                    _, preds = torch.max(outputs, 1)\n",
    "                    loss = criterion(outputs, labels)\n",
    "\n",
    "                    if phase == 'train':\n",
    "                        optimizer.zero_grad()\n",
    "                        loss.backward()\n",
    "                        optimizer.step()\n",
    "\n",
    "                running_loss += loss.item() * inputs.size(0)\n",
    "                running_corrects += torch.sum(preds == labels.data)\n",
    "\n",
    "            epoch_loss = running_loss / dataset_sizes[phase]\n",
    "            epoch_acc = running_corrects.double() / dataset_sizes[phase]\n",
    "            writer.add_scalar(f'{phase} loss', epoch_loss, epoch)\n",
    "            writer.add_scalar(f'{phase} accuracy', epoch_acc, epoch)\n",
    "\n",
    "            print(f'{phase} Loss: {epoch_loss:.4f} Acc: {epoch_acc:.4f}')\n",
    "\n",
    "            if phase == 'val' and epoch_acc > best_acc:\n",
    "                best_acc = epoch_acc\n",
    "                best_model_wts = copy.deepcopy(model.state_dict())\n",
    "\n",
    "        print()\n",
    "\n",
    "    time_elapsed = time.time() - since\n",
    "    print(f'Training complete in {time_elapsed // 60:.0f}m {time_elapsed%60:.0f}s')\n",
    "    print(f'Best val acc: {best_acc:.4f}')\n",
    "\n",
    "    model.load_state_dict(best_model_wts)\n",
    "    return model"
   ],
   "outputs": [],
   "metadata": {}
  },
  {
   "cell_type": "markdown",
   "source": [
    "# Test computation"
   ],
   "metadata": {}
  },
  {
   "cell_type": "code",
   "execution_count": 10,
   "source": [
    "# import time\n",
    "# import torch\n",
    "# from layers_original import GraphConvolution\n",
    "\n",
    "# torch.manual_seed(0)\n",
    "# device = torch.device('cuda' if torch.cuda.is_available() else 'cpu')\n",
    "\n",
    "# x = torch.randn(16, 64, 32).to(device)\n",
    "# x = x.view(-1, 32)\n",
    "# # A = torch.randn(16*64, 16*64).to(device)\n",
    "# # weight = torch.randn(32, 512).to(device)\n",
    "# # A = A.to_sparse()\n",
    "# print(A.is_sparse)\n",
    "# gcn = GraphConvolution(32, 128).to(device)\n",
    "# now = time.time()\n",
    "\n",
    "# out = gcn(x, A)\n",
    "# print(out.shape)\n",
    "# out = out.view(16, 64, 128)\n",
    "# # support = torch.matmul(x, weight)\n",
    "# # output = torch.bmm(A, support)\n",
    "# print(out.shape)\n",
    "# print('elapsed time:', time.time() - now)"
   ],
   "outputs": [],
   "metadata": {}
  },
  {
   "cell_type": "code",
   "execution_count": 11,
   "source": [
    "in_features = seq_len\n",
    "hidden_size_1 = 256\n",
    "hidden_size_2 = 512\n",
    "hidden_size_3 = 256\n",
    "hidden_size_4 = 4\n",
    "num_classes = 4\n",
    "num_epochs = 100\n",
    "\n",
    "# from layers_batchwise import BatchwiseGraphConvolution\n",
    "from layers_batchwise_2 import GraphConvolution\n",
    "import torch.nn.functional as F\n",
    "\n",
    "class AVWGCN(nn.Module):\n",
    "    def __init__(self, dim_in, dim_out, cheb_k, embed_dim):\n",
    "        super(AVWGCN, self).__init__()\n",
    "        self.cheb_k = cheb_k\n",
    "        self.weights_pool = nn.Parameter(torch.FloatTensor(embed_dim, cheb_k, dim_in, dim_out))\n",
    "        self.bias_pool = nn.Parameter(torch.FloatTensor(embed_dim, dim_out))\n",
    "    def forward(self, x, node_embeddings):\n",
    "        #x shaped[B, N, C], node_embeddings shaped [N, D] -> supports shaped [N, N]\n",
    "        #output shape [B, N, C]\n",
    "        node_num = node_embeddings.shape[0]\n",
    "        supports = F.softmax(F.relu(torch.mm(node_embeddings, node_embeddings.transpose(0, 1))), dim=1)\n",
    "        support_set = [torch.eye(node_num).to(supports.device), supports]\n",
    "        #default cheb_k = 3\n",
    "        for k in range(2, self.cheb_k):\n",
    "            support_set.append(torch.matmul(2 * supports, support_set[-1]) - support_set[-2])\n",
    "        supports = torch.stack(support_set, dim=0)\n",
    "        weights = torch.einsum('nd,dkio->nkio', node_embeddings, self.weights_pool)  #N, cheb_k, dim_in, dim_out\n",
    "        bias = torch.matmul(node_embeddings, self.bias_pool)                       #N, dim_out\n",
    "        x_g = torch.einsum(\"knm,bmc->bknc\", supports, x)      #B, cheb_k, N, dim_in\n",
    "        x_g = x_g.permute(0, 2, 1, 3)  # B, N, cheb_k, dim_in\n",
    "        x_gconv = torch.einsum('bnki,nkio->bno', x_g, weights) + bias     #b, N, dim_out\n",
    "        return x_gconv\n",
    "\n",
    "class GCN(nn.Module):\n",
    "    def __init__(self, in_features, n_nodes, embed_dim_nodes, embed_dim_adj, num_classes):\n",
    "        super(GCN, self).__init__()\n",
    "        # self.gc1 = GraphConvolution(in_features, hidden_size_1, batch_size, n_channels)\n",
    "        # self.gc2 = GraphConvolution(hidden_size_1, hidden_size_2, batch_size, n_channels)\n",
    "        # self.gc3 = GraphConvolution(hidden_size_2, hidden_size_3, batch_size, n_channels)\n",
    "        # self.gc4 = GraphConvolution(hidden_size_3, hidden_size_4, batch_size, n_channels)\n",
    "        # self.flatten = nn.Flatten()\n",
    "        # self.linear = nn.Linear(hidden_size_4*n_channels, num_classes)\n",
    "        # self.node_embeddings = nn.Parameter(torch.randn(n_nodes, embed_dim), requires_grad=True)\n",
    "\n",
    "        self.gc1 = AVWGCN(in_features, hidden_size_1, cheb_k=2, embed_dim=embed_dim_nodes)\n",
    "        self.gc2 = AVWGCN(hidden_size_1, hidden_size_2, cheb_k=2, embed_dim=embed_dim_nodes)\n",
    "        # self.gc3 = AVWGCN(hidden_size_2, hidden_size_3, cheb_k=2, embed_dim=embed_dim)\n",
    "        self.flatten = nn.Flatten()\n",
    "        self.linear = nn.Linear(hidden_size_2*n_channels, num_classes)\n",
    "\n",
    "        self.node_embeddings = nn.Parameter(torch.randn(n_nodes, embed_dim_adj), requires_grad=True)\n",
    "    def forward(self, x):\n",
    "        # print(x.shape)\n",
    "        out = F.relu(self.gc1(x, self.node_embeddings))\n",
    "        # print(out.shape)\n",
    "        out = F.relu(self.gc2(out, self.node_embeddings))\n",
    "        # print(out.shape)\n",
    "        # out = F.relu(self.gc3(out, self.node_embeddings))\n",
    "        # print(out.shape)\n",
    "        # out = F.relu(self.gc4(out, A))\n",
    "        # print(out.shape)\n",
    "        out = self.flatten(out)\n",
    "        # print(out.shape)\n",
    "        out = self.linear(out)\n",
    "        # print(out.shape)\n",
    "        return out\n",
    "\n",
    "\n",
    "model = GCN(in_features=in_features, n_nodes=n_channels, embed_dim_nodes=1, embed_dim_adj=10, num_classes=num_classes).to(device)\n",
    "\n",
    "for p in model.parameters():\n",
    "    if p.dim() > 1:\n",
    "        nn.init.xavier_uniform_(p)\n",
    "    else:\n",
    "        nn.init.uniform_(p)\n",
    "\n",
    "criterion = torch.nn.CrossEntropyLoss()\n",
    "optimizer = torch.optim.Adam(model.parameters())\n",
    "\n",
    "\n",
    "# writer.add_graph(model, X_train[:batch_size])"
   ],
   "outputs": [],
   "metadata": {}
  },
  {
   "cell_type": "code",
   "execution_count": 12,
   "source": [
    "model = train_model(model, criterion, optimizer, num_epochs=num_epochs)"
   ],
   "outputs": [
    {
     "output_type": "stream",
     "name": "stdout",
     "text": [
      "Epoch 0/99\n",
      "----------\n"
     ]
    },
    {
     "output_type": "error",
     "ename": "RuntimeError",
     "evalue": "Function MmBackward returned an invalid gradient at index 0 - got [64, 1] but expected shape compatible with [64, 10]",
     "traceback": [
      "\u001b[0;31m---------------------------------------------------------------------------\u001b[0m",
      "\u001b[0;31mRuntimeError\u001b[0m                              Traceback (most recent call last)",
      "\u001b[0;32m/tmp/ipykernel_9425/3762971718.py\u001b[0m in \u001b[0;36m<module>\u001b[0;34m\u001b[0m\n\u001b[0;32m----> 1\u001b[0;31m \u001b[0mmodel\u001b[0m \u001b[0;34m=\u001b[0m \u001b[0mtrain_model\u001b[0m\u001b[0;34m(\u001b[0m\u001b[0mmodel\u001b[0m\u001b[0;34m,\u001b[0m \u001b[0mcriterion\u001b[0m\u001b[0;34m,\u001b[0m \u001b[0moptimizer\u001b[0m\u001b[0;34m,\u001b[0m \u001b[0mnum_epochs\u001b[0m\u001b[0;34m=\u001b[0m\u001b[0mnum_epochs\u001b[0m\u001b[0;34m)\u001b[0m\u001b[0;34m\u001b[0m\u001b[0;34m\u001b[0m\u001b[0m\n\u001b[0m",
      "\u001b[0;32m/tmp/ipykernel_9425/3696253833.py\u001b[0m in \u001b[0;36mtrain_model\u001b[0;34m(model, criterion, optimizer, num_epochs)\u001b[0m\n\u001b[1;32m     29\u001b[0m                     \u001b[0;32mif\u001b[0m \u001b[0mphase\u001b[0m \u001b[0;34m==\u001b[0m \u001b[0;34m'train'\u001b[0m\u001b[0;34m:\u001b[0m\u001b[0;34m\u001b[0m\u001b[0;34m\u001b[0m\u001b[0m\n\u001b[1;32m     30\u001b[0m                         \u001b[0moptimizer\u001b[0m\u001b[0;34m.\u001b[0m\u001b[0mzero_grad\u001b[0m\u001b[0;34m(\u001b[0m\u001b[0;34m)\u001b[0m\u001b[0;34m\u001b[0m\u001b[0;34m\u001b[0m\u001b[0m\n\u001b[0;32m---> 31\u001b[0;31m                         \u001b[0mloss\u001b[0m\u001b[0;34m.\u001b[0m\u001b[0mbackward\u001b[0m\u001b[0;34m(\u001b[0m\u001b[0;34m)\u001b[0m\u001b[0;34m\u001b[0m\u001b[0;34m\u001b[0m\u001b[0m\n\u001b[0m\u001b[1;32m     32\u001b[0m                         \u001b[0moptimizer\u001b[0m\u001b[0;34m.\u001b[0m\u001b[0mstep\u001b[0m\u001b[0;34m(\u001b[0m\u001b[0;34m)\u001b[0m\u001b[0;34m\u001b[0m\u001b[0;34m\u001b[0m\u001b[0m\n\u001b[1;32m     33\u001b[0m \u001b[0;34m\u001b[0m\u001b[0m\n",
      "\u001b[0;32m~/Desktop/thesis-2022/env/lib/python3.7/site-packages/torch/_tensor.py\u001b[0m in \u001b[0;36mbackward\u001b[0;34m(self, gradient, retain_graph, create_graph, inputs)\u001b[0m\n\u001b[1;32m    253\u001b[0m                 \u001b[0mcreate_graph\u001b[0m\u001b[0;34m=\u001b[0m\u001b[0mcreate_graph\u001b[0m\u001b[0;34m,\u001b[0m\u001b[0;34m\u001b[0m\u001b[0;34m\u001b[0m\u001b[0m\n\u001b[1;32m    254\u001b[0m                 inputs=inputs)\n\u001b[0;32m--> 255\u001b[0;31m         \u001b[0mtorch\u001b[0m\u001b[0;34m.\u001b[0m\u001b[0mautograd\u001b[0m\u001b[0;34m.\u001b[0m\u001b[0mbackward\u001b[0m\u001b[0;34m(\u001b[0m\u001b[0mself\u001b[0m\u001b[0;34m,\u001b[0m \u001b[0mgradient\u001b[0m\u001b[0;34m,\u001b[0m \u001b[0mretain_graph\u001b[0m\u001b[0;34m,\u001b[0m \u001b[0mcreate_graph\u001b[0m\u001b[0;34m,\u001b[0m \u001b[0minputs\u001b[0m\u001b[0;34m=\u001b[0m\u001b[0minputs\u001b[0m\u001b[0;34m)\u001b[0m\u001b[0;34m\u001b[0m\u001b[0;34m\u001b[0m\u001b[0m\n\u001b[0m\u001b[1;32m    256\u001b[0m \u001b[0;34m\u001b[0m\u001b[0m\n\u001b[1;32m    257\u001b[0m     \u001b[0;32mdef\u001b[0m \u001b[0mregister_hook\u001b[0m\u001b[0;34m(\u001b[0m\u001b[0mself\u001b[0m\u001b[0;34m,\u001b[0m \u001b[0mhook\u001b[0m\u001b[0;34m)\u001b[0m\u001b[0;34m:\u001b[0m\u001b[0;34m\u001b[0m\u001b[0;34m\u001b[0m\u001b[0m\n",
      "\u001b[0;32m~/Desktop/thesis-2022/env/lib/python3.7/site-packages/torch/autograd/__init__.py\u001b[0m in \u001b[0;36mbackward\u001b[0;34m(tensors, grad_tensors, retain_graph, create_graph, grad_variables, inputs)\u001b[0m\n\u001b[1;32m    147\u001b[0m     Variable._execution_engine.run_backward(\n\u001b[1;32m    148\u001b[0m         \u001b[0mtensors\u001b[0m\u001b[0;34m,\u001b[0m \u001b[0mgrad_tensors_\u001b[0m\u001b[0;34m,\u001b[0m \u001b[0mretain_graph\u001b[0m\u001b[0;34m,\u001b[0m \u001b[0mcreate_graph\u001b[0m\u001b[0;34m,\u001b[0m \u001b[0minputs\u001b[0m\u001b[0;34m,\u001b[0m\u001b[0;34m\u001b[0m\u001b[0;34m\u001b[0m\u001b[0m\n\u001b[0;32m--> 149\u001b[0;31m         allow_unreachable=True, accumulate_grad=True)  # allow_unreachable flag\n\u001b[0m\u001b[1;32m    150\u001b[0m \u001b[0;34m\u001b[0m\u001b[0m\n\u001b[1;32m    151\u001b[0m \u001b[0;34m\u001b[0m\u001b[0m\n",
      "\u001b[0;31mRuntimeError\u001b[0m: Function MmBackward returned an invalid gradient at index 0 - got [64, 1] but expected shape compatible with [64, 10]"
     ]
    }
   ],
   "metadata": {}
  },
  {
   "cell_type": "markdown",
   "source": [
    "# Computation using for loop"
   ],
   "metadata": {}
  },
  {
   "cell_type": "code",
   "execution_count": null,
   "source": [
    "y_preds = []\n",
    "y_true = []\n",
    "for inputs, labels in test_loader:\n",
    "    _, y_pred = torch.max(model(inputs), 1)\n",
    "    y_preds.append(y_pred)\n",
    "    y_true.append(labels)\n",
    "y_preds = torch.cat(y_preds)\n",
    "y_true = torch.cat(y_true)"
   ],
   "outputs": [],
   "metadata": {}
  },
  {
   "cell_type": "code",
   "execution_count": null,
   "source": [
    "print(y_preds.shape)\n",
    "print(y_true.shape)"
   ],
   "outputs": [],
   "metadata": {}
  },
  {
   "cell_type": "code",
   "execution_count": null,
   "source": [
    "from sklearn.metrics import classification_report, confusion_matrix, roc_auc_score\n",
    "cr = classification_report(y_true.cpu().numpy(), y_preds.cpu().numpy())\n",
    "print(cr)\n",
    "\n",
    "cm = confusion_matrix(y_true.cpu().numpy(), y_preds.cpu().numpy())\n",
    "print(cm)\n",
    "\n",
    "y_pred_ohe = np.zeros((y_preds.size(0), num_classes))\n",
    "for i, j in enumerate(y_pred):\n",
    "    y_pred_ohe[i, j] = 1\n",
    "\n",
    "y_true_ohe = np.zeros((y_true.size(0), num_classes))\n",
    "for i, j in enumerate(y_true):\n",
    "    y_true_ohe[i, j] = 1\n",
    "auroc = roc_auc_score(y_true_ohe, y_pred_ohe, multi_class='ovo')\n",
    "writer.add_scalar('AUROC OvO', auroc)\n",
    "print('AUROC ovo:', auroc)\n",
    "auroc = roc_auc_score(y_true_ohe, y_pred_ohe, multi_class='ovr')\n",
    "writer.add_scalar('AUROC OvR', auroc)\n",
    "print('AUROC ovr:', auroc)"
   ],
   "outputs": [],
   "metadata": {}
  },
  {
   "cell_type": "code",
   "execution_count": null,
   "source": [
    "import seaborn as sns\n",
    "import pandas as pd\n",
    "import io\n",
    "\n",
    "figure = plt.figure(figsize=(7, 5))\n",
    "cm_df = pd.DataFrame(cm, columns=class_names, index=class_names)\n",
    "sns.heatmap(cm_df, annot=True, fmt='g')\n",
    "plt.ylabel('True')\n",
    "plt.xlabel('Pred')\n",
    "plt.tight_layout()\n",
    "plt.savefig('runs/gnn/cm.png')\n",
    "plt.show()"
   ],
   "outputs": [],
   "metadata": {}
  },
  {
   "cell_type": "code",
   "execution_count": null,
   "source": [
    "print('Number of trainable parameters')\n",
    "sum(p.numel() for p in model.parameters() if p.requires_grad)"
   ],
   "outputs": [],
   "metadata": {}
  },
  {
   "cell_type": "code",
   "execution_count": null,
   "source": [
    "[p.numel() for p in model.parameters() if p.requires_grad]"
   ],
   "outputs": [],
   "metadata": {}
  },
  {
   "cell_type": "code",
   "execution_count": null,
   "source": [],
   "outputs": [],
   "metadata": {}
  }
 ],
 "metadata": {
  "interpreter": {
   "hash": "6a647b8c8fb6b9194b82e32092c9482e7e42dcb66eef6eb2ec21ed1080262273"
  },
  "kernelspec": {
   "name": "python3",
   "display_name": "Python 3.7.10 64-bit ('env': venv)"
  },
  "language_info": {
   "codemirror_mode": {
    "name": "ipython",
    "version": 3
   },
   "file_extension": ".py",
   "mimetype": "text/x-python",
   "name": "python",
   "nbconvert_exporter": "python",
   "pygments_lexer": "ipython3",
   "version": "3.7.10"
  }
 },
 "nbformat": 4,
 "nbformat_minor": 4
}