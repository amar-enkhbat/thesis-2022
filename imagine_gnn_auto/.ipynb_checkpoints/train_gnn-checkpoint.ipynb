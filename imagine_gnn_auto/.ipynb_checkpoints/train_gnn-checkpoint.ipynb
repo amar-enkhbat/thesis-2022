{
 "cells": [
  {
   "cell_type": "code",
   "execution_count": null,
   "source": [
    "import os\n",
    "import random\n",
    "import torch\n",
    "from torch import nn\n",
    "from torch.utils.data import TensorDataset, Dataset\n",
    "\n",
    "import numpy as np \n",
    "import pickle\n",
    "import matplotlib.pyplot as plt\n",
    "import time\n",
    "import copy\n",
    "\n",
    "from sklearn.model_selection import train_test_split\n",
    "device = torch.device('cuda' if torch.cuda.is_available() else 'cpu')\n",
    "\n",
    "random_seed = 1\n",
    "random.seed(random_seed)\n",
    "np.random.seed(random_seed)\n",
    "torch.manual_seed(random_seed)\n",
    "\n",
    "from torch.utils.tensorboard import SummaryWriter\n",
    "writer = SummaryWriter('runs/gnn')"
   ],
   "outputs": [
    {
     "output_type": "error",
     "ename": "Error",
     "evalue": "Session cannot generate requests",
     "traceback": [
      "Error: Session cannot generate requests",
      "at w.executeCodeCell (/home/amar/.vscode/extensions/ms-toolsai.jupyter-2021.8.1236758218/out/client/extension.js:90:327199)",
      "at w.execute (/home/amar/.vscode/extensions/ms-toolsai.jupyter-2021.8.1236758218/out/client/extension.js:90:326520)",
      "at w.start (/home/amar/.vscode/extensions/ms-toolsai.jupyter-2021.8.1236758218/out/client/extension.js:90:322336)",
      "at processTicksAndRejections (internal/process/task_queues.js:93:5)",
      "at async t.CellExecutionQueue.executeQueuedCells (/home/amar/.vscode/extensions/ms-toolsai.jupyter-2021.8.1236758218/out/client/extension.js:90:336863)",
      "at async t.CellExecutionQueue.start (/home/amar/.vscode/extensions/ms-toolsai.jupyter-2021.8.1236758218/out/client/extension.js:90:336403)"
     ]
    }
   ],
   "metadata": {}
  },
  {
   "cell_type": "markdown",
   "source": [
    "# Load data and normalize"
   ],
   "metadata": {}
  },
  {
   "cell_type": "code",
   "execution_count": 3,
   "source": [
    "X = pickle.load(open('../dataset/train/cross_subject_data_5_subjects.pickle', 'rb'))\n",
    "y = X['train_y']\n",
    "\n",
    "X = X['train_x'].astype(np.float32)\n",
    "\n",
    "label_map = {'imagine_both_feet': 0, 'imagine_both_fist': 1, 'imagine_left_fist': 2, 'imagine_right_fist': 3}\n",
    "y = np.vectorize(label_map.__getitem__)(y)"
   ],
   "outputs": [],
   "metadata": {}
  },
  {
   "cell_type": "code",
   "execution_count": 4,
   "source": [
    "# Normalize\n",
    "mean, std = X.mean(), X.std()\n",
    "X = (X - mean) / std"
   ],
   "outputs": [],
   "metadata": {}
  },
  {
   "cell_type": "markdown",
   "source": [
    "# Import Adj Matrix"
   ],
   "metadata": {}
  },
  {
   "cell_type": "code",
   "execution_count": 5,
   "source": [
    "from convert_to_graphs import n_graph, d_graph, s_graph, normalize_adj\n",
    "\n",
    "seq_len = 100\n",
    "n_channels = 64\n",
    "\n",
    "A = n_graph()\n",
    "A = np.array(A, dtype=np.float32)\n",
    "A = normalize_adj(A)\n",
    "A = A + np.eye(A.shape[0], dtype=np.float32)\n",
    "\n",
    "\n",
    "A_big = np.zeros((A.shape[0]*seq_len, A.shape[0]*seq_len), dtype=np.float32)\n",
    "print(A_big.shape)\n",
    "for i in range(0, A_big.shape[0], 64):\n",
    "    A_big[i:i+64, i:i+64] = A\n",
    "\n",
    "print(\"A_big\")\n",
    "print(A_big)\n",
    "print('A')\n",
    "print(A)\n",
    "\n",
    "A = torch.tensor(A_big).to(device)\n",
    "print('Adjacency Matrix A:')\n",
    "print(A.shape)\n",
    "print(A)"
   ],
   "outputs": [
    {
     "output_type": "stream",
     "name": "stdout",
     "text": [
      "(6400, 6400)\n",
      "A_big\n",
      "[[1.1111112  0.11111112 0.         ... 0.         0.         0.        ]\n",
      " [0.11111112 1.1111112  0.11111112 ... 0.         0.         0.        ]\n",
      " [0.         0.11111112 1.1111112  ... 0.         0.         0.        ]\n",
      " ...\n",
      " [0.         0.         0.         ... 1.1428571  0.15430336 0.18898223]\n",
      " [0.         0.         0.         ... 0.15430336 1.1666666  0.20412415]\n",
      " [0.         0.         0.         ... 0.18898223 0.20412415 1.25      ]]\n",
      "A\n",
      "[[1.1111112  0.11111112 0.         ... 0.         0.         0.        ]\n",
      " [0.11111112 1.1111112  0.11111112 ... 0.         0.         0.        ]\n",
      " [0.         0.11111112 1.1111112  ... 0.         0.         0.        ]\n",
      " ...\n",
      " [0.         0.         0.         ... 1.1428571  0.15430336 0.18898223]\n",
      " [0.         0.         0.         ... 0.15430336 1.1666666  0.20412415]\n",
      " [0.         0.         0.         ... 0.18898223 0.20412415 1.25      ]]\n",
      "Adjacency Matrix A:\n",
      "torch.Size([6400, 6400])\n",
      "tensor([[1.1111, 0.1111, 0.0000,  ..., 0.0000, 0.0000, 0.0000],\n",
      "        [0.1111, 1.1111, 0.1111,  ..., 0.0000, 0.0000, 0.0000],\n",
      "        [0.0000, 0.1111, 1.1111,  ..., 0.0000, 0.0000, 0.0000],\n",
      "        ...,\n",
      "        [0.0000, 0.0000, 0.0000,  ..., 1.1429, 0.1543, 0.1890],\n",
      "        [0.0000, 0.0000, 0.0000,  ..., 0.1543, 1.1667, 0.2041],\n",
      "        [0.0000, 0.0000, 0.0000,  ..., 0.1890, 0.2041, 1.2500]],\n",
      "       device='cuda:0')\n"
     ]
    }
   ],
   "metadata": {}
  },
  {
   "cell_type": "code",
   "execution_count": 6,
   "source": [
    "# import mne \n",
    "# import pandas as pd\n",
    "# import numpy as np \n",
    "\n",
    "# ten_twenty_montage = mne.channels.make_standard_montage(\"standard_1020\")\n",
    "# ch_names = pd.read_csv(\"../dataset/physionet.org_csv/S001/S001R01.csv\")\n",
    "# ch_names = ch_names.columns[2:]\n",
    "\n",
    "# ch_pos_1020 = ten_twenty_montage.get_positions()[\"ch_pos\"]\n",
    "\n",
    "# ch_pos_1010 = {}\n",
    "# for ch_name_orig in ch_names:\n",
    "#     ch_name = ch_name_orig.upper().rstrip(\".\")\n",
    "#     if \"Z\" in ch_name:\n",
    "#         ch_name = ch_name.replace(\"Z\", \"z\")\n",
    "#     if \"P\" in ch_name and len(ch_name) > 2:\n",
    "#         ch_name = ch_name.replace(\"P\", \"p\")\n",
    "#     if \"Cp\" in ch_name:\n",
    "#         ch_name = ch_name.replace(\"Cp\", \"CP\")\n",
    "#     if \"Tp\" in ch_name:\n",
    "#         ch_name = ch_name.replace(\"Tp\", \"TP\")\n",
    "#     if \"pO\" in ch_name:\n",
    "#         ch_name = ch_name.replace(\"pO\", \"PO\")\n",
    "#     ch_pos_1010[ch_name_orig] = ch_pos_1020[ch_name]\n",
    "# print(len(ch_pos_1010))\n",
    "\n",
    "# ch_pos_1010_names = []\n",
    "# ch_pos_1010_dist = []\n",
    "# for name, value in ch_pos_1010.items():\n",
    "#     ch_pos_1010_names.append(name)\n",
    "#     ch_pos_1010_dist.append(value)\n",
    "# ch_pos_1010_dist = np.array(ch_pos_1010_dist)\n",
    "\n",
    "# A = d_graph(64, ch_pos_1010_dist)\n",
    "# A = np.array(A, dtype=np.float32)\n",
    "# print('Adjacency Matrix A:')\n",
    "# print(A.shape)\n",
    "# A = torch.tensor(A).to(device)\n",
    "# print(A)"
   ],
   "outputs": [],
   "metadata": {}
  },
  {
   "cell_type": "markdown",
   "source": [
    "# Convert data to [n_samples, n_channels] -> [n_samples, seq_len, n_channels]"
   ],
   "metadata": {}
  },
  {
   "cell_type": "code",
   "execution_count": 7,
   "source": [
    "\n",
    "\n",
    "def reshape_data_gnn(X, y, seq_len):\n",
    "    print('X original shape:', X.shape)\n",
    "    print('y original shape:', y.shape)\n",
    "    len_tail = X.shape[0] % seq_len\n",
    "    X = X[:-len_tail].reshape(-1, seq_len*n_channels, 1)\n",
    "    y = y[:-len_tail].reshape(-1, seq_len)\n",
    "    y = y[:, -1]\n",
    "    print('X conversion shape:', X.shape)\n",
    "    print('y conversion shape:', y.shape)\n",
    "    return X, y\n",
    "\n",
    "X, y = reshape_data_gnn(X, y, seq_len)"
   ],
   "outputs": [
    {
     "output_type": "stream",
     "name": "stdout",
     "text": [
      "X original shape: (295008, 64)\n",
      "y original shape: (295008,)\n",
      "X conversion shape: (2950, 6400, 1)\n",
      "y conversion shape: (2950,)\n"
     ]
    }
   ],
   "metadata": {}
  },
  {
   "cell_type": "code",
   "execution_count": 8,
   "source": [
    "X_train, X_test, y_train, y_test = train_test_split(X, y, test_size=0.2, random_state=random_seed, stratify=y)\n",
    "def print_class_dist(y):\n",
    "    dist = {}\n",
    "\n",
    "    labels = np.unique(y)\n",
    "    for label in labels:\n",
    "        dist[str(label)] = len(y[y == label]) / len(y)\n",
    "    print(dist)\n",
    "print_class_dist(y)\n",
    "print_class_dist(y_train)\n",
    "print_class_dist(y_test)"
   ],
   "outputs": [
    {
     "output_type": "stream",
     "name": "stdout",
     "text": [
      "{'0': 0.24745762711864408, '1': 0.25254237288135595, '2': 0.25864406779661014, '3': 0.24135593220338983}\n",
      "{'0': 0.24745762711864408, '1': 0.25254237288135595, '2': 0.2584745762711864, '3': 0.24152542372881355}\n",
      "{'0': 0.24745762711864408, '1': 0.25254237288135595, '2': 0.2593220338983051, '3': 0.24067796610169492}\n"
     ]
    }
   ],
   "metadata": {}
  },
  {
   "cell_type": "code",
   "execution_count": 9,
   "source": [
    "batch_size = 32\n",
    "X_train, y_train = torch.tensor(X_train).to(device), torch.tensor(y_train).to(device)\n",
    "X_test, y_test = torch.tensor(X_test).to(device), torch.tensor(y_test).to(device)\n",
    "\n",
    "train_dataset = TensorDataset(X_train, y_train)\n",
    "test_dataset = TensorDataset(X_test, y_test)\n",
    "\n",
    "train_loader = torch.utils.data.DataLoader(train_dataset, batch_size=batch_size, shuffle=True)\n",
    "test_loader = torch.utils.data.DataLoader(test_dataset, batch_size=batch_size)\n",
    "\n",
    "dataset_sizes = {'train': len(train_dataset), 'val': len(test_dataset)}\n",
    "dataloaders = {'train': train_loader, 'val': test_loader}\n",
    "class_names = list(label_map.keys())\n",
    "print(class_names)"
   ],
   "outputs": [
    {
     "output_type": "stream",
     "name": "stdout",
     "text": [
      "['imagine_both_feet', 'imagine_both_fist', 'imagine_left_fist', 'imagine_right_fist']\n"
     ]
    }
   ],
   "metadata": {}
  },
  {
   "cell_type": "code",
   "execution_count": 10,
   "source": [
    "def train_model(model, criterion, optimizer, num_epochs=25):\n",
    "    since = time.time()\n",
    "\n",
    "    best_model_wts = copy.deepcopy(model.state_dict())\n",
    "    best_acc = 0.0\n",
    "\n",
    "    for epoch in range(num_epochs):\n",
    "        print(f'Epoch {epoch}/{num_epochs-1}')\n",
    "        print('-' * 10)\n",
    "\n",
    "        for phase in ['train', 'val']:\n",
    "            if phase == 'train':\n",
    "                model.train()\n",
    "            else:\n",
    "                model.eval()\n",
    "\n",
    "            running_loss = 0.0\n",
    "            running_corrects = 0.0\n",
    "\n",
    "            for inputs, labels in dataloaders[phase]:\n",
    "                inputs = inputs.to(device)\n",
    "                labels = labels.to(device)\n",
    "\n",
    "                with torch.set_grad_enabled(phase == 'train'):\n",
    "                    outputs = model(inputs)\n",
    "                    _, preds = torch.max(outputs, 1)\n",
    "                    loss = criterion(outputs, labels)\n",
    "\n",
    "                    if phase == 'train':\n",
    "                        optimizer.zero_grad()\n",
    "                        loss.backward()\n",
    "                        optimizer.step()\n",
    "\n",
    "                running_loss += loss.item() * inputs.size(0)\n",
    "                running_corrects += torch.sum(preds == labels.data)\n",
    "\n",
    "            epoch_loss = running_loss / dataset_sizes[phase]\n",
    "            epoch_acc = running_corrects.double() / dataset_sizes[phase]\n",
    "            writer.add_scalar(f'{phase} loss', epoch_loss, epoch)\n",
    "            writer.add_scalar(f'{phase} accuracy', epoch_acc, epoch)\n",
    "\n",
    "            print(f'{phase} Loss: {epoch_loss:.4f} Acc: {epoch_acc:.4f}')\n",
    "\n",
    "            if phase == 'val' and epoch_acc > best_acc:\n",
    "                best_acc = epoch_acc\n",
    "                best_model_wts = copy.deepcopy(model.state_dict())\n",
    "\n",
    "        print()\n",
    "\n",
    "    time_elapsed = time.time() - since\n",
    "    print(f'Training complete in {time_elapsed // 60:.0f}m {time_elapsed%60:.0f}s')\n",
    "    print(f'Best val acc: {best_acc:.4f}')\n",
    "\n",
    "    model.load_state_dict(best_model_wts)\n",
    "    return model"
   ],
   "outputs": [],
   "metadata": {}
  },
  {
   "cell_type": "markdown",
   "source": [
    "# Test computation"
   ],
   "metadata": {}
  },
  {
   "cell_type": "code",
   "execution_count": 1,
   "source": [
    "import torch\n",
    "from layers_batchwise import BatchwiseGraphConvolution\n",
    "\n",
    "torch.manual_seed(0)\n",
    "\n",
    "# gcn = BatchwiseGraphConvolution(1, 32)\n",
    "\n",
    "x = torch.randn(100, 6400, 1)\n",
    "A = torch.randn(100, 6400, 6400)\n",
    "weight = torch.randn(1, 32)\n",
    "\n",
    "support = torch.matmul(x, weight)\n",
    "output = torch.spbmm(A, support)"
   ],
   "outputs": [],
   "metadata": {}
  },
  {
   "cell_type": "code",
   "execution_count": null,
   "source": [
    "print(output.shape)"
   ],
   "outputs": [
    {
     "output_type": "error",
     "ename": "Error",
     "evalue": "Session cannot generate requests",
     "traceback": [
      "Error: Session cannot generate requests",
      "at w.executeCodeCell (/home/amar/.vscode/extensions/ms-toolsai.jupyter-2021.8.1236758218/out/client/extension.js:90:327199)",
      "at w.execute (/home/amar/.vscode/extensions/ms-toolsai.jupyter-2021.8.1236758218/out/client/extension.js:90:326520)",
      "at w.start (/home/amar/.vscode/extensions/ms-toolsai.jupyter-2021.8.1236758218/out/client/extension.js:90:322336)",
      "at processTicksAndRejections (internal/process/task_queues.js:93:5)",
      "at async t.CellExecutionQueue.executeQueuedCells (/home/amar/.vscode/extensions/ms-toolsai.jupyter-2021.8.1236758218/out/client/extension.js:90:336863)",
      "at async t.CellExecutionQueue.start (/home/amar/.vscode/extensions/ms-toolsai.jupyter-2021.8.1236758218/out/client/extension.js:90:336403)"
     ]
    }
   ],
   "metadata": {}
  },
  {
   "cell_type": "code",
   "execution_count": 10,
   "source": [
    "in_features = 1\n",
    "hidden_size_1 = 512\n",
    "hidden_size_2 = 1\n",
    "num_classes = 4\n",
    "num_epochs = 100\n",
    "\n",
    "from layers_batchwise import BatchwiseGraphConvolution\n",
    "import torch.nn.functional as F\n",
    "\n",
    "class GCN(nn.Module):\n",
    "    def __init__(self, in_features, hidden_size_1, hidden_size_2, num_classes):\n",
    "        super(GCN, self).__init__()\n",
    "        self.gc1 = BatchwiseGraphConvolution(in_features, hidden_size_1)\n",
    "        self.gc2 = BatchwiseGraphConvolution(hidden_size_1, hidden_size_2)\n",
    "        self.flatten = nn.Flatten()\n",
    "        self.linear = nn.Linear(6400, num_classes)\n",
    "    def forward(self, x):\n",
    "        out = F.relu(self.gc1(x, A))\n",
    "        # print(out.shape)\n",
    "        out = F.relu(self.gc2(out, A))\n",
    "        # print(out.shape)\n",
    "        out = self.flatten(out)\n",
    "        # print(out.shape)\n",
    "        out = self.linear(out)\n",
    "        # print(out.shape)\n",
    "        return out\n",
    "\n",
    "model = GCN(in_features, hidden_size_1, hidden_size_2, num_classes).to(device)\n",
    "criterion = torch.nn.CrossEntropyLoss()\n",
    "optimizer = torch.optim.Adam(model.parameters())\n",
    "\n",
    "writer.add_graph(model, X_train[:10])"
   ],
   "outputs": [
    {
     "output_type": "stream",
     "name": "stderr",
     "text": [
      "/home/amar/Desktop/thesis-2022/imagine_gnn/layers_batchwise.py:41: TracerWarning: Iterating over a tensor might cause the trace to be incorrect. Passing a tensor of different shape won't change the number of iterations executed (and might lead to errors or silently give incorrect results).\n",
      "  for sample in input:\n"
     ]
    }
   ],
   "metadata": {}
  },
  {
   "cell_type": "code",
   "execution_count": 11,
   "source": [
    "model = train_model(model, criterion, optimizer, num_epochs=num_epochs)"
   ],
   "outputs": [
    {
     "output_type": "stream",
     "name": "stdout",
     "text": [
      "Epoch 0/99\n",
      "----------\n",
      "train Loss: 1.3864 Acc: 0.2428\n",
      "val Loss: 1.3863 Acc: 0.2525\n",
      "\n",
      "Epoch 1/99\n",
      "----------\n",
      "train Loss: 1.3863 Acc: 0.2525\n",
      "val Loss: 1.3861 Acc: 0.2525\n",
      "\n",
      "Epoch 2/99\n",
      "----------\n",
      "train Loss: 1.3862 Acc: 0.2525\n",
      "val Loss: 1.3861 Acc: 0.2593\n",
      "\n",
      "Epoch 3/99\n",
      "----------\n",
      "train Loss: 1.3862 Acc: 0.2585\n",
      "val Loss: 1.3860 Acc: 0.2593\n",
      "\n",
      "Epoch 4/99\n",
      "----------\n",
      "train Loss: 1.3861 Acc: 0.2585\n",
      "val Loss: 1.3860 Acc: 0.2593\n",
      "\n",
      "Epoch 5/99\n",
      "----------\n",
      "train Loss: 1.3861 Acc: 0.2585\n",
      "val Loss: 1.3860 Acc: 0.2593\n",
      "\n",
      "Epoch 6/99\n",
      "----------\n",
      "train Loss: 1.3861 Acc: 0.2585\n",
      "val Loss: 1.3859 Acc: 0.2593\n",
      "\n",
      "Epoch 7/99\n",
      "----------\n",
      "train Loss: 1.3861 Acc: 0.2585\n",
      "val Loss: 1.3859 Acc: 0.2593\n",
      "\n",
      "Epoch 8/99\n",
      "----------\n",
      "train Loss: 1.3861 Acc: 0.2585\n",
      "val Loss: 1.3859 Acc: 0.2593\n",
      "\n",
      "Epoch 9/99\n",
      "----------\n",
      "train Loss: 1.3861 Acc: 0.2585\n"
     ]
    }
   ],
   "metadata": {}
  },
  {
   "cell_type": "markdown",
   "source": [
    "# Computation using for loop"
   ],
   "metadata": {}
  },
  {
   "cell_type": "code",
   "execution_count": null,
   "source": [
    "_, y_pred = torch.max(model(X_test), 1)"
   ],
   "outputs": [],
   "metadata": {}
  },
  {
   "cell_type": "code",
   "execution_count": null,
   "source": [
    "from sklearn.metrics import classification_report, confusion_matrix, roc_auc_score\n",
    "cr = classification_report(y_test.cpu().numpy(), y_pred.cpu().numpy())\n",
    "print(cr)\n",
    "\n",
    "cm = confusion_matrix(y_test.cpu().numpy(), y_pred.cpu().numpy())\n",
    "print(cm)\n",
    "\n",
    "y_pred_ohe = np.zeros((y_pred.size(0), num_classes))\n",
    "for i, j in enumerate(y_pred):\n",
    "    y_pred_ohe[i, j] = 1\n",
    "\n",
    "y_test_ohe = np.zeros((y_test.size(0), num_classes))\n",
    "for i, j in enumerate(y_test):\n",
    "    y_test_ohe[i, j] = 1\n",
    "auroc = roc_auc_score(y_test_ohe, y_pred_ohe, multi_class='ovo')\n",
    "writer.add_scalar('AUROC OvO', auroc)\n",
    "print('AUROC ovo:', auroc)\n",
    "auroc = roc_auc_score(y_test_ohe, y_pred_ohe, multi_class='ovr')\n",
    "writer.add_scalar('AUROC OvR', auroc)\n",
    "print('AUROC ovr:', auroc)"
   ],
   "outputs": [
    {
     "output_type": "stream",
     "name": "stdout",
     "text": [
      "              precision    recall  f1-score   support\n",
      "\n",
      "           0       0.00      0.00      0.00       146\n",
      "           1       0.00      0.00      0.00       149\n",
      "           2       0.26      1.00      0.41       153\n",
      "           3       0.00      0.00      0.00       142\n",
      "\n",
      "    accuracy                           0.26       590\n",
      "   macro avg       0.06      0.25      0.10       590\n",
      "weighted avg       0.07      0.26      0.11       590\n",
      "\n",
      "[[  0   0 146   0]\n",
      " [  0   0 149   0]\n",
      " [  0   0 153   0]\n",
      " [  0   0 142   0]]\n",
      "AUROC ovo: 0.5\n",
      "AUROC ovr: 0.5\n"
     ]
    },
    {
     "output_type": "stream",
     "name": "stderr",
     "text": [
      "/home/amar/Desktop/thesis-2022/env/lib/python3.7/site-packages/sklearn/metrics/_classification.py:1248: UndefinedMetricWarning: Precision and F-score are ill-defined and being set to 0.0 in labels with no predicted samples. Use `zero_division` parameter to control this behavior.\n",
      "  _warn_prf(average, modifier, msg_start, len(result))\n",
      "/home/amar/Desktop/thesis-2022/env/lib/python3.7/site-packages/sklearn/metrics/_classification.py:1248: UndefinedMetricWarning: Precision and F-score are ill-defined and being set to 0.0 in labels with no predicted samples. Use `zero_division` parameter to control this behavior.\n",
      "  _warn_prf(average, modifier, msg_start, len(result))\n",
      "/home/amar/Desktop/thesis-2022/env/lib/python3.7/site-packages/sklearn/metrics/_classification.py:1248: UndefinedMetricWarning: Precision and F-score are ill-defined and being set to 0.0 in labels with no predicted samples. Use `zero_division` parameter to control this behavior.\n",
      "  _warn_prf(average, modifier, msg_start, len(result))\n"
     ]
    }
   ],
   "metadata": {}
  },
  {
   "cell_type": "code",
   "execution_count": null,
   "source": [
    "{str(v): k for k, v in label_map.items()}"
   ],
   "outputs": [
    {
     "output_type": "execute_result",
     "data": {
      "text/plain": [
       "{'0': 'imagine_both_feet',\n",
       " '1': 'imagine_both_fist',\n",
       " '2': 'imagine_left_fist',\n",
       " '3': 'imagine_right_fist'}"
      ]
     },
     "metadata": {},
     "execution_count": 14
    }
   ],
   "metadata": {}
  },
  {
   "cell_type": "code",
   "execution_count": null,
   "source": [
    "import seaborn as sns\n",
    "import pandas as pd\n",
    "import io\n",
    "\n",
    "figure = plt.figure(figsize=(7, 5))\n",
    "cm_df = pd.DataFrame(cm, columns=class_names, index=class_names)\n",
    "sns.heatmap(cm_df, annot=True, fmt='g')\n",
    "plt.ylabel('True')\n",
    "plt.xlabel('Pred')\n",
    "plt.tight_layout()\n",
    "plt.savefig('runs/fcn/cm.png')\n",
    "plt.show()"
   ],
   "outputs": [
    {
     "output_type": "display_data",
     "data": {
      "text/plain": [
       "<Figure size 504x360 with 2 Axes>"
      ],
      "image/svg+xml": "<?xml version=\"1.0\" encoding=\"utf-8\" standalone=\"no\"?>\n<!DOCTYPE svg PUBLIC \"-//W3C//DTD SVG 1.1//EN\"\n  \"http://www.w3.org/Graphics/SVG/1.1/DTD/svg11.dtd\">\n<svg height=\"352.589062pt\" version=\"1.1\" viewBox=\"0 0 478.599062 352.589062\" width=\"478.599062pt\" xmlns=\"http://www.w3.org/2000/svg\" xmlns:xlink=\"http://www.w3.org/1999/xlink\">\n <metadata>\n  <rdf:RDF xmlns:cc=\"http://creativecommons.org/ns#\" xmlns:dc=\"http://purl.org/dc/elements/1.1/\" xmlns:rdf=\"http://www.w3.org/1999/02/22-rdf-syntax-ns#\">\n   <cc:Work>\n    <dc:type rdf:resource=\"http://purl.org/dc/dcmitype/StillImage\"/>\n    <dc:date>2021-08-16T18:06:30.077643</dc:date>\n    <dc:format>image/svg+xml</dc:format>\n    <dc:creator>\n     <cc:Agent>\n      <dc:title>Matplotlib v3.4.2, https://matplotlib.org/</dc:title>\n     </cc:Agent>\n    </dc:creator>\n   </cc:Work>\n  </rdf:RDF>\n </metadata>\n <defs>\n  <style type=\"text/css\">*{stroke-linecap:butt;stroke-linejoin:round;}</style>\n </defs>\n <g id=\"figure_1\">\n  <g id=\"patch_1\">\n   <path d=\"M 0 352.589062 \nL 478.599062 352.589062 \nL 478.599062 0 \nL 0 0 \nz\n\" style=\"fill:none;\"/>\n  </g>\n  <g id=\"axes_1\">\n   <g id=\"patch_2\">\n    <path d=\"M 120.614063 231.975 \nL 415.634062 231.975 \nL 415.634062 7.2 \nL 120.614063 7.2 \nz\n\" style=\"fill:#ffffff;\"/>\n   </g>\n   <g id=\"QuadMesh_1\">\n    <path clip-path=\"url(#p03f9bb7a6c)\" d=\"M 120.614063 7.2 \nL 194.369062 7.2 \nL 194.369062 63.39375 \nL 120.614063 63.39375 \nL 120.614063 7.2 \n\" style=\"fill:#03051a;\"/>\n    <path clip-path=\"url(#p03f9bb7a6c)\" d=\"M 194.369062 7.2 \nL 268.124062 7.2 \nL 268.124062 63.39375 \nL 194.369062 63.39375 \nL 194.369062 7.2 \n\" style=\"fill:#03051a;\"/>\n    <path clip-path=\"url(#p03f9bb7a6c)\" d=\"M 268.124062 7.2 \nL 341.879062 7.2 \nL 341.879062 63.39375 \nL 268.124062 63.39375 \nL 268.124062 7.2 \n\" style=\"fill:#f8dac5;\"/>\n    <path clip-path=\"url(#p03f9bb7a6c)\" d=\"M 341.879062 7.2 \nL 415.634062 7.2 \nL 415.634062 63.39375 \nL 341.879062 63.39375 \nL 341.879062 7.2 \n\" style=\"fill:#03051a;\"/>\n    <path clip-path=\"url(#p03f9bb7a6c)\" d=\"M 120.614063 63.39375 \nL 194.369062 63.39375 \nL 194.369062 119.5875 \nL 120.614063 119.5875 \nL 120.614063 63.39375 \n\" style=\"fill:#03051a;\"/>\n    <path clip-path=\"url(#p03f9bb7a6c)\" d=\"M 194.369062 63.39375 \nL 268.124062 63.39375 \nL 268.124062 119.5875 \nL 194.369062 119.5875 \nL 194.369062 63.39375 \n\" style=\"fill:#03051a;\"/>\n    <path clip-path=\"url(#p03f9bb7a6c)\" d=\"M 268.124062 63.39375 \nL 341.879062 63.39375 \nL 341.879062 119.5875 \nL 268.124062 119.5875 \nL 268.124062 63.39375 \n\" style=\"fill:#f9e2d0;\"/>\n    <path clip-path=\"url(#p03f9bb7a6c)\" d=\"M 341.879062 63.39375 \nL 415.634062 63.39375 \nL 415.634062 119.5875 \nL 341.879062 119.5875 \nL 341.879062 63.39375 \n\" style=\"fill:#03051a;\"/>\n    <path clip-path=\"url(#p03f9bb7a6c)\" d=\"M 120.614063 119.5875 \nL 194.369062 119.5875 \nL 194.369062 175.78125 \nL 120.614063 175.78125 \nL 120.614063 119.5875 \n\" style=\"fill:#03051a;\"/>\n    <path clip-path=\"url(#p03f9bb7a6c)\" d=\"M 194.369062 119.5875 \nL 268.124062 119.5875 \nL 268.124062 175.78125 \nL 194.369062 175.78125 \nL 194.369062 119.5875 \n\" style=\"fill:#03051a;\"/>\n    <path clip-path=\"url(#p03f9bb7a6c)\" d=\"M 268.124062 119.5875 \nL 341.879062 119.5875 \nL 341.879062 175.78125 \nL 268.124062 175.78125 \nL 268.124062 119.5875 \n\" style=\"fill:#faebdd;\"/>\n    <path clip-path=\"url(#p03f9bb7a6c)\" d=\"M 341.879062 119.5875 \nL 415.634062 119.5875 \nL 415.634062 175.78125 \nL 341.879062 175.78125 \nL 341.879062 119.5875 \n\" style=\"fill:#03051a;\"/>\n    <path clip-path=\"url(#p03f9bb7a6c)\" d=\"M 120.614063 175.78125 \nL 194.369062 175.78125 \nL 194.369062 231.975 \nL 120.614063 231.975 \nL 120.614063 175.78125 \n\" style=\"fill:#03051a;\"/>\n    <path clip-path=\"url(#p03f9bb7a6c)\" d=\"M 194.369062 175.78125 \nL 268.124062 175.78125 \nL 268.124062 231.975 \nL 194.369062 231.975 \nL 194.369062 175.78125 \n\" style=\"fill:#03051a;\"/>\n    <path clip-path=\"url(#p03f9bb7a6c)\" d=\"M 268.124062 175.78125 \nL 341.879062 175.78125 \nL 341.879062 231.975 \nL 268.124062 231.975 \nL 268.124062 175.78125 \n\" style=\"fill:#f7d0b5;\"/>\n    <path clip-path=\"url(#p03f9bb7a6c)\" d=\"M 341.879062 175.78125 \nL 415.634062 175.78125 \nL 415.634062 231.975 \nL 341.879062 231.975 \nL 341.879062 175.78125 \n\" style=\"fill:#03051a;\"/>\n   </g>\n   <g id=\"matplotlib.axis_1\">\n    <g id=\"xtick_1\">\n     <g id=\"line2d_1\">\n      <defs>\n       <path d=\"M 0 0 \nL 0 3.5 \n\" id=\"m237425d27d\" style=\"stroke:#000000;stroke-width:0.8;\"/>\n      </defs>\n      <g>\n       <use style=\"stroke:#000000;stroke-width:0.8;\" x=\"157.491562\" xlink:href=\"#m237425d27d\" y=\"231.975\"/>\n      </g>\n     </g>\n     <g id=\"text_1\">\n      <!-- imagine_both_feet -->\n      <g transform=\"translate(160.111875 331.710937)rotate(-90)scale(0.1 -0.1)\">\n       <defs>\n        <path d=\"M 603 3500 \nL 1178 3500 \nL 1178 0 \nL 603 0 \nL 603 3500 \nz\nM 603 4863 \nL 1178 4863 \nL 1178 4134 \nL 603 4134 \nL 603 4863 \nz\n\" id=\"DejaVuSans-69\" transform=\"scale(0.015625)\"/>\n        <path d=\"M 3328 2828 \nQ 3544 3216 3844 3400 \nQ 4144 3584 4550 3584 \nQ 5097 3584 5394 3201 \nQ 5691 2819 5691 2113 \nL 5691 0 \nL 5113 0 \nL 5113 2094 \nQ 5113 2597 4934 2840 \nQ 4756 3084 4391 3084 \nQ 3944 3084 3684 2787 \nQ 3425 2491 3425 1978 \nL 3425 0 \nL 2847 0 \nL 2847 2094 \nQ 2847 2600 2669 2842 \nQ 2491 3084 2119 3084 \nQ 1678 3084 1418 2786 \nQ 1159 2488 1159 1978 \nL 1159 0 \nL 581 0 \nL 581 3500 \nL 1159 3500 \nL 1159 2956 \nQ 1356 3278 1631 3431 \nQ 1906 3584 2284 3584 \nQ 2666 3584 2933 3390 \nQ 3200 3197 3328 2828 \nz\n\" id=\"DejaVuSans-6d\" transform=\"scale(0.015625)\"/>\n        <path d=\"M 2194 1759 \nQ 1497 1759 1228 1600 \nQ 959 1441 959 1056 \nQ 959 750 1161 570 \nQ 1363 391 1709 391 \nQ 2188 391 2477 730 \nQ 2766 1069 2766 1631 \nL 2766 1759 \nL 2194 1759 \nz\nM 3341 1997 \nL 3341 0 \nL 2766 0 \nL 2766 531 \nQ 2569 213 2275 61 \nQ 1981 -91 1556 -91 \nQ 1019 -91 701 211 \nQ 384 513 384 1019 \nQ 384 1609 779 1909 \nQ 1175 2209 1959 2209 \nL 2766 2209 \nL 2766 2266 \nQ 2766 2663 2505 2880 \nQ 2244 3097 1772 3097 \nQ 1472 3097 1187 3025 \nQ 903 2953 641 2809 \nL 641 3341 \nQ 956 3463 1253 3523 \nQ 1550 3584 1831 3584 \nQ 2591 3584 2966 3190 \nQ 3341 2797 3341 1997 \nz\n\" id=\"DejaVuSans-61\" transform=\"scale(0.015625)\"/>\n        <path d=\"M 2906 1791 \nQ 2906 2416 2648 2759 \nQ 2391 3103 1925 3103 \nQ 1463 3103 1205 2759 \nQ 947 2416 947 1791 \nQ 947 1169 1205 825 \nQ 1463 481 1925 481 \nQ 2391 481 2648 825 \nQ 2906 1169 2906 1791 \nz\nM 3481 434 \nQ 3481 -459 3084 -895 \nQ 2688 -1331 1869 -1331 \nQ 1566 -1331 1297 -1286 \nQ 1028 -1241 775 -1147 \nL 775 -588 \nQ 1028 -725 1275 -790 \nQ 1522 -856 1778 -856 \nQ 2344 -856 2625 -561 \nQ 2906 -266 2906 331 \nL 2906 616 \nQ 2728 306 2450 153 \nQ 2172 0 1784 0 \nQ 1141 0 747 490 \nQ 353 981 353 1791 \nQ 353 2603 747 3093 \nQ 1141 3584 1784 3584 \nQ 2172 3584 2450 3431 \nQ 2728 3278 2906 2969 \nL 2906 3500 \nL 3481 3500 \nL 3481 434 \nz\n\" id=\"DejaVuSans-67\" transform=\"scale(0.015625)\"/>\n        <path d=\"M 3513 2113 \nL 3513 0 \nL 2938 0 \nL 2938 2094 \nQ 2938 2591 2744 2837 \nQ 2550 3084 2163 3084 \nQ 1697 3084 1428 2787 \nQ 1159 2491 1159 1978 \nL 1159 0 \nL 581 0 \nL 581 3500 \nL 1159 3500 \nL 1159 2956 \nQ 1366 3272 1645 3428 \nQ 1925 3584 2291 3584 \nQ 2894 3584 3203 3211 \nQ 3513 2838 3513 2113 \nz\n\" id=\"DejaVuSans-6e\" transform=\"scale(0.015625)\"/>\n        <path d=\"M 3597 1894 \nL 3597 1613 \nL 953 1613 \nQ 991 1019 1311 708 \nQ 1631 397 2203 397 \nQ 2534 397 2845 478 \nQ 3156 559 3463 722 \nL 3463 178 \nQ 3153 47 2828 -22 \nQ 2503 -91 2169 -91 \nQ 1331 -91 842 396 \nQ 353 884 353 1716 \nQ 353 2575 817 3079 \nQ 1281 3584 2069 3584 \nQ 2775 3584 3186 3129 \nQ 3597 2675 3597 1894 \nz\nM 3022 2063 \nQ 3016 2534 2758 2815 \nQ 2500 3097 2075 3097 \nQ 1594 3097 1305 2825 \nQ 1016 2553 972 2059 \nL 3022 2063 \nz\n\" id=\"DejaVuSans-65\" transform=\"scale(0.015625)\"/>\n        <path d=\"M 3263 -1063 \nL 3263 -1509 \nL -63 -1509 \nL -63 -1063 \nL 3263 -1063 \nz\n\" id=\"DejaVuSans-5f\" transform=\"scale(0.015625)\"/>\n        <path d=\"M 3116 1747 \nQ 3116 2381 2855 2742 \nQ 2594 3103 2138 3103 \nQ 1681 3103 1420 2742 \nQ 1159 2381 1159 1747 \nQ 1159 1113 1420 752 \nQ 1681 391 2138 391 \nQ 2594 391 2855 752 \nQ 3116 1113 3116 1747 \nz\nM 1159 2969 \nQ 1341 3281 1617 3432 \nQ 1894 3584 2278 3584 \nQ 2916 3584 3314 3078 \nQ 3713 2572 3713 1747 \nQ 3713 922 3314 415 \nQ 2916 -91 2278 -91 \nQ 1894 -91 1617 61 \nQ 1341 213 1159 525 \nL 1159 0 \nL 581 0 \nL 581 4863 \nL 1159 4863 \nL 1159 2969 \nz\n\" id=\"DejaVuSans-62\" transform=\"scale(0.015625)\"/>\n        <path d=\"M 1959 3097 \nQ 1497 3097 1228 2736 \nQ 959 2375 959 1747 \nQ 959 1119 1226 758 \nQ 1494 397 1959 397 \nQ 2419 397 2687 759 \nQ 2956 1122 2956 1747 \nQ 2956 2369 2687 2733 \nQ 2419 3097 1959 3097 \nz\nM 1959 3584 \nQ 2709 3584 3137 3096 \nQ 3566 2609 3566 1747 \nQ 3566 888 3137 398 \nQ 2709 -91 1959 -91 \nQ 1206 -91 779 398 \nQ 353 888 353 1747 \nQ 353 2609 779 3096 \nQ 1206 3584 1959 3584 \nz\n\" id=\"DejaVuSans-6f\" transform=\"scale(0.015625)\"/>\n        <path d=\"M 1172 4494 \nL 1172 3500 \nL 2356 3500 \nL 2356 3053 \nL 1172 3053 \nL 1172 1153 \nQ 1172 725 1289 603 \nQ 1406 481 1766 481 \nL 2356 481 \nL 2356 0 \nL 1766 0 \nQ 1100 0 847 248 \nQ 594 497 594 1153 \nL 594 3053 \nL 172 3053 \nL 172 3500 \nL 594 3500 \nL 594 4494 \nL 1172 4494 \nz\n\" id=\"DejaVuSans-74\" transform=\"scale(0.015625)\"/>\n        <path d=\"M 3513 2113 \nL 3513 0 \nL 2938 0 \nL 2938 2094 \nQ 2938 2591 2744 2837 \nQ 2550 3084 2163 3084 \nQ 1697 3084 1428 2787 \nQ 1159 2491 1159 1978 \nL 1159 0 \nL 581 0 \nL 581 4863 \nL 1159 4863 \nL 1159 2956 \nQ 1366 3272 1645 3428 \nQ 1925 3584 2291 3584 \nQ 2894 3584 3203 3211 \nQ 3513 2838 3513 2113 \nz\n\" id=\"DejaVuSans-68\" transform=\"scale(0.015625)\"/>\n        <path d=\"M 2375 4863 \nL 2375 4384 \nL 1825 4384 \nQ 1516 4384 1395 4259 \nQ 1275 4134 1275 3809 \nL 1275 3500 \nL 2222 3500 \nL 2222 3053 \nL 1275 3053 \nL 1275 0 \nL 697 0 \nL 697 3053 \nL 147 3053 \nL 147 3500 \nL 697 3500 \nL 697 3744 \nQ 697 4328 969 4595 \nQ 1241 4863 1831 4863 \nL 2375 4863 \nz\n\" id=\"DejaVuSans-66\" transform=\"scale(0.015625)\"/>\n       </defs>\n       <use xlink:href=\"#DejaVuSans-69\"/>\n       <use x=\"27.783203\" xlink:href=\"#DejaVuSans-6d\"/>\n       <use x=\"125.195312\" xlink:href=\"#DejaVuSans-61\"/>\n       <use x=\"186.474609\" xlink:href=\"#DejaVuSans-67\"/>\n       <use x=\"249.951172\" xlink:href=\"#DejaVuSans-69\"/>\n       <use x=\"277.734375\" xlink:href=\"#DejaVuSans-6e\"/>\n       <use x=\"341.113281\" xlink:href=\"#DejaVuSans-65\"/>\n       <use x=\"402.636719\" xlink:href=\"#DejaVuSans-5f\"/>\n       <use x=\"452.636719\" xlink:href=\"#DejaVuSans-62\"/>\n       <use x=\"516.113281\" xlink:href=\"#DejaVuSans-6f\"/>\n       <use x=\"577.294922\" xlink:href=\"#DejaVuSans-74\"/>\n       <use x=\"616.503906\" xlink:href=\"#DejaVuSans-68\"/>\n       <use x=\"679.882812\" xlink:href=\"#DejaVuSans-5f\"/>\n       <use x=\"729.882812\" xlink:href=\"#DejaVuSans-66\"/>\n       <use x=\"765.087891\" xlink:href=\"#DejaVuSans-65\"/>\n       <use x=\"826.611328\" xlink:href=\"#DejaVuSans-65\"/>\n       <use x=\"888.134766\" xlink:href=\"#DejaVuSans-74\"/>\n      </g>\n     </g>\n    </g>\n    <g id=\"xtick_2\">\n     <g id=\"line2d_2\">\n      <g>\n       <use style=\"stroke:#000000;stroke-width:0.8;\" x=\"231.246562\" xlink:href=\"#m237425d27d\" y=\"231.975\"/>\n      </g>\n     </g>\n     <g id=\"text_2\">\n      <!-- imagine_both_fist -->\n      <g transform=\"translate(233.866875 327.392187)rotate(-90)scale(0.1 -0.1)\">\n       <defs>\n        <path d=\"M 2834 3397 \nL 2834 2853 \nQ 2591 2978 2328 3040 \nQ 2066 3103 1784 3103 \nQ 1356 3103 1142 2972 \nQ 928 2841 928 2578 \nQ 928 2378 1081 2264 \nQ 1234 2150 1697 2047 \nL 1894 2003 \nQ 2506 1872 2764 1633 \nQ 3022 1394 3022 966 \nQ 3022 478 2636 193 \nQ 2250 -91 1575 -91 \nQ 1294 -91 989 -36 \nQ 684 19 347 128 \nL 347 722 \nQ 666 556 975 473 \nQ 1284 391 1588 391 \nQ 1994 391 2212 530 \nQ 2431 669 2431 922 \nQ 2431 1156 2273 1281 \nQ 2116 1406 1581 1522 \nL 1381 1569 \nQ 847 1681 609 1914 \nQ 372 2147 372 2553 \nQ 372 3047 722 3315 \nQ 1072 3584 1716 3584 \nQ 2034 3584 2315 3537 \nQ 2597 3491 2834 3397 \nz\n\" id=\"DejaVuSans-73\" transform=\"scale(0.015625)\"/>\n       </defs>\n       <use xlink:href=\"#DejaVuSans-69\"/>\n       <use x=\"27.783203\" xlink:href=\"#DejaVuSans-6d\"/>\n       <use x=\"125.195312\" xlink:href=\"#DejaVuSans-61\"/>\n       <use x=\"186.474609\" xlink:href=\"#DejaVuSans-67\"/>\n       <use x=\"249.951172\" xlink:href=\"#DejaVuSans-69\"/>\n       <use x=\"277.734375\" xlink:href=\"#DejaVuSans-6e\"/>\n       <use x=\"341.113281\" xlink:href=\"#DejaVuSans-65\"/>\n       <use x=\"402.636719\" xlink:href=\"#DejaVuSans-5f\"/>\n       <use x=\"452.636719\" xlink:href=\"#DejaVuSans-62\"/>\n       <use x=\"516.113281\" xlink:href=\"#DejaVuSans-6f\"/>\n       <use x=\"577.294922\" xlink:href=\"#DejaVuSans-74\"/>\n       <use x=\"616.503906\" xlink:href=\"#DejaVuSans-68\"/>\n       <use x=\"679.882812\" xlink:href=\"#DejaVuSans-5f\"/>\n       <use x=\"729.882812\" xlink:href=\"#DejaVuSans-66\"/>\n       <use x=\"765.087891\" xlink:href=\"#DejaVuSans-69\"/>\n       <use x=\"792.871094\" xlink:href=\"#DejaVuSans-73\"/>\n       <use x=\"844.970703\" xlink:href=\"#DejaVuSans-74\"/>\n      </g>\n     </g>\n    </g>\n    <g id=\"xtick_3\">\n     <g id=\"line2d_3\">\n      <g>\n       <use style=\"stroke:#000000;stroke-width:0.8;\" x=\"305.001562\" xlink:href=\"#m237425d27d\" y=\"231.975\"/>\n      </g>\n     </g>\n     <g id=\"text_3\">\n      <!-- imagine_left_fist -->\n      <g transform=\"translate(307.621875 320.864062)rotate(-90)scale(0.1 -0.1)\">\n       <defs>\n        <path d=\"M 603 4863 \nL 1178 4863 \nL 1178 0 \nL 603 0 \nL 603 4863 \nz\n\" id=\"DejaVuSans-6c\" transform=\"scale(0.015625)\"/>\n       </defs>\n       <use xlink:href=\"#DejaVuSans-69\"/>\n       <use x=\"27.783203\" xlink:href=\"#DejaVuSans-6d\"/>\n       <use x=\"125.195312\" xlink:href=\"#DejaVuSans-61\"/>\n       <use x=\"186.474609\" xlink:href=\"#DejaVuSans-67\"/>\n       <use x=\"249.951172\" xlink:href=\"#DejaVuSans-69\"/>\n       <use x=\"277.734375\" xlink:href=\"#DejaVuSans-6e\"/>\n       <use x=\"341.113281\" xlink:href=\"#DejaVuSans-65\"/>\n       <use x=\"402.636719\" xlink:href=\"#DejaVuSans-5f\"/>\n       <use x=\"452.636719\" xlink:href=\"#DejaVuSans-6c\"/>\n       <use x=\"480.419922\" xlink:href=\"#DejaVuSans-65\"/>\n       <use x=\"541.943359\" xlink:href=\"#DejaVuSans-66\"/>\n       <use x=\"575.398438\" xlink:href=\"#DejaVuSans-74\"/>\n       <use x=\"614.607422\" xlink:href=\"#DejaVuSans-5f\"/>\n       <use x=\"664.607422\" xlink:href=\"#DejaVuSans-66\"/>\n       <use x=\"699.8125\" xlink:href=\"#DejaVuSans-69\"/>\n       <use x=\"727.595703\" xlink:href=\"#DejaVuSans-73\"/>\n       <use x=\"779.695312\" xlink:href=\"#DejaVuSans-74\"/>\n      </g>\n     </g>\n    </g>\n    <g id=\"xtick_4\">\n     <g id=\"line2d_4\">\n      <g>\n       <use style=\"stroke:#000000;stroke-width:0.8;\" x=\"378.756562\" xlink:href=\"#m237425d27d\" y=\"231.975\"/>\n      </g>\n     </g>\n     <g id=\"text_4\">\n      <!-- imagine_right_fist -->\n      <g transform=\"translate(381.376875 328.1625)rotate(-90)scale(0.1 -0.1)\">\n       <defs>\n        <path d=\"M 2631 2963 \nQ 2534 3019 2420 3045 \nQ 2306 3072 2169 3072 \nQ 1681 3072 1420 2755 \nQ 1159 2438 1159 1844 \nL 1159 0 \nL 581 0 \nL 581 3500 \nL 1159 3500 \nL 1159 2956 \nQ 1341 3275 1631 3429 \nQ 1922 3584 2338 3584 \nQ 2397 3584 2469 3576 \nQ 2541 3569 2628 3553 \nL 2631 2963 \nz\n\" id=\"DejaVuSans-72\" transform=\"scale(0.015625)\"/>\n       </defs>\n       <use xlink:href=\"#DejaVuSans-69\"/>\n       <use x=\"27.783203\" xlink:href=\"#DejaVuSans-6d\"/>\n       <use x=\"125.195312\" xlink:href=\"#DejaVuSans-61\"/>\n       <use x=\"186.474609\" xlink:href=\"#DejaVuSans-67\"/>\n       <use x=\"249.951172\" xlink:href=\"#DejaVuSans-69\"/>\n       <use x=\"277.734375\" xlink:href=\"#DejaVuSans-6e\"/>\n       <use x=\"341.113281\" xlink:href=\"#DejaVuSans-65\"/>\n       <use x=\"402.636719\" xlink:href=\"#DejaVuSans-5f\"/>\n       <use x=\"452.636719\" xlink:href=\"#DejaVuSans-72\"/>\n       <use x=\"493.75\" xlink:href=\"#DejaVuSans-69\"/>\n       <use x=\"521.533203\" xlink:href=\"#DejaVuSans-67\"/>\n       <use x=\"585.009766\" xlink:href=\"#DejaVuSans-68\"/>\n       <use x=\"648.388672\" xlink:href=\"#DejaVuSans-74\"/>\n       <use x=\"687.597656\" xlink:href=\"#DejaVuSans-5f\"/>\n       <use x=\"737.597656\" xlink:href=\"#DejaVuSans-66\"/>\n       <use x=\"772.802734\" xlink:href=\"#DejaVuSans-69\"/>\n       <use x=\"800.585938\" xlink:href=\"#DejaVuSans-73\"/>\n       <use x=\"852.685547\" xlink:href=\"#DejaVuSans-74\"/>\n      </g>\n     </g>\n    </g>\n    <g id=\"text_5\">\n     <!-- Pred -->\n     <g transform=\"translate(257.002969 343.309375)scale(0.1 -0.1)\">\n      <defs>\n       <path d=\"M 1259 4147 \nL 1259 2394 \nL 2053 2394 \nQ 2494 2394 2734 2622 \nQ 2975 2850 2975 3272 \nQ 2975 3691 2734 3919 \nQ 2494 4147 2053 4147 \nL 1259 4147 \nz\nM 628 4666 \nL 2053 4666 \nQ 2838 4666 3239 4311 \nQ 3641 3956 3641 3272 \nQ 3641 2581 3239 2228 \nQ 2838 1875 2053 1875 \nL 1259 1875 \nL 1259 0 \nL 628 0 \nL 628 4666 \nz\n\" id=\"DejaVuSans-50\" transform=\"scale(0.015625)\"/>\n       <path d=\"M 2906 2969 \nL 2906 4863 \nL 3481 4863 \nL 3481 0 \nL 2906 0 \nL 2906 525 \nQ 2725 213 2448 61 \nQ 2172 -91 1784 -91 \nQ 1150 -91 751 415 \nQ 353 922 353 1747 \nQ 353 2572 751 3078 \nQ 1150 3584 1784 3584 \nQ 2172 3584 2448 3432 \nQ 2725 3281 2906 2969 \nz\nM 947 1747 \nQ 947 1113 1208 752 \nQ 1469 391 1925 391 \nQ 2381 391 2643 752 \nQ 2906 1113 2906 1747 \nQ 2906 2381 2643 2742 \nQ 2381 3103 1925 3103 \nQ 1469 3103 1208 2742 \nQ 947 2381 947 1747 \nz\n\" id=\"DejaVuSans-64\" transform=\"scale(0.015625)\"/>\n      </defs>\n      <use xlink:href=\"#DejaVuSans-50\"/>\n      <use x=\"58.552734\" xlink:href=\"#DejaVuSans-72\"/>\n      <use x=\"97.416016\" xlink:href=\"#DejaVuSans-65\"/>\n      <use x=\"158.939453\" xlink:href=\"#DejaVuSans-64\"/>\n     </g>\n    </g>\n   </g>\n   <g id=\"matplotlib.axis_2\">\n    <g id=\"ytick_1\">\n     <g id=\"line2d_5\">\n      <defs>\n       <path d=\"M 0 0 \nL -3.5 0 \n\" id=\"m013b89f7c1\" style=\"stroke:#000000;stroke-width:0.8;\"/>\n      </defs>\n      <g>\n       <use style=\"stroke:#000000;stroke-width:0.8;\" x=\"120.614063\" xlink:href=\"#m013b89f7c1\" y=\"35.296875\"/>\n      </g>\n     </g>\n     <g id=\"text_6\">\n      <!-- imagine_both_feet -->\n      <g transform=\"translate(20.878125 39.096094)scale(0.1 -0.1)\">\n       <use xlink:href=\"#DejaVuSans-69\"/>\n       <use x=\"27.783203\" xlink:href=\"#DejaVuSans-6d\"/>\n       <use x=\"125.195312\" xlink:href=\"#DejaVuSans-61\"/>\n       <use x=\"186.474609\" xlink:href=\"#DejaVuSans-67\"/>\n       <use x=\"249.951172\" xlink:href=\"#DejaVuSans-69\"/>\n       <use x=\"277.734375\" xlink:href=\"#DejaVuSans-6e\"/>\n       <use x=\"341.113281\" xlink:href=\"#DejaVuSans-65\"/>\n       <use x=\"402.636719\" xlink:href=\"#DejaVuSans-5f\"/>\n       <use x=\"452.636719\" xlink:href=\"#DejaVuSans-62\"/>\n       <use x=\"516.113281\" xlink:href=\"#DejaVuSans-6f\"/>\n       <use x=\"577.294922\" xlink:href=\"#DejaVuSans-74\"/>\n       <use x=\"616.503906\" xlink:href=\"#DejaVuSans-68\"/>\n       <use x=\"679.882812\" xlink:href=\"#DejaVuSans-5f\"/>\n       <use x=\"729.882812\" xlink:href=\"#DejaVuSans-66\"/>\n       <use x=\"765.087891\" xlink:href=\"#DejaVuSans-65\"/>\n       <use x=\"826.611328\" xlink:href=\"#DejaVuSans-65\"/>\n       <use x=\"888.134766\" xlink:href=\"#DejaVuSans-74\"/>\n      </g>\n     </g>\n    </g>\n    <g id=\"ytick_2\">\n     <g id=\"line2d_6\">\n      <g>\n       <use style=\"stroke:#000000;stroke-width:0.8;\" x=\"120.614063\" xlink:href=\"#m013b89f7c1\" y=\"91.490625\"/>\n      </g>\n     </g>\n     <g id=\"text_7\">\n      <!-- imagine_both_fist -->\n      <g transform=\"translate(25.196875 95.289844)scale(0.1 -0.1)\">\n       <use xlink:href=\"#DejaVuSans-69\"/>\n       <use x=\"27.783203\" xlink:href=\"#DejaVuSans-6d\"/>\n       <use x=\"125.195312\" xlink:href=\"#DejaVuSans-61\"/>\n       <use x=\"186.474609\" xlink:href=\"#DejaVuSans-67\"/>\n       <use x=\"249.951172\" xlink:href=\"#DejaVuSans-69\"/>\n       <use x=\"277.734375\" xlink:href=\"#DejaVuSans-6e\"/>\n       <use x=\"341.113281\" xlink:href=\"#DejaVuSans-65\"/>\n       <use x=\"402.636719\" xlink:href=\"#DejaVuSans-5f\"/>\n       <use x=\"452.636719\" xlink:href=\"#DejaVuSans-62\"/>\n       <use x=\"516.113281\" xlink:href=\"#DejaVuSans-6f\"/>\n       <use x=\"577.294922\" xlink:href=\"#DejaVuSans-74\"/>\n       <use x=\"616.503906\" xlink:href=\"#DejaVuSans-68\"/>\n       <use x=\"679.882812\" xlink:href=\"#DejaVuSans-5f\"/>\n       <use x=\"729.882812\" xlink:href=\"#DejaVuSans-66\"/>\n       <use x=\"765.087891\" xlink:href=\"#DejaVuSans-69\"/>\n       <use x=\"792.871094\" xlink:href=\"#DejaVuSans-73\"/>\n       <use x=\"844.970703\" xlink:href=\"#DejaVuSans-74\"/>\n      </g>\n     </g>\n    </g>\n    <g id=\"ytick_3\">\n     <g id=\"line2d_7\">\n      <g>\n       <use style=\"stroke:#000000;stroke-width:0.8;\" x=\"120.614063\" xlink:href=\"#m013b89f7c1\" y=\"147.684375\"/>\n      </g>\n     </g>\n     <g id=\"text_8\">\n      <!-- imagine_left_fist -->\n      <g transform=\"translate(31.725 151.483594)scale(0.1 -0.1)\">\n       <use xlink:href=\"#DejaVuSans-69\"/>\n       <use x=\"27.783203\" xlink:href=\"#DejaVuSans-6d\"/>\n       <use x=\"125.195312\" xlink:href=\"#DejaVuSans-61\"/>\n       <use x=\"186.474609\" xlink:href=\"#DejaVuSans-67\"/>\n       <use x=\"249.951172\" xlink:href=\"#DejaVuSans-69\"/>\n       <use x=\"277.734375\" xlink:href=\"#DejaVuSans-6e\"/>\n       <use x=\"341.113281\" xlink:href=\"#DejaVuSans-65\"/>\n       <use x=\"402.636719\" xlink:href=\"#DejaVuSans-5f\"/>\n       <use x=\"452.636719\" xlink:href=\"#DejaVuSans-6c\"/>\n       <use x=\"480.419922\" xlink:href=\"#DejaVuSans-65\"/>\n       <use x=\"541.943359\" xlink:href=\"#DejaVuSans-66\"/>\n       <use x=\"575.398438\" xlink:href=\"#DejaVuSans-74\"/>\n       <use x=\"614.607422\" xlink:href=\"#DejaVuSans-5f\"/>\n       <use x=\"664.607422\" xlink:href=\"#DejaVuSans-66\"/>\n       <use x=\"699.8125\" xlink:href=\"#DejaVuSans-69\"/>\n       <use x=\"727.595703\" xlink:href=\"#DejaVuSans-73\"/>\n       <use x=\"779.695312\" xlink:href=\"#DejaVuSans-74\"/>\n      </g>\n     </g>\n    </g>\n    <g id=\"ytick_4\">\n     <g id=\"line2d_8\">\n      <g>\n       <use style=\"stroke:#000000;stroke-width:0.8;\" x=\"120.614063\" xlink:href=\"#m013b89f7c1\" y=\"203.878125\"/>\n      </g>\n     </g>\n     <g id=\"text_9\">\n      <!-- imagine_right_fist -->\n      <g transform=\"translate(24.426563 207.677344)scale(0.1 -0.1)\">\n       <use xlink:href=\"#DejaVuSans-69\"/>\n       <use x=\"27.783203\" xlink:href=\"#DejaVuSans-6d\"/>\n       <use x=\"125.195312\" xlink:href=\"#DejaVuSans-61\"/>\n       <use x=\"186.474609\" xlink:href=\"#DejaVuSans-67\"/>\n       <use x=\"249.951172\" xlink:href=\"#DejaVuSans-69\"/>\n       <use x=\"277.734375\" xlink:href=\"#DejaVuSans-6e\"/>\n       <use x=\"341.113281\" xlink:href=\"#DejaVuSans-65\"/>\n       <use x=\"402.636719\" xlink:href=\"#DejaVuSans-5f\"/>\n       <use x=\"452.636719\" xlink:href=\"#DejaVuSans-72\"/>\n       <use x=\"493.75\" xlink:href=\"#DejaVuSans-69\"/>\n       <use x=\"521.533203\" xlink:href=\"#DejaVuSans-67\"/>\n       <use x=\"585.009766\" xlink:href=\"#DejaVuSans-68\"/>\n       <use x=\"648.388672\" xlink:href=\"#DejaVuSans-74\"/>\n       <use x=\"687.597656\" xlink:href=\"#DejaVuSans-5f\"/>\n       <use x=\"737.597656\" xlink:href=\"#DejaVuSans-66\"/>\n       <use x=\"772.802734\" xlink:href=\"#DejaVuSans-69\"/>\n       <use x=\"800.585938\" xlink:href=\"#DejaVuSans-73\"/>\n       <use x=\"852.685547\" xlink:href=\"#DejaVuSans-74\"/>\n      </g>\n     </g>\n    </g>\n    <g id=\"text_10\">\n     <!-- True -->\n     <g transform=\"translate(14.798437 130.204687)rotate(-90)scale(0.1 -0.1)\">\n      <defs>\n       <path d=\"M -19 4666 \nL 3928 4666 \nL 3928 4134 \nL 2272 4134 \nL 2272 0 \nL 1638 0 \nL 1638 4134 \nL -19 4134 \nL -19 4666 \nz\n\" id=\"DejaVuSans-54\" transform=\"scale(0.015625)\"/>\n       <path d=\"M 544 1381 \nL 544 3500 \nL 1119 3500 \nL 1119 1403 \nQ 1119 906 1312 657 \nQ 1506 409 1894 409 \nQ 2359 409 2629 706 \nQ 2900 1003 2900 1516 \nL 2900 3500 \nL 3475 3500 \nL 3475 0 \nL 2900 0 \nL 2900 538 \nQ 2691 219 2414 64 \nQ 2138 -91 1772 -91 \nQ 1169 -91 856 284 \nQ 544 659 544 1381 \nz\nM 1991 3584 \nL 1991 3584 \nz\n\" id=\"DejaVuSans-75\" transform=\"scale(0.015625)\"/>\n      </defs>\n      <use xlink:href=\"#DejaVuSans-54\"/>\n      <use x=\"46.333984\" xlink:href=\"#DejaVuSans-72\"/>\n      <use x=\"87.447266\" xlink:href=\"#DejaVuSans-75\"/>\n      <use x=\"150.826172\" xlink:href=\"#DejaVuSans-65\"/>\n     </g>\n    </g>\n   </g>\n   <g id=\"text_11\">\n    <!-- 0 -->\n    <g style=\"fill:#ffffff;\" transform=\"translate(154.310312 38.05625)scale(0.1 -0.1)\">\n     <defs>\n      <path d=\"M 2034 4250 \nQ 1547 4250 1301 3770 \nQ 1056 3291 1056 2328 \nQ 1056 1369 1301 889 \nQ 1547 409 2034 409 \nQ 2525 409 2770 889 \nQ 3016 1369 3016 2328 \nQ 3016 3291 2770 3770 \nQ 2525 4250 2034 4250 \nz\nM 2034 4750 \nQ 2819 4750 3233 4129 \nQ 3647 3509 3647 2328 \nQ 3647 1150 3233 529 \nQ 2819 -91 2034 -91 \nQ 1250 -91 836 529 \nQ 422 1150 422 2328 \nQ 422 3509 836 4129 \nQ 1250 4750 2034 4750 \nz\n\" id=\"DejaVuSans-30\" transform=\"scale(0.015625)\"/>\n     </defs>\n     <use xlink:href=\"#DejaVuSans-30\"/>\n    </g>\n   </g>\n   <g id=\"text_12\">\n    <!-- 0 -->\n    <g style=\"fill:#ffffff;\" transform=\"translate(228.065312 38.05625)scale(0.1 -0.1)\">\n     <use xlink:href=\"#DejaVuSans-30\"/>\n    </g>\n   </g>\n   <g id=\"text_13\">\n    <!-- 146 -->\n    <g style=\"fill:#262626;\" transform=\"translate(295.457812 38.05625)scale(0.1 -0.1)\">\n     <defs>\n      <path d=\"M 794 531 \nL 1825 531 \nL 1825 4091 \nL 703 3866 \nL 703 4441 \nL 1819 4666 \nL 2450 4666 \nL 2450 531 \nL 3481 531 \nL 3481 0 \nL 794 0 \nL 794 531 \nz\n\" id=\"DejaVuSans-31\" transform=\"scale(0.015625)\"/>\n      <path d=\"M 2419 4116 \nL 825 1625 \nL 2419 1625 \nL 2419 4116 \nz\nM 2253 4666 \nL 3047 4666 \nL 3047 1625 \nL 3713 1625 \nL 3713 1100 \nL 3047 1100 \nL 3047 0 \nL 2419 0 \nL 2419 1100 \nL 313 1100 \nL 313 1709 \nL 2253 4666 \nz\n\" id=\"DejaVuSans-34\" transform=\"scale(0.015625)\"/>\n      <path d=\"M 2113 2584 \nQ 1688 2584 1439 2293 \nQ 1191 2003 1191 1497 \nQ 1191 994 1439 701 \nQ 1688 409 2113 409 \nQ 2538 409 2786 701 \nQ 3034 994 3034 1497 \nQ 3034 2003 2786 2293 \nQ 2538 2584 2113 2584 \nz\nM 3366 4563 \nL 3366 3988 \nQ 3128 4100 2886 4159 \nQ 2644 4219 2406 4219 \nQ 1781 4219 1451 3797 \nQ 1122 3375 1075 2522 \nQ 1259 2794 1537 2939 \nQ 1816 3084 2150 3084 \nQ 2853 3084 3261 2657 \nQ 3669 2231 3669 1497 \nQ 3669 778 3244 343 \nQ 2819 -91 2113 -91 \nQ 1303 -91 875 529 \nQ 447 1150 447 2328 \nQ 447 3434 972 4092 \nQ 1497 4750 2381 4750 \nQ 2619 4750 2861 4703 \nQ 3103 4656 3366 4563 \nz\n\" id=\"DejaVuSans-36\" transform=\"scale(0.015625)\"/>\n     </defs>\n     <use xlink:href=\"#DejaVuSans-31\"/>\n     <use x=\"63.623047\" xlink:href=\"#DejaVuSans-34\"/>\n     <use x=\"127.246094\" xlink:href=\"#DejaVuSans-36\"/>\n    </g>\n   </g>\n   <g id=\"text_14\">\n    <!-- 0 -->\n    <g style=\"fill:#ffffff;\" transform=\"translate(375.575312 38.05625)scale(0.1 -0.1)\">\n     <use xlink:href=\"#DejaVuSans-30\"/>\n    </g>\n   </g>\n   <g id=\"text_15\">\n    <!-- 0 -->\n    <g style=\"fill:#ffffff;\" transform=\"translate(154.310312 94.25)scale(0.1 -0.1)\">\n     <use xlink:href=\"#DejaVuSans-30\"/>\n    </g>\n   </g>\n   <g id=\"text_16\">\n    <!-- 0 -->\n    <g style=\"fill:#ffffff;\" transform=\"translate(228.065312 94.25)scale(0.1 -0.1)\">\n     <use xlink:href=\"#DejaVuSans-30\"/>\n    </g>\n   </g>\n   <g id=\"text_17\">\n    <!-- 149 -->\n    <g style=\"fill:#262626;\" transform=\"translate(295.457812 94.25)scale(0.1 -0.1)\">\n     <defs>\n      <path d=\"M 703 97 \nL 703 672 \nQ 941 559 1184 500 \nQ 1428 441 1663 441 \nQ 2288 441 2617 861 \nQ 2947 1281 2994 2138 \nQ 2813 1869 2534 1725 \nQ 2256 1581 1919 1581 \nQ 1219 1581 811 2004 \nQ 403 2428 403 3163 \nQ 403 3881 828 4315 \nQ 1253 4750 1959 4750 \nQ 2769 4750 3195 4129 \nQ 3622 3509 3622 2328 \nQ 3622 1225 3098 567 \nQ 2575 -91 1691 -91 \nQ 1453 -91 1209 -44 \nQ 966 3 703 97 \nz\nM 1959 2075 \nQ 2384 2075 2632 2365 \nQ 2881 2656 2881 3163 \nQ 2881 3666 2632 3958 \nQ 2384 4250 1959 4250 \nQ 1534 4250 1286 3958 \nQ 1038 3666 1038 3163 \nQ 1038 2656 1286 2365 \nQ 1534 2075 1959 2075 \nz\n\" id=\"DejaVuSans-39\" transform=\"scale(0.015625)\"/>\n     </defs>\n     <use xlink:href=\"#DejaVuSans-31\"/>\n     <use x=\"63.623047\" xlink:href=\"#DejaVuSans-34\"/>\n     <use x=\"127.246094\" xlink:href=\"#DejaVuSans-39\"/>\n    </g>\n   </g>\n   <g id=\"text_18\">\n    <!-- 0 -->\n    <g style=\"fill:#ffffff;\" transform=\"translate(375.575312 94.25)scale(0.1 -0.1)\">\n     <use xlink:href=\"#DejaVuSans-30\"/>\n    </g>\n   </g>\n   <g id=\"text_19\">\n    <!-- 0 -->\n    <g style=\"fill:#ffffff;\" transform=\"translate(154.310312 150.44375)scale(0.1 -0.1)\">\n     <use xlink:href=\"#DejaVuSans-30\"/>\n    </g>\n   </g>\n   <g id=\"text_20\">\n    <!-- 0 -->\n    <g style=\"fill:#ffffff;\" transform=\"translate(228.065312 150.44375)scale(0.1 -0.1)\">\n     <use xlink:href=\"#DejaVuSans-30\"/>\n    </g>\n   </g>\n   <g id=\"text_21\">\n    <!-- 153 -->\n    <g style=\"fill:#262626;\" transform=\"translate(295.457812 150.44375)scale(0.1 -0.1)\">\n     <defs>\n      <path d=\"M 691 4666 \nL 3169 4666 \nL 3169 4134 \nL 1269 4134 \nL 1269 2991 \nQ 1406 3038 1543 3061 \nQ 1681 3084 1819 3084 \nQ 2600 3084 3056 2656 \nQ 3513 2228 3513 1497 \nQ 3513 744 3044 326 \nQ 2575 -91 1722 -91 \nQ 1428 -91 1123 -41 \nQ 819 9 494 109 \nL 494 744 \nQ 775 591 1075 516 \nQ 1375 441 1709 441 \nQ 2250 441 2565 725 \nQ 2881 1009 2881 1497 \nQ 2881 1984 2565 2268 \nQ 2250 2553 1709 2553 \nQ 1456 2553 1204 2497 \nQ 953 2441 691 2322 \nL 691 4666 \nz\n\" id=\"DejaVuSans-35\" transform=\"scale(0.015625)\"/>\n      <path d=\"M 2597 2516 \nQ 3050 2419 3304 2112 \nQ 3559 1806 3559 1356 \nQ 3559 666 3084 287 \nQ 2609 -91 1734 -91 \nQ 1441 -91 1130 -33 \nQ 819 25 488 141 \nL 488 750 \nQ 750 597 1062 519 \nQ 1375 441 1716 441 \nQ 2309 441 2620 675 \nQ 2931 909 2931 1356 \nQ 2931 1769 2642 2001 \nQ 2353 2234 1838 2234 \nL 1294 2234 \nL 1294 2753 \nL 1863 2753 \nQ 2328 2753 2575 2939 \nQ 2822 3125 2822 3475 \nQ 2822 3834 2567 4026 \nQ 2313 4219 1838 4219 \nQ 1578 4219 1281 4162 \nQ 984 4106 628 3988 \nL 628 4550 \nQ 988 4650 1302 4700 \nQ 1616 4750 1894 4750 \nQ 2613 4750 3031 4423 \nQ 3450 4097 3450 3541 \nQ 3450 3153 3228 2886 \nQ 3006 2619 2597 2516 \nz\n\" id=\"DejaVuSans-33\" transform=\"scale(0.015625)\"/>\n     </defs>\n     <use xlink:href=\"#DejaVuSans-31\"/>\n     <use x=\"63.623047\" xlink:href=\"#DejaVuSans-35\"/>\n     <use x=\"127.246094\" xlink:href=\"#DejaVuSans-33\"/>\n    </g>\n   </g>\n   <g id=\"text_22\">\n    <!-- 0 -->\n    <g style=\"fill:#ffffff;\" transform=\"translate(375.575312 150.44375)scale(0.1 -0.1)\">\n     <use xlink:href=\"#DejaVuSans-30\"/>\n    </g>\n   </g>\n   <g id=\"text_23\">\n    <!-- 0 -->\n    <g style=\"fill:#ffffff;\" transform=\"translate(154.310312 206.6375)scale(0.1 -0.1)\">\n     <use xlink:href=\"#DejaVuSans-30\"/>\n    </g>\n   </g>\n   <g id=\"text_24\">\n    <!-- 0 -->\n    <g style=\"fill:#ffffff;\" transform=\"translate(228.065312 206.6375)scale(0.1 -0.1)\">\n     <use xlink:href=\"#DejaVuSans-30\"/>\n    </g>\n   </g>\n   <g id=\"text_25\">\n    <!-- 142 -->\n    <g style=\"fill:#262626;\" transform=\"translate(295.457812 206.6375)scale(0.1 -0.1)\">\n     <defs>\n      <path d=\"M 1228 531 \nL 3431 531 \nL 3431 0 \nL 469 0 \nL 469 531 \nQ 828 903 1448 1529 \nQ 2069 2156 2228 2338 \nQ 2531 2678 2651 2914 \nQ 2772 3150 2772 3378 \nQ 2772 3750 2511 3984 \nQ 2250 4219 1831 4219 \nQ 1534 4219 1204 4116 \nQ 875 4013 500 3803 \nL 500 4441 \nQ 881 4594 1212 4672 \nQ 1544 4750 1819 4750 \nQ 2544 4750 2975 4387 \nQ 3406 4025 3406 3419 \nQ 3406 3131 3298 2873 \nQ 3191 2616 2906 2266 \nQ 2828 2175 2409 1742 \nQ 1991 1309 1228 531 \nz\n\" id=\"DejaVuSans-32\" transform=\"scale(0.015625)\"/>\n     </defs>\n     <use xlink:href=\"#DejaVuSans-31\"/>\n     <use x=\"63.623047\" xlink:href=\"#DejaVuSans-34\"/>\n     <use x=\"127.246094\" xlink:href=\"#DejaVuSans-32\"/>\n    </g>\n   </g>\n   <g id=\"text_26\">\n    <!-- 0 -->\n    <g style=\"fill:#ffffff;\" transform=\"translate(375.575312 206.6375)scale(0.1 -0.1)\">\n     <use xlink:href=\"#DejaVuSans-30\"/>\n    </g>\n   </g>\n  </g>\n  <g id=\"axes_2\">\n   <g id=\"patch_3\">\n    <path d=\"M 434.072812 231.975 \nL 445.311562 231.975 \nL 445.311562 7.2 \nL 434.072812 7.2 \nz\n\" style=\"fill:#ffffff;\"/>\n   </g>\n   <g id=\"patch_4\">\n    <path clip-path=\"url(#pd8d5302b13)\" d=\"M 434.072812 231.975 \nL 434.072812 231.096973 \nL 434.072812 8.078027 \nL 434.072812 7.2 \nL 445.311562 7.2 \nL 445.311562 8.078027 \nL 445.311562 231.096973 \nL 445.311562 231.975 \nL 445.311562 231.975 \nz\n\" style=\"fill:#ffffff;stroke:#ffffff;stroke-linejoin:miter;stroke-width:0.01;\"/>\n   </g>\n   <image height=\"224\" id=\"imagea840b6375a\" transform=\"scale(1 -1)translate(0 -224)\" width=\"11\" x=\"434\" xlink:href=\"data:image/png;base64,\niVBORw0KGgoAAAANSUhEUgAAAAsAAADgCAYAAADVL5xnAAABUElEQVR4nO3ZMQ4CMQxE0TgOl+D+94SaLq8YySCordHPt5PdDXUez9e6/J2quq3V4pVK3jEMSu7agJFbICXHmkKee4O6HDMmS7uHTF0MY0oyTV1sw+aYc/OM6n7cBjLf/4y5Fx2MgJH0DBjB3Z2buutSPeuS6iB5irrcHpyiDpLHqEthnOuvFMeg4tw8S3HMxpmBgU0RDGGm5CkjGsS4jzaMJoyXYEjyEBslybRhKRnVUbIUQ1cMo+EsOFuK8SVQknPM5FmSG6Y/uUDDuK7lZFHXqeQpNmIYG57Hqg4w0AYkrxjzhofKgUsIXeCUZHnnh7PfMBZhSPEYDEluuPuiZCxOYeTUrb5/3VbmWFPkNj7Ywb+6j+KcuiE25D+gHAZ85J0lV8rmOaYOMXIjKp6HqBvSFFL3hTaqYsfXlKmTBc7oYPUjlPzzniu4YWcscES73xvsLToIMEORAAAAAElFTkSuQmCC\" y=\"-7\"/>\n   <g id=\"matplotlib.axis_3\"/>\n   <g id=\"matplotlib.axis_4\">\n    <g id=\"ytick_5\">\n     <g id=\"line2d_9\">\n      <defs>\n       <path d=\"M 0 0 \nL 3.5 0 \n\" id=\"mc993f0845b\" style=\"stroke:#000000;stroke-width:0.8;\"/>\n      </defs>\n      <g>\n       <use style=\"stroke:#000000;stroke-width:0.8;\" x=\"445.311562\" xlink:href=\"#mc993f0845b\" y=\"231.975\"/>\n      </g>\n     </g>\n     <g id=\"text_27\">\n      <!-- 0 -->\n      <g transform=\"translate(452.311562 235.774219)scale(0.1 -0.1)\">\n       <use xlink:href=\"#DejaVuSans-30\"/>\n      </g>\n     </g>\n    </g>\n    <g id=\"ytick_6\">\n     <g id=\"line2d_10\">\n      <g>\n       <use style=\"stroke:#000000;stroke-width:0.8;\" x=\"445.311562\" xlink:href=\"#mc993f0845b\" y=\"202.592647\"/>\n      </g>\n     </g>\n     <g id=\"text_28\">\n      <!-- 20 -->\n      <g transform=\"translate(452.311562 206.391866)scale(0.1 -0.1)\">\n       <use xlink:href=\"#DejaVuSans-32\"/>\n       <use x=\"63.623047\" xlink:href=\"#DejaVuSans-30\"/>\n      </g>\n     </g>\n    </g>\n    <g id=\"ytick_7\">\n     <g id=\"line2d_11\">\n      <g>\n       <use style=\"stroke:#000000;stroke-width:0.8;\" x=\"445.311562\" xlink:href=\"#mc993f0845b\" y=\"173.210294\"/>\n      </g>\n     </g>\n     <g id=\"text_29\">\n      <!-- 40 -->\n      <g transform=\"translate(452.311562 177.009513)scale(0.1 -0.1)\">\n       <use xlink:href=\"#DejaVuSans-34\"/>\n       <use x=\"63.623047\" xlink:href=\"#DejaVuSans-30\"/>\n      </g>\n     </g>\n    </g>\n    <g id=\"ytick_8\">\n     <g id=\"line2d_12\">\n      <g>\n       <use style=\"stroke:#000000;stroke-width:0.8;\" x=\"445.311562\" xlink:href=\"#mc993f0845b\" y=\"143.827941\"/>\n      </g>\n     </g>\n     <g id=\"text_30\">\n      <!-- 60 -->\n      <g transform=\"translate(452.311562 147.62716)scale(0.1 -0.1)\">\n       <use xlink:href=\"#DejaVuSans-36\"/>\n       <use x=\"63.623047\" xlink:href=\"#DejaVuSans-30\"/>\n      </g>\n     </g>\n    </g>\n    <g id=\"ytick_9\">\n     <g id=\"line2d_13\">\n      <g>\n       <use style=\"stroke:#000000;stroke-width:0.8;\" x=\"445.311562\" xlink:href=\"#mc993f0845b\" y=\"114.445588\"/>\n      </g>\n     </g>\n     <g id=\"text_31\">\n      <!-- 80 -->\n      <g transform=\"translate(452.311562 118.244807)scale(0.1 -0.1)\">\n       <defs>\n        <path d=\"M 2034 2216 \nQ 1584 2216 1326 1975 \nQ 1069 1734 1069 1313 \nQ 1069 891 1326 650 \nQ 1584 409 2034 409 \nQ 2484 409 2743 651 \nQ 3003 894 3003 1313 \nQ 3003 1734 2745 1975 \nQ 2488 2216 2034 2216 \nz\nM 1403 2484 \nQ 997 2584 770 2862 \nQ 544 3141 544 3541 \nQ 544 4100 942 4425 \nQ 1341 4750 2034 4750 \nQ 2731 4750 3128 4425 \nQ 3525 4100 3525 3541 \nQ 3525 3141 3298 2862 \nQ 3072 2584 2669 2484 \nQ 3125 2378 3379 2068 \nQ 3634 1759 3634 1313 \nQ 3634 634 3220 271 \nQ 2806 -91 2034 -91 \nQ 1263 -91 848 271 \nQ 434 634 434 1313 \nQ 434 1759 690 2068 \nQ 947 2378 1403 2484 \nz\nM 1172 3481 \nQ 1172 3119 1398 2916 \nQ 1625 2713 2034 2713 \nQ 2441 2713 2670 2916 \nQ 2900 3119 2900 3481 \nQ 2900 3844 2670 4047 \nQ 2441 4250 2034 4250 \nQ 1625 4250 1398 4047 \nQ 1172 3844 1172 3481 \nz\n\" id=\"DejaVuSans-38\" transform=\"scale(0.015625)\"/>\n       </defs>\n       <use xlink:href=\"#DejaVuSans-38\"/>\n       <use x=\"63.623047\" xlink:href=\"#DejaVuSans-30\"/>\n      </g>\n     </g>\n    </g>\n    <g id=\"ytick_10\">\n     <g id=\"line2d_14\">\n      <g>\n       <use style=\"stroke:#000000;stroke-width:0.8;\" x=\"445.311562\" xlink:href=\"#mc993f0845b\" y=\"85.063235\"/>\n      </g>\n     </g>\n     <g id=\"text_32\">\n      <!-- 100 -->\n      <g transform=\"translate(452.311562 88.862454)scale(0.1 -0.1)\">\n       <use xlink:href=\"#DejaVuSans-31\"/>\n       <use x=\"63.623047\" xlink:href=\"#DejaVuSans-30\"/>\n       <use x=\"127.246094\" xlink:href=\"#DejaVuSans-30\"/>\n      </g>\n     </g>\n    </g>\n    <g id=\"ytick_11\">\n     <g id=\"line2d_15\">\n      <g>\n       <use style=\"stroke:#000000;stroke-width:0.8;\" x=\"445.311562\" xlink:href=\"#mc993f0845b\" y=\"55.680882\"/>\n      </g>\n     </g>\n     <g id=\"text_33\">\n      <!-- 120 -->\n      <g transform=\"translate(452.311562 59.480101)scale(0.1 -0.1)\">\n       <use xlink:href=\"#DejaVuSans-31\"/>\n       <use x=\"63.623047\" xlink:href=\"#DejaVuSans-32\"/>\n       <use x=\"127.246094\" xlink:href=\"#DejaVuSans-30\"/>\n      </g>\n     </g>\n    </g>\n    <g id=\"ytick_12\">\n     <g id=\"line2d_16\">\n      <g>\n       <use style=\"stroke:#000000;stroke-width:0.8;\" x=\"445.311562\" xlink:href=\"#mc993f0845b\" y=\"26.298529\"/>\n      </g>\n     </g>\n     <g id=\"text_34\">\n      <!-- 140 -->\n      <g transform=\"translate(452.311562 30.097748)scale(0.1 -0.1)\">\n       <use xlink:href=\"#DejaVuSans-31\"/>\n       <use x=\"63.623047\" xlink:href=\"#DejaVuSans-34\"/>\n       <use x=\"127.246094\" xlink:href=\"#DejaVuSans-30\"/>\n      </g>\n     </g>\n    </g>\n   </g>\n   <g id=\"LineCollection_1\"/>\n   <g id=\"patch_5\">\n    <path d=\"M 434.072812 231.975 \nL 434.072812 231.096973 \nL 434.072812 8.078027 \nL 434.072812 7.2 \nL 445.311562 7.2 \nL 445.311562 8.078027 \nL 445.311562 231.096973 \nL 445.311562 231.975 \nz\n\" style=\"fill:none;\"/>\n   </g>\n  </g>\n </g>\n <defs>\n  <clipPath id=\"p03f9bb7a6c\">\n   <rect height=\"224.775\" width=\"295.02\" x=\"120.614063\" y=\"7.2\"/>\n  </clipPath>\n  <clipPath id=\"pd8d5302b13\">\n   <rect height=\"224.775\" width=\"11.23875\" x=\"434.072812\" y=\"7.2\"/>\n  </clipPath>\n </defs>\n</svg>\n",
      "image/png": "[encoded data removed]"
     },
     "metadata": {
      "needs_background": "light"
     }
    }
   ],
   "metadata": {}
  },
  {
   "cell_type": "code",
   "execution_count": null,
   "source": [
    "print('Number of trainable parameters')\n",
    "sum(p.numel() for p in model.parameters() if p.requires_grad)"
   ],
   "outputs": [
    {
     "output_type": "stream",
     "name": "stdout",
     "text": [
      "Number of trainable parameters\n"
     ]
    },
    {
     "output_type": "execute_result",
     "data": {
      "text/plain": [
       "25797"
      ]
     },
     "metadata": {},
     "execution_count": 16
    }
   ],
   "metadata": {}
  }
 ],
 "metadata": {
  "orig_nbformat": 4,
  "language_info": {
   "name": "python",
   "version": "3.7.10",
   "mimetype": "text/x-python",
   "codemirror_mode": {
    "name": "ipython",
    "version": 3
   },
   "pygments_lexer": "ipython3",
   "nbconvert_exporter": "python",
   "file_extension": ".py"
  },
  "kernelspec": {
   "name": "python3",
   "display_name": "Python 3.7.10 64-bit ('env': venv)"
  },
  "interpreter": {
   "hash": "6a647b8c8fb6b9194b82e32092c9482e7e42dcb66eef6eb2ec21ed1080262273"
  }
 },
 "nbformat": 4,
 "nbformat_minor": 2
}