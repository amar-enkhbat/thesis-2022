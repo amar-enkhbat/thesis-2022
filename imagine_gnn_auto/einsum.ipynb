{
 "cells": [
  {
   "cell_type": "code",
   "execution_count": 1,
   "source": [
    "import torch"
   ],
   "outputs": [],
   "metadata": {}
  },
  {
   "cell_type": "code",
   "execution_count": 9,
   "source": [
    "torch.manual_seed(0)\n",
    "a = torch.randn(2, 3, 4)\n",
    "a"
   ],
   "outputs": [
    {
     "output_type": "execute_result",
     "data": {
      "text/plain": [
       "tensor([[[-1.1258, -1.1524, -0.2506, -0.4339],\n",
       "         [ 0.8487,  0.6920, -0.3160, -2.1152],\n",
       "         [ 0.4681, -0.1577,  1.4437,  0.2660]],\n",
       "\n",
       "        [[ 0.1665,  0.8744, -0.1435, -0.1116],\n",
       "         [ 0.9318,  1.2590,  2.0050,  0.0537],\n",
       "         [ 0.6181, -0.4128, -0.8411, -2.3160]]])"
      ]
     },
     "metadata": {},
     "execution_count": 9
    }
   ],
   "metadata": {}
  },
  {
   "cell_type": "code",
   "execution_count": 10,
   "source": [
    "b = torch.randn(4, 1)"
   ],
   "outputs": [],
   "metadata": {}
  },
  {
   "cell_type": "code",
   "execution_count": 11,
   "source": [
    "torch.einsum('ijk,kl->ijl', a, b)"
   ],
   "outputs": [
    {
     "output_type": "execute_result",
     "data": {
      "text/plain": [
       "tensor([[[-2.6671],\n",
       "         [-0.6137],\n",
       "         [ 1.5066]],\n",
       "\n",
       "        [[ 1.1139],\n",
       "         [ 4.1048],\n",
       "         [-2.9573]]])"
      ]
     },
     "metadata": {},
     "execution_count": 11
    }
   ],
   "metadata": {}
  },
  {
   "cell_type": "code",
   "execution_count": 12,
   "source": [
    "torch.matmul(a, b)"
   ],
   "outputs": [
    {
     "output_type": "execute_result",
     "data": {
      "text/plain": [
       "tensor([[[-2.6671],\n",
       "         [-0.6137],\n",
       "         [ 1.5066]],\n",
       "\n",
       "        [[ 1.1139],\n",
       "         [ 4.1048],\n",
       "         [-2.9573]]])"
      ]
     },
     "metadata": {},
     "execution_count": 12
    }
   ],
   "metadata": {}
  },
  {
   "cell_type": "code",
   "execution_count": 13,
   "source": [
    "for i in a:\n",
    "    print(torch.mm(i, b))"
   ],
   "outputs": [
    {
     "output_type": "stream",
     "name": "stdout",
     "text": [
      "tensor([[-2.6671],\n",
      "        [-0.6137],\n",
      "        [ 1.5066]])\n",
      "tensor([[ 1.1139],\n",
      "        [ 4.1048],\n",
      "        [-2.9573]])\n"
     ]
    }
   ],
   "metadata": {}
  },
  {
   "cell_type": "code",
   "execution_count": null,
   "source": [],
   "outputs": [],
   "metadata": {}
  }
 ],
 "metadata": {
  "orig_nbformat": 4,
  "language_info": {
   "name": "python",
   "version": "3.7.10",
   "mimetype": "text/x-python",
   "codemirror_mode": {
    "name": "ipython",
    "version": 3
   },
   "pygments_lexer": "ipython3",
   "nbconvert_exporter": "python",
   "file_extension": ".py"
  },
  "kernelspec": {
   "name": "python3",
   "display_name": "Python 3.7.10 64-bit ('env': venv)"
  },
  "interpreter": {
   "hash": "6a647b8c8fb6b9194b82e32092c9482e7e42dcb66eef6eb2ec21ed1080262273"
  }
 },
 "nbformat": 4,
 "nbformat_minor": 2
}