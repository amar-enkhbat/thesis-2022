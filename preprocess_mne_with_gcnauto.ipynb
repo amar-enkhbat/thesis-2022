{
 "cells": [
  {
   "cell_type": "code",
   "execution_count": 4,
   "metadata": {},
   "outputs": [],
   "source": [
    "import os\n",
    "import numpy as np\n",
    "from tqdm import tqdm\n",
    "import random\n",
    "import json\n",
    "import pickle\n",
    "\n",
    "from mne.channels import make_standard_montage\n",
    "from mne.io import read_raw_edf\n",
    "from mne.datasets import eegbci\n",
    "from mne import events_from_annotations, Epochs, pick_types\n",
    "from mne.decoding import Scaler\n",
    "\n",
    "from sklearn.model_selection import train_test_split\n",
    "from params import PARAMS\n",
    "from train import get_dataloaders\n"
   ]
  },
  {
   "cell_type": "code",
   "execution_count": 5,
   "metadata": {},
   "outputs": [],
   "source": [
    "def generate_preprocessed_data(subject_idc):\n",
    "    \"\"\"\n",
    "    4, 8, 12: Motor imagery: T1: left vs T2: right hand\n",
    "    6, 10, 14: Motor imagery: T1: hands vs T2: feet\n",
    "\n",
    "    label map:\n",
    "    0: left hand\n",
    "    1: right hand\n",
    "    2: fist both hands\n",
    "    3: feet\n",
    "    \"\"\"\n",
    "\n",
    "    dataset_path = 'dataset/physionet.org/files/eegmmidb/1.0.0/'\n",
    "\n",
    "    run_idc = [4, 6, 8, 10, 12, 14]  # motor imagery: hands vs feet\n",
    "\n",
    "    delta = 1. / 160.\n",
    "\n",
    "    whole_data = []\n",
    "    whole_label = []\n",
    "    for subject_idx in subject_idc:\n",
    "        subject_data = []\n",
    "        subject_label = []\n",
    "        for run_idx in run_idc:\n",
    "            fname = os.path.join(dataset_path, f\"S{subject_idx:03d}\", f\"S{subject_idx:03d}R{run_idx:02d}.edf\")\n",
    "            raw = read_raw_edf(fname, preload=True, verbose=False)\n",
    "            eegbci.standardize(raw)  # set channel names\n",
    "            montage = make_standard_montage('standard_1005')\n",
    "            raw.set_montage(montage)\n",
    "\n",
    "            # strip channel names of \".\" characters\n",
    "            raw.rename_channels(lambda x: x.strip('.'))\n",
    "\n",
    "            if run_idx in [4, 8, 12]:\n",
    "                events, event_id = events_from_annotations(raw, event_id=dict(T1=0, T2=1), verbose=False)\n",
    "            elif run_idx in [6, 10, 14]:\n",
    "                events, event_id = events_from_annotations(raw, event_id=dict(T1=2, T2=3), verbose=False)\n",
    "\n",
    "            picks = pick_types(raw.info, meg=False, eeg=True, stim=False, eog=False, exclude='bads')\n",
    "\n",
    "            epochs = Epochs(raw, events, event_id=event_id, tmin=0, tmax=100/160 - delta, baseline=None, preload=True, proj=False, picks=picks, verbose=False)\n",
    "            \n",
    "            data = epochs.get_data()\n",
    "            label = epochs.events[:, -1]\n",
    "\n",
    "            subject_data.append(data)\n",
    "            subject_label.append(label)\n",
    "\n",
    "        subject_data = np.vstack(subject_data)\n",
    "        subject_label = np.hstack(subject_label)\n",
    "        \n",
    "        whole_data.append(subject_data)\n",
    "        whole_label.append(subject_label)\n",
    "\n",
    "    whole_data = np.vstack(whole_data).astype(np.float32)\n",
    "    whole_label = np.hstack(whole_label)\n",
    "\n",
    "\n",
    "    scaler = Scaler(scalings='mean')\n",
    "    whole_data = scaler.fit_transform(whole_data)\n",
    "    \n",
    "    return whole_data, whole_label"
   ]
  },
  {
   "cell_type": "code",
   "execution_count": 6,
   "metadata": {},
   "outputs": [
    {
     "name": "stderr",
     "output_type": "stream",
     "text": [
      "100%|██████████| 1/1 [00:25<00:00, 25.27s/it]\n",
      "100%|██████████| 1/1 [00:00<00:00,  1.48it/s]\n"
     ]
    }
   ],
   "source": [
    "def split_subjects(n_splits):\n",
    "    subject_idc = [i for i in range(1, 110)]\n",
    "    exclusions = [88, 89, 92, 100]\n",
    "    subject_idc = [i for i in subject_idc if i not in exclusions]\n",
    "\n",
    "    for i in tqdm(range(n_splits)):\n",
    "        test_idc = random.sample(subject_idc, 10)\n",
    "        train_idc = [i for i in subject_idc if i not in test_idc]\n",
    "\n",
    "        idc_dict = {'train_idc': train_idc, 'test_idc': test_idc}\n",
    "        json.dump(idc_dict, open(f\"./dataset/train/cross_subject_data_{i}.json\", \"w\"))\n",
    "\n",
    "        X_train, y_train = generate_preprocessed_data(train_idc)\n",
    "        X_test, y_test = generate_preprocessed_data(test_idc)\n",
    "\n",
    "        cross_subject_data = {\"X_train\": X_train, \"y_train\": y_train, \"X_test\": X_test, \"y_test\": y_test}\n",
    "\n",
    "        pickle.dump(cross_subject_data, open(f\"./dataset/train/cross_subject_data_{i}_mne.pickle\", \"wb\"))\n",
    "\n",
    "\n",
    "split_subjects(n_splits=1)\n",
    "\n",
    "def split_samples(n_splits):\n",
    "    subject_idc = [i for i in range(1, 110)]\n",
    "    exclusions = [88, 89, 92, 100]\n",
    "    subject_idc = [i for i in subject_idc if i not in exclusions]\n",
    "\n",
    "    X, y = generate_preprocessed_data(subject_idc)\n",
    "    \n",
    "    for i in tqdm(range(n_splits)):\n",
    "        X_train, X_test, y_train, y_test = train_test_split(X, y, test_size=PARAMS['TEST_SIZE'], shuffle=True, random_state=PARAMS['RANDOM_SEEDS'][i])\n",
    "\n",
    "        cross_subject_data = {\"X_train\": X_train, \"y_train\": y_train, \"X_test\": X_test, \"y_test\": y_test}\n",
    "\n",
    "        pickle.dump(cross_subject_data, open(f\"./dataset/train/cross_subject_data_{i}_mne.pickle\", \"wb\"))\n",
    "\n",
    "\n",
    "split_samples(n_splits=1)"
   ]
  },
  {
   "cell_type": "code",
   "execution_count": 17,
   "metadata": {},
   "outputs": [],
   "source": [
    "dataset = pickle.load(open('dataset/train/cross_subject_data_0_new_20_subjects.pickle', 'rb'))"
   ]
  },
  {
   "cell_type": "code",
   "execution_count": 18,
   "metadata": {},
   "outputs": [
    {
     "data": {
      "text/plain": [
       "dict_keys(['X_train', 'y_train', 'X_test', 'y_test'])"
      ]
     },
     "execution_count": 18,
     "metadata": {},
     "output_type": "execute_result"
    }
   ],
   "source": [
    "dataset.keys()"
   ]
  },
  {
   "cell_type": "code",
   "execution_count": 19,
   "metadata": {},
   "outputs": [
    {
     "name": "stdout",
     "output_type": "stream",
     "text": [
      "Data sizes:\n",
      "Train sizes:\n",
      "(1440, 64, 100)\n",
      "(1440,)\n",
      "Valid sizes:\n",
      "(180, 64, 100)\n",
      "(180,)\n",
      "Test sizes:\n",
      "(180, 64, 100)\n",
      "(180,)\n"
     ]
    }
   ],
   "source": [
    "random_seed = 0\n",
    "X_train, X_test, y_train, y_test = dataset['X_train'], dataset['X_test'], dataset['y_train'], dataset['y_test'] \n",
    "X_train, X_valid, y_train, y_valid = train_test_split(X_train, y_train, test_size=PARAMS['VALID_SIZE'], shuffle=True, random_state=random_seed)\n",
    "print('Data sizes:')\n",
    "print('Train sizes:')\n",
    "print(X_train.shape)\n",
    "print(y_train.shape)\n",
    "print('Valid sizes:')\n",
    "print(X_valid.shape)\n",
    "print(y_valid.shape)\n",
    "print('Test sizes:')\n",
    "print(X_test.shape)\n",
    "print(y_test.shape)\n",
    "\n",
    "dataloaders = get_dataloaders(X_train, y_train, X_valid, y_valid, X_test, y_test, PARAMS['BATCH_SIZE'], random_seed=random_seed, device=PARAMS['DEVICE'])"
   ]
  },
  {
   "cell_type": "code",
   "execution_count": 21,
   "metadata": {},
   "outputs": [
    {
     "name": "stdout",
     "output_type": "stream",
     "text": [
      "train() called: model=GCNAuto, opt=Adam(lr=0.001000), epochs=300, device=cuda\n",
      "\n",
      "Epoch   1/300, LR: 0.0010, train loss: 4.6917, train acc: 0.2632, val loss: 1.2218, val acc: 0.3187\n",
      "Epoch  10/300, LR: 0.0010, train loss: 1.1362, train acc: 0.5062, val loss: 1.0039, val acc: 0.4437\n",
      "Epoch  20/300, LR: 0.0009, train loss: 1.0128, train acc: 0.5771, val loss: 1.1737, val acc: 0.5000\n",
      "Epoch  30/300, LR: 0.0008, train loss: 0.8934, train acc: 0.6208, val loss: 1.1665, val acc: 0.5188\n",
      "Epoch  40/300, LR: 0.0007, train loss: 0.7353, train acc: 0.6944, val loss: 1.6555, val acc: 0.5000\n",
      "Epoch  50/300, LR: 0.0007, train loss: 0.5832, train acc: 0.7632, val loss: 2.0356, val acc: 0.4750\n",
      "Epoch  60/300, LR: 0.0006, train loss: 0.5074, train acc: 0.8035, val loss: 2.0652, val acc: 0.5000\n",
      "Epoch  70/300, LR: 0.0005, train loss: 0.4352, train acc: 0.8410, val loss: 2.7501, val acc: 0.5000\n",
      "Epoch  80/300, LR: 0.0005, train loss: 0.3563, train acc: 0.8611, val loss: 2.5703, val acc: 0.5437\n",
      "Epoch  90/300, LR: 0.0004, train loss: 0.2618, train acc: 0.8972, val loss: 2.9242, val acc: 0.5125\n",
      "Epoch 100/300, LR: 0.0003, train loss: 0.2790, train acc: 0.8965, val loss: 3.2737, val acc: 0.4875\n",
      "Epoch 110/300, LR: 0.0004, train loss: 0.2748, train acc: 0.9146, val loss: 4.6824, val acc: 0.4938\n",
      "Epoch 120/300, LR: 0.0003, train loss: 0.1457, train acc: 0.9444, val loss: 4.7877, val acc: 0.5125\n",
      "Epoch 130/300, LR: 0.0003, train loss: 0.1242, train acc: 0.9576, val loss: 4.9551, val acc: 0.4688\n",
      "Epoch 140/300, LR: 0.0003, train loss: 0.1226, train acc: 0.9528, val loss: 5.4740, val acc: 0.5188\n",
      "Epoch 150/300, LR: 0.0003, train loss: 0.0652, train acc: 0.9736, val loss: 6.1125, val acc: 0.5437\n",
      "Epoch 160/300, LR: 0.0002, train loss: 0.0728, train acc: 0.9833, val loss: 6.5341, val acc: 0.4875\n",
      "Epoch 170/300, LR: 0.0002, train loss: 0.0740, train acc: 0.9799, val loss: 6.1043, val acc: 0.5125\n",
      "Epoch 180/300, LR: 0.0002, train loss: 0.0590, train acc: 0.9750, val loss: 6.3153, val acc: 0.5312\n",
      "Epoch 190/300, LR: 0.0002, train loss: 0.0380, train acc: 0.9882, val loss: 8.0234, val acc: 0.5000\n",
      "Epoch 200/300, LR: 0.0001, train loss: 0.0432, train acc: 0.9868, val loss: 7.8380, val acc: 0.4938\n",
      "Epoch 210/300, LR: 0.0002, train loss: 0.0274, train acc: 0.9924, val loss: 8.3908, val acc: 0.4750\n",
      "Epoch 220/300, LR: 0.0001, train loss: 0.0357, train acc: 0.9896, val loss: 6.6451, val acc: 0.4813\n",
      "Epoch 230/300, LR: 0.0001, train loss: 0.0364, train acc: 0.9896, val loss: 7.7815, val acc: 0.5062\n",
      "Epoch 240/300, LR: 0.0001, train loss: 0.0150, train acc: 0.9938, val loss: 9.1791, val acc: 0.5188\n",
      "Epoch 250/300, LR: 0.0001, train loss: 0.0111, train acc: 0.9958, val loss: 8.3580, val acc: 0.5000\n",
      "Epoch 260/300, LR: 0.0001, train loss: 0.0104, train acc: 0.9979, val loss: 7.7477, val acc: 0.5125\n",
      "Epoch 270/300, LR: 0.0001, train loss: 0.0326, train acc: 0.9931, val loss: 5.5500, val acc: 0.5500\n",
      "Epoch 280/300, LR: 0.0001, train loss: 0.0071, train acc: 0.9986, val loss: 8.8031, val acc: 0.4938\n",
      "Epoch 290/300, LR: 0.0001, train loss: 0.0109, train acc: 0.9958, val loss: 8.0681, val acc: 0.5500\n",
      "Epoch 300/300, LR: 0.0001, train loss: 0.0260, train acc: 0.9931, val loss: 8.5868, val acc: 0.5687\n",
      "\n",
      "Time total:     183.53 sec\n",
      "Time per epoch:  0.61 sec\n",
      "Best val Acc: 0.575000\n"
     ]
    }
   ],
   "source": [
    "from models import GCNAuto\n",
    "from main import init_model_params\n",
    "import torch\n",
    "from train import train_model_2\n",
    "\n",
    "RANDOM_SEED = random_seed\n",
    "N_EPOCHS = 300\n",
    "\n",
    "\n",
    "model = GCNAuto(kernel_type='a',\n",
    "        in_features=PARAMS['SEQ_LEN'], \n",
    "        n_nodes=PARAMS['N_CHANNELS'], \n",
    "        num_classes=PARAMS['N_CLASSES'], \n",
    "        hidden_sizes=PARAMS['GCNAUTO_HIDDEN_SIZES'], \n",
    "        dropout_p=0.5, \n",
    "        device=PARAMS['DEVICE'])\n",
    "\n",
    "model = init_model_params(model, random_seed=RANDOM_SEED)\n",
    "model.init_node_embeddings()\n",
    "\n",
    "model = model.to(PARAMS['DEVICE'])\n",
    "\n",
    "criterion = torch.nn.CrossEntropyLoss()\n",
    "optimizer = torch.optim.Adam(model.parameters(), lr=PARAMS['LR'])\n",
    "scheduler = torch.optim.lr_scheduler.StepLR(optimizer, step_size=10, gamma=0.9)\n",
    "\n",
    "# best_model, history = train_model(dataloaders, dataset_sizes, model, criterion, optimizer, scheduler, PARAMS['N_EPOCHS'], random_seed=random_seed)\n",
    "best_model, history = train_model_2(model, optimizer, scheduler, criterion, dataloaders['train'], dataloaders['val'], N_EPOCHS, RANDOM_SEED, PARAMS['DEVICE'], verbose=True)\n",
    "best_model = best_model.to(PARAMS['DEVICE'])"
   ]
  },
  {
   "cell_type": "code",
   "execution_count": 24,
   "metadata": {},
   "outputs": [],
   "source": [
    "adj = best_model.adj.cpu().detach().numpy()"
   ]
  },
  {
   "cell_type": "code",
   "execution_count": 25,
   "metadata": {},
   "outputs": [
    {
     "data": {
      "text/plain": [
       "<AxesSubplot:>"
      ]
     },
     "execution_count": 25,
     "metadata": {},
     "output_type": "execute_result"
    },
    {
     "data": {
      "image/png": "[encoded data removed]",
      "text/plain": [
       "<Figure size 432x288 with 2 Axes>"
      ]
     },
     "metadata": {
      "needs_background": "light"
     },
     "output_type": "display_data"
    }
   ],
   "source": [
    "import seaborn as sns\n",
    "sns.heatmap(adj)"
   ]
  },
  {
   "cell_type": "code",
   "execution_count": 26,
   "metadata": {},
   "outputs": [],
   "source": [
    "from main import model_predict, print_classification_report\n",
    "\n",
    "y_preds, y_test = model_predict(best_model, test_loader=dataloaders['test'])\n",
    "\n",
    "cr, cm, auroc = print_classification_report(y_test, y_preds, PARAMS['N_CLASSES'])"
   ]
  },
  {
   "cell_type": "code",
   "execution_count": 27,
   "metadata": {},
   "outputs": [
    {
     "name": "stdout",
     "output_type": "stream",
     "text": [
      "{'0': {'precision': 0.4722222222222222, 'recall': 0.4857142857142857, 'f1-score': 0.47887323943661975, 'support': 35}, '1': {'precision': 0.4186046511627907, 'recall': 0.5142857142857142, 'f1-score': 0.4615384615384615, 'support': 35}, '2': {'precision': 0.3055555555555556, 'recall': 0.275, 'f1-score': 0.2894736842105263, 'support': 40}, '3': {'precision': 0.4222222222222222, 'recall': 0.38, 'f1-score': 0.4, 'support': 50}, 'accuracy': 0.40625, 'macro avg': {'precision': 0.4046511627906977, 'recall': 0.41374999999999995, 'f1-score': 0.4074713462964019, 'support': 160}, 'weighted avg': {'precision': 0.4032017118863049, 'recall': 0.40625, 'f1-score': 0.4030834806409306, 'support': 160}}\n"
     ]
    }
   ],
   "source": [
    "print(cr)"
   ]
  },
  {
   "cell_type": "code",
   "execution_count": 28,
   "metadata": {},
   "outputs": [
    {
     "name": "stdout",
     "output_type": "stream",
     "text": [
      "0.6072878787878787\n"
     ]
    }
   ],
   "source": [
    "print(auroc)"
   ]
  },
  {
   "cell_type": "code",
   "execution_count": 29,
   "metadata": {},
   "outputs": [
    {
     "data": {
      "text/plain": [
       "<AxesSubplot:>"
      ]
     },
     "execution_count": 29,
     "metadata": {},
     "output_type": "execute_result"
    },
    {
     "data": {
      "image/png": "[encoded data removed]",
      "text/plain": [
       "<Figure size 432x288 with 2 Axes>"
      ]
     },
     "metadata": {
      "needs_background": "light"
     },
     "output_type": "display_data"
    }
   ],
   "source": [
    "sns.heatmap(cm, annot=True, fmt='g')"
   ]
  },
  {
   "cell_type": "code",
   "execution_count": null,
   "metadata": {},
   "outputs": [],
   "source": []
  }
 ],
 "metadata": {
  "interpreter": {
   "hash": "84c85347d78e9e1e10700c6d8e0f5eee9b662a9651d925575cf1524e055e4541"
  },
  "kernelspec": {
   "display_name": "Python 3.7.12 64-bit ('env': venv)",
   "language": "python",
   "name": "python3"
  },
  "language_info": {
   "codemirror_mode": {
    "name": "ipython",
    "version": 3
   },
   "file_extension": ".py",
   "mimetype": "text/x-python",
   "name": "python",
   "nbconvert_exporter": "python",
   "pygments_lexer": "ipython3",
   "version": "3.7.12"
  },
  "orig_nbformat": 4
 },
 "nbformat": 4,
 "nbformat_minor": 2
}
