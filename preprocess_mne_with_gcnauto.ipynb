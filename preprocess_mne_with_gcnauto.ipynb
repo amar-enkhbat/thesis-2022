{
 "cells": [
  {
   "cell_type": "code",
   "execution_count": 4,
   "metadata": {},
   "outputs": [],
   "source": [
    "import os\n",
    "import numpy as np\n",
    "from tqdm import tqdm\n",
    "import random\n",
    "import json\n",
    "import pickle\n",
    "\n",
    "from mne.channels import make_standard_montage\n",
    "from mne.io import read_raw_edf\n",
    "from mne.datasets import eegbci\n",
    "from mne import events_from_annotations, Epochs, pick_types\n",
    "from mne.decoding import Scaler\n",
    "\n",
    "from sklearn.model_selection import train_test_split\n",
    "from params import PARAMS\n",
    "from train import get_dataloaders\n"
   ]
  },
  {
   "cell_type": "code",
   "execution_count": 5,
   "metadata": {},
   "outputs": [],
   "source": [
    "def generate_preprocessed_data(subject_idc):\n",
    "    \"\"\"\n",
    "    4, 8, 12: Motor imagery: T1: left vs T2: right hand\n",
    "    6, 10, 14: Motor imagery: T1: hands vs T2: feet\n",
    "\n",
    "    label map:\n",
    "    0: left hand\n",
    "    1: right hand\n",
    "    2: fist both hands\n",
    "    3: feet\n",
    "    \"\"\"\n",
    "\n",
    "    dataset_path = 'dataset/physionet.org/files/eegmmidb/1.0.0/'\n",
    "\n",
    "    run_idc = [4, 6, 8, 10, 12, 14]  # motor imagery: hands vs feet\n",
    "\n",
    "    delta = 1. / 160.\n",
    "\n",
    "    whole_data = []\n",
    "    whole_label = []\n",
    "    for subject_idx in subject_idc:\n",
    "        subject_data = []\n",
    "        subject_label = []\n",
    "        for run_idx in run_idc:\n",
    "            fname = os.path.join(dataset_path, f\"S{subject_idx:03d}\", f\"S{subject_idx:03d}R{run_idx:02d}.edf\")\n",
    "            raw = read_raw_edf(fname, preload=True, verbose=False)\n",
    "            eegbci.standardize(raw)  # set channel names\n",
    "            montage = make_standard_montage('standard_1005')\n",
    "            raw.set_montage(montage)\n",
    "\n",
    "            # strip channel names of \".\" characters\n",
    "            raw.rename_channels(lambda x: x.strip('.'))\n",
    "\n",
    "            if run_idx in [4, 8, 12]:\n",
    "                events, event_id = events_from_annotations(raw, event_id=dict(T1=0, T2=1), verbose=False)\n",
    "            elif run_idx in [6, 10, 14]:\n",
    "                events, event_id = events_from_annotations(raw, event_id=dict(T1=2, T2=3), verbose=False)\n",
    "\n",
    "            picks = pick_types(raw.info, meg=False, eeg=True, stim=False, eog=False, exclude='bads')\n",
    "\n",
    "            epochs = Epochs(raw, events, event_id=event_id, tmin=0, tmax=100/160 - delta, baseline=None, preload=True, proj=False, picks=picks, verbose=False)\n",
    "            \n",
    "            data = epochs.get_data()\n",
    "            label = epochs.events[:, -1]\n",
    "\n",
    "            subject_data.append(data)\n",
    "            subject_label.append(label)\n",
    "\n",
    "        subject_data = np.vstack(subject_data)\n",
    "        subject_label = np.hstack(subject_label)\n",
    "        \n",
    "        whole_data.append(subject_data)\n",
    "        whole_label.append(subject_label)\n",
    "\n",
    "    whole_data = np.vstack(whole_data).astype(np.float32)\n",
    "    whole_label = np.hstack(whole_label)\n",
    "\n",
    "\n",
    "    scaler = Scaler(scalings='mean')\n",
    "    whole_data = scaler.fit_transform(whole_data)\n",
    "    \n",
    "    return whole_data, whole_label"
   ]
  },
  {
   "cell_type": "code",
   "execution_count": 6,
   "metadata": {},
   "outputs": [
    {
     "name": "stderr",
     "output_type": "stream",
     "text": [
      "100%|██████████| 1/1 [00:25<00:00, 25.27s/it]\n",
      "100%|██████████| 1/1 [00:00<00:00,  1.48it/s]\n"
     ]
    }
   ],
   "source": [
    "def split_subjects(n_splits):\n",
    "    subject_idc = [i for i in range(1, 110)]\n",
    "    exclusions = [88, 89, 92, 100]\n",
    "    subject_idc = [i for i in subject_idc if i not in exclusions]\n",
    "\n",
    "    for i in tqdm(range(n_splits)):\n",
    "        test_idc = random.sample(subject_idc, 10)\n",
    "        train_idc = [i for i in subject_idc if i not in test_idc]\n",
    "\n",
    "        idc_dict = {'train_idc': train_idc, 'test_idc': test_idc}\n",
    "        json.dump(idc_dict, open(f\"./dataset/train/cross_subject_data_{i}.json\", \"w\"))\n",
    "\n",
    "        X_train, y_train = generate_preprocessed_data(train_idc)\n",
    "        X_test, y_test = generate_preprocessed_data(test_idc)\n",
    "\n",
    "        cross_subject_data = {\"X_train\": X_train, \"y_train\": y_train, \"X_test\": X_test, \"y_test\": y_test}\n",
    "\n",
    "        pickle.dump(cross_subject_data, open(f\"./dataset/train/cross_subject_data_{i}_mne.pickle\", \"wb\"))\n",
    "\n",
    "\n",
    "split_subjects(n_splits=1)\n",
    "\n",
    "def split_samples(n_splits):\n",
    "    subject_idc = [i for i in range(1, 110)]\n",
    "    exclusions = [88, 89, 92, 100]\n",
    "    subject_idc = [i for i in subject_idc if i not in exclusions]\n",
    "\n",
    "    X, y = generate_preprocessed_data(subject_idc)\n",
    "    \n",
    "    for i in tqdm(range(n_splits)):\n",
    "        X_train, X_test, y_train, y_test = train_test_split(X, y, test_size=PARAMS['TEST_SIZE'], shuffle=True, random_state=PARAMS['RANDOM_SEEDS'][i])\n",
    "\n",
    "        cross_subject_data = {\"X_train\": X_train, \"y_train\": y_train, \"X_test\": X_test, \"y_test\": y_test}\n",
    "\n",
    "        pickle.dump(cross_subject_data, open(f\"./dataset/train/cross_subject_data_{i}_mne.pickle\", \"wb\"))\n",
    "\n",
    "\n",
    "split_samples(n_splits=1)"
   ]
  },
  {
   "cell_type": "code",
   "execution_count": 7,
   "metadata": {},
   "outputs": [],
   "source": [
    "dataset = pickle.load(open('dataset/train/cross_subject_data_0_mne.pickle', 'rb'))"
   ]
  },
  {
   "cell_type": "code",
   "execution_count": 8,
   "metadata": {},
   "outputs": [
    {
     "data": {
      "text/plain": [
       "dict_keys(['X_train', 'y_train', 'X_test', 'y_test'])"
      ]
     },
     "execution_count": 8,
     "metadata": {},
     "output_type": "execute_result"
    }
   ],
   "source": [
    "dataset.keys()"
   ]
  },
  {
   "cell_type": "code",
   "execution_count": 9,
   "metadata": {},
   "outputs": [
    {
     "name": "stdout",
     "output_type": "stream",
     "text": [
      "Data sizes:\n",
      "Train sizes:\n",
      "(7558, 64, 100)\n",
      "(7558,)\n",
      "Valid sizes:\n",
      "(945, 64, 100)\n",
      "(945,)\n",
      "Test sizes:\n",
      "(945, 64, 100)\n",
      "(945,)\n"
     ]
    }
   ],
   "source": [
    "\n",
    "\n",
    "random_seed = 0\n",
    "X_train, X_test, y_train, y_test = dataset['X_train'], dataset['X_test'], dataset['y_train'], dataset['y_test'] \n",
    "X_train, X_valid, y_train, y_valid = train_test_split(X_train, y_train, test_size=PARAMS['VALID_SIZE'], shuffle=True, random_state=random_seed)\n",
    "print('Data sizes:')\n",
    "print('Train sizes:')\n",
    "print(X_train.shape)\n",
    "print(y_train.shape)\n",
    "print('Valid sizes:')\n",
    "print(X_valid.shape)\n",
    "print(y_valid.shape)\n",
    "print('Test sizes:')\n",
    "print(X_test.shape)\n",
    "print(y_test.shape)\n",
    "\n",
    "dataloaders = get_dataloaders(X_train, y_train, X_valid, y_valid, X_test, y_test, PARAMS['BATCH_SIZE'], random_seed=random_seed, device=PARAMS['DEVICE'])"
   ]
  },
  {
   "cell_type": "code",
   "execution_count": 10,
   "metadata": {},
   "outputs": [
    {
     "name": "stdout",
     "output_type": "stream",
     "text": [
      "train() called: model=GCNAuto, opt=Adam(lr=0.001000), epochs=100, device=cuda\n",
      "\n",
      "Epoch   1/100, LR: 0.0010, train loss: 1.5141, train acc: 0.4691, val loss: 1.1417, val acc: 0.5054\n",
      "Epoch  10/100, LR: 0.0010, train loss: 1.0460, train acc: 0.5900, val loss: 1.1319, val acc: 0.5409\n",
      "Epoch  20/100, LR: 0.0009, train loss: 0.8247, train acc: 0.6798, val loss: 1.1995, val acc: 0.5550\n",
      "Epoch  30/100, LR: 0.0008, train loss: 0.5562, train acc: 0.7969, val loss: 1.6374, val acc: 0.5528\n",
      "Epoch  40/100, LR: 0.0007, train loss: 0.2794, train acc: 0.8972, val loss: 2.3427, val acc: 0.5345\n",
      "Epoch  50/100, LR: 0.0007, train loss: 0.1621, train acc: 0.9457, val loss: 3.1317, val acc: 0.5259\n",
      "Epoch  60/100, LR: 0.0006, train loss: 0.1554, train acc: 0.9527, val loss: 4.1660, val acc: 0.5388\n",
      "Epoch  70/100, LR: 0.0005, train loss: 0.0514, train acc: 0.9832, val loss: 4.6645, val acc: 0.5312\n",
      "Epoch  80/100, LR: 0.0005, train loss: 0.0550, train acc: 0.9837, val loss: 4.9012, val acc: 0.5474\n",
      "Epoch  90/100, LR: 0.0004, train loss: 0.0840, train acc: 0.9782, val loss: 5.5772, val acc: 0.5550\n",
      "Epoch 100/100, LR: 0.0003, train loss: 0.0578, train acc: 0.9844, val loss: 6.0912, val acc: 0.5485\n",
      "\n",
      "Time total:     306.05 sec\n",
      "Time per epoch:  3.06 sec\n",
      "Best val Acc: 0.592672\n"
     ]
    }
   ],
   "source": [
    "from models import GCNAuto\n",
    "from main import init_model_params\n",
    "import torch\n",
    "from train import train_model_2\n",
    "\n",
    "RANDOM_SEED = random_seed\n",
    "N_EPOCHS = 100\n",
    "\n",
    "\n",
    "model = GCNAuto(kernel_type='a',\n",
    "        in_features=PARAMS['SEQ_LEN'], \n",
    "        n_nodes=PARAMS['N_CHANNELS'], \n",
    "        num_classes=PARAMS['N_CLASSES'], \n",
    "        hidden_sizes=PARAMS['GCNAUTO_HIDDEN_SIZES'], \n",
    "        dropout_p=PARAMS['GCNAUTO_DROPOUT_P'], \n",
    "        device=PARAMS['DEVICE'])\n",
    "\n",
    "model = init_model_params(model, random_seed=RANDOM_SEED)\n",
    "model.init_node_embeddings()\n",
    "\n",
    "model = model.to(PARAMS['DEVICE'])\n",
    "\n",
    "criterion = torch.nn.CrossEntropyLoss()\n",
    "optimizer = torch.optim.Adam(model.parameters(), lr=PARAMS['LR'])\n",
    "scheduler = torch.optim.lr_scheduler.StepLR(optimizer, step_size=10, gamma=0.9)\n",
    "\n",
    "# best_model, history = train_model(dataloaders, dataset_sizes, model, criterion, optimizer, scheduler, PARAMS['N_EPOCHS'], random_seed=random_seed)\n",
    "best_model, history = train_model_2(model, optimizer, scheduler, criterion, dataloaders['train'], dataloaders['val'], N_EPOCHS, RANDOM_SEED, PARAMS['DEVICE'], verbose=True)\n",
    "best_model = best_model.to(PARAMS['DEVICE'])"
   ]
  },
  {
   "cell_type": "code",
   "execution_count": 11,
   "metadata": {},
   "outputs": [],
   "source": [
    "adj = best_model.adj.cpu().detach().numpy()"
   ]
  },
  {
   "cell_type": "code",
   "execution_count": 12,
   "metadata": {},
   "outputs": [
    {
     "data": {
      "text/plain": [
       "<AxesSubplot:>"
      ]
     },
     "execution_count": 12,
     "metadata": {},
     "output_type": "execute_result"
    },
    {
     "data": {
      "image/png": "[encoded data removed]",
      "text/plain": [
       "<Figure size 432x288 with 2 Axes>"
      ]
     },
     "metadata": {
      "needs_background": "light"
     },
     "output_type": "display_data"
    }
   ],
   "source": [
    "import seaborn as sns\n",
    "sns.heatmap(adj)"
   ]
  },
  {
   "cell_type": "code",
   "execution_count": 13,
   "metadata": {},
   "outputs": [],
   "source": [
    "from main import model_predict, print_classification_report\n",
    "\n",
    "y_preds, y_test = model_predict(best_model, test_loader=dataloaders['test'])\n",
    "\n",
    "cr, cm, auroc = print_classification_report(y_test, y_preds, PARAMS['N_CLASSES'])"
   ]
  },
  {
   "cell_type": "code",
   "execution_count": 14,
   "metadata": {},
   "outputs": [
    {
     "name": "stdout",
     "output_type": "stream",
     "text": [
      "{'0': {'precision': 0.6502242152466368, 'recall': 0.6304347826086957, 'f1-score': 0.6401766004415012, 'support': 230}, '1': {'precision': 0.6074766355140186, 'recall': 0.5508474576271186, 'f1-score': 0.5777777777777777, 'support': 236}, '2': {'precision': 0.43724696356275305, 'recall': 0.4778761061946903, 'f1-score': 0.4566596194503172, 'support': 226}, '3': {'precision': 0.5655737704918032, 'recall': 0.5847457627118644, 'f1-score': 0.575, 'support': 236}, 'accuracy': 0.5614224137931034, 'macro avg': {'precision': 0.565130396203803, 'recall': 0.5609760272855923, 'f1-score': 0.562403499417399, 'support': 928}, 'weighted avg': {'precision': 0.5659582748806925, 'recall': 0.5614224137931034, 'f1-score': 0.5630401375569747, 'support': 928}}\n"
     ]
    }
   ],
   "source": [
    "print(cr)"
   ]
  },
  {
   "cell_type": "code",
   "execution_count": 15,
   "metadata": {},
   "outputs": [
    {
     "name": "stdout",
     "output_type": "stream",
     "text": [
      "0.7074480107681708\n"
     ]
    }
   ],
   "source": [
    "print(auroc)"
   ]
  },
  {
   "cell_type": "code",
   "execution_count": 16,
   "metadata": {},
   "outputs": [
    {
     "data": {
      "text/plain": [
       "<AxesSubplot:>"
      ]
     },
     "execution_count": 16,
     "metadata": {},
     "output_type": "execute_result"
    },
    {
     "data": {
      "image/png": "[encoded data removed]",
      "text/plain": [
       "<Figure size 432x288 with 2 Axes>"
      ]
     },
     "metadata": {
      "needs_background": "light"
     },
     "output_type": "display_data"
    }
   ],
   "source": [
    "sns.heatmap(cm, annot=True, fmt='g')"
   ]
  },
  {
   "cell_type": "code",
   "execution_count": null,
   "metadata": {},
   "outputs": [],
   "source": []
  }
 ],
 "metadata": {
  "interpreter": {
   "hash": "84c85347d78e9e1e10700c6d8e0f5eee9b662a9651d925575cf1524e055e4541"
  },
  "kernelspec": {
   "display_name": "Python 3.7.12 64-bit ('env': venv)",
   "language": "python",
   "name": "python3"
  },
  "language_info": {
   "codemirror_mode": {
    "name": "ipython",
    "version": 3
   },
   "file_extension": ".py",
   "mimetype": "text/x-python",
   "name": "python",
   "nbconvert_exporter": "python",
   "pygments_lexer": "ipython3",
   "version": "3.7.12"
  },
  "orig_nbformat": 4
 },
 "nbformat": 4,
 "nbformat_minor": 2
}
