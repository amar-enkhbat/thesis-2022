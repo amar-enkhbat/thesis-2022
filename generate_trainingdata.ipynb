{
 "metadata": {
  "language_info": {
   "codemirror_mode": {
    "name": "ipython",
    "version": 3
   },
   "file_extension": ".py",
   "mimetype": "text/x-python",
   "name": "python",
   "nbconvert_exporter": "python",
   "pygments_lexer": "ipython3",
   "version": "3.7.10"
  },
  "orig_nbformat": 2,
  "kernelspec": {
   "name": "pythonjvsc74a57bd012a080800f0f6eb796e5b7bb3766959f93357da22153b807b16296d7db7fdd01",
   "display_name": "Python 3.7.10  ('env': venv)"
  },
  "metadata": {
   "interpreter": {
    "hash": "12a080800f0f6eb796e5b7bb3766959f93357da22153b807b16296d7db7fdd01"
   }
  }
 },
 "nbformat": 4,
 "nbformat_minor": 2,
 "cells": [
  {
   "cell_type": "code",
   "execution_count": 4,
   "metadata": {},
   "outputs": [],
   "source": [
    "import mne\n",
    "import os\n",
    "import numpy as np\n",
    "import pandas as pd\n",
    "from tqdm import tqdm\n",
    "import random\n",
    "\n",
    "random_seed = 1\n",
    "random.seed(random_seed)\n",
    "np.random.seed(random_seed)"
   ]
  },
  {
   "cell_type": "code",
   "execution_count": 5,
   "metadata": {},
   "outputs": [],
   "source": [
    "# Create training data"
   ]
  },
  {
   "cell_type": "code",
   "execution_count": 6,
   "metadata": {},
   "outputs": [],
   "source": [
    "exclusions = [\"S088\", \"S089\", \"S092\", \"S100\"]\n",
    "subjects_idc = [f\"S{i:03d}\" for i in range(1, 110)]\n",
    "subjects_idc = [i for i in subjects_idc if i not in exclusions]"
   ]
  },
  {
   "cell_type": "code",
   "execution_count": 7,
   "metadata": {},
   "outputs": [],
   "source": [
    "test_idc = random.sample(subjects_idc, 10)\n",
    "train_idc = [i for i in subjects_idc if i not in test_idc]"
   ]
  },
  {
   "cell_type": "code",
   "execution_count": 8,
   "metadata": {},
   "outputs": [
    {
     "output_type": "stream",
     "name": "stdout",
     "text": [
      "['S001', 'S002', 'S003', 'S004', 'S005', 'S006', 'S007', 'S008', 'S010', 'S011', 'S012', 'S013', 'S014', 'S015', 'S017', 'S019', 'S020', 'S021', 'S022', 'S023', 'S024', 'S025', 'S026', 'S027', 'S028', 'S029', 'S030', 'S031', 'S032', 'S034', 'S035', 'S036', 'S037', 'S038', 'S039', 'S040', 'S041', 'S042', 'S043', 'S044', 'S045', 'S046', 'S047', 'S048', 'S049', 'S050', 'S051', 'S052', 'S053', 'S054', 'S055', 'S056', 'S057', 'S059', 'S060', 'S062', 'S063', 'S065', 'S066', 'S067', 'S068', 'S069', 'S070', 'S071', 'S072', 'S074', 'S075', 'S076', 'S077', 'S078', 'S079', 'S080', 'S081', 'S082', 'S083', 'S084', 'S085', 'S086', 'S087', 'S090', 'S091', 'S093', 'S094', 'S095', 'S096', 'S097', 'S098', 'S099', 'S101', 'S103', 'S104', 'S105', 'S106', 'S108', 'S109']\n95\n"
     ]
    }
   ],
   "source": [
    "print(train_idc)\n",
    "print(len(train_idc))"
   ]
  },
  {
   "cell_type": "code",
   "execution_count": 9,
   "metadata": {},
   "outputs": [
    {
     "output_type": "stream",
     "name": "stdout",
     "text": [
      "['S018', 'S073', 'S107', 'S102', 'S009', 'S033', 'S016', 'S064', 'S058', 'S061']\n"
     ]
    }
   ],
   "source": [
    "print(test_idc)"
   ]
  },
  {
   "cell_type": "code",
   "execution_count": 10,
   "metadata": {},
   "outputs": [],
   "source": [
    "filename = \"cross_subject_data_1.pickle\""
   ]
  },
  {
   "cell_type": "code",
   "execution_count": 11,
   "metadata": {},
   "outputs": [],
   "source": [
    "X_train = np.empty((0, 64))\n",
    "y_train = np.empty((0,))\n",
    "X_test = np.empty((0, 64))\n",
    "y_test = np.empty((0,))\n",
    "\n",
    "for subject_id in tqdm(train_idc):\n",
    "    df = pd.read_csv(f\"dataset/physionet.org_csv/{subject_id}/{subject_id}.csv\")\n",
    "    X_train = np.vstack((X_train, df.iloc[:, 3:].values))\n",
    "    y_train = np.hstack((y_train, df[\"label\"].values))"
   ]
  },
  {
   "cell_type": "code",
   "execution_count": null,
   "metadata": {},
   "outputs": [],
   "source": [
    "for subject_id in tqdm(test_idc):\n",
    "    df = pd.read_csv(f\"dataset/physionet.org_csv/{subject_id}/{subject_id}.csv\")\n",
    "    X_test = np.vstack((X_test, df.iloc[:, 3:].values))\n",
    "    y_test = np.hstack((y_test, df[\"label\"].values))"
   ]
  },
  {
   "cell_type": "code",
   "execution_count": null,
   "metadata": {},
   "outputs": [],
   "source": [
    "cross_subject_data = {\"train_x\": X_train, \"train_y\": y_train, \"test_x\": X_test, \"test_y\": y_test}"
   ]
  }
 ]
}